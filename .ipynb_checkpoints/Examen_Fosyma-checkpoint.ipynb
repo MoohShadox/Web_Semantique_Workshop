{
 "cells": [
  {
   "cell_type": "code",
   "execution_count": 7,
   "metadata": {},
   "outputs": [
    {
     "name": "stdout",
     "output_type": "stream",
     "text": [
      "1 [[1, 2, 3, 4, 5]]\n",
      "2 [[1], [2, 3, 4, 5]]\n",
      "3 [[1, 2], [3, 4, 5]]\n",
      "4 [[1, 3, 4, 5], [2]]\n",
      "5 [[1], [2], [3, 4, 5]]\n",
      "6 [[1, 2, 3], [4, 5]]\n",
      "7 [[1, 4, 5], [2, 3]]\n",
      "8 [[1], [2, 3], [4, 5]]\n",
      "9 [[1, 3], [2, 4, 5]]\n",
      "10 [[1, 2, 4, 5], [3]]\n",
      "11 [[1], [2, 4, 5], [3]]\n",
      "12 [[1, 2], [3], [4, 5]]\n",
      "13 [[1, 3], [2], [4, 5]]\n",
      "14 [[1, 4, 5], [2], [3]]\n",
      "15 [[1], [2], [3], [4, 5]]\n",
      "16 [[1, 2, 3, 4], [5]]\n",
      "17 [[1, 5], [2, 3, 4]]\n",
      "18 [[1], [2, 3, 4], [5]]\n",
      "19 [[1, 3, 4], [2, 5]]\n",
      "20 [[1, 2, 5], [3, 4]]\n",
      "21 [[1], [2, 5], [3, 4]]\n",
      "22 [[1, 2], [3, 4], [5]]\n",
      "23 [[1, 3, 4], [2], [5]]\n",
      "24 [[1, 5], [2], [3, 4]]\n",
      "25 [[1], [2], [3, 4], [5]]\n",
      "26 [[1, 2, 4], [3, 5]]\n",
      "27 [[1, 3, 5], [2, 4]]\n",
      "28 [[1], [2, 4], [3, 5]]\n",
      "29 [[1, 4], [2, 3, 5]]\n",
      "30 [[1, 2, 3, 5], [4]]\n",
      "31 [[1], [2, 3, 5], [4]]\n",
      "32 [[1, 2], [3, 5], [4]]\n",
      "33 [[1, 4], [2], [3, 5]]\n",
      "34 [[1, 3, 5], [2], [4]]\n",
      "35 [[1], [2], [3, 5], [4]]\n",
      "36 [[1, 2, 3], [4], [5]]\n",
      "37 [[1, 4], [2, 3], [5]]\n",
      "38 [[1, 5], [2, 3], [4]]\n",
      "39 [[1], [2, 3], [4], [5]]\n",
      "40 [[1, 3], [2, 4], [5]]\n",
      "41 [[1, 2, 4], [3], [5]]\n",
      "42 [[1, 5], [2, 4], [3]]\n",
      "43 [[1], [2, 4], [3], [5]]\n",
      "44 [[1, 3], [2, 5], [4]]\n",
      "45 [[1, 4], [2, 5], [3]]\n",
      "46 [[1, 2, 5], [3], [4]]\n",
      "47 [[1], [2, 5], [3], [4]]\n",
      "48 [[1, 2], [3], [4], [5]]\n",
      "49 [[1, 3], [2], [4], [5]]\n",
      "50 [[1, 4], [2], [3], [5]]\n",
      "51 [[1, 5], [2], [3], [4]]\n",
      "52 [[1], [2], [3], [4], [5]]\n"
     ]
    }
   ],
   "source": [
    "def partition(collection):\n",
    "    if len(collection) == 1:\n",
    "        yield [ collection ]\n",
    "        return\n",
    "\n",
    "    first = collection[0]\n",
    "    for smaller in partition(collection[1:]):\n",
    "        # insert `first` in each of the subpartition's subsets\n",
    "        for n, subset in enumerate(smaller):\n",
    "            yield smaller[:n] + [[ first ] + subset]  + smaller[n+1:]\n",
    "        # put `first` in its own subset \n",
    "        yield [ [ first ] ] + smaller\n",
    "\n",
    "\n",
    "something = list(range(1,6))\n",
    "\n",
    "for n, p in enumerate(partition(something), 1):\n",
    "    print(n, sorted(p))"
   ]
  },
  {
   "cell_type": "code",
   "execution_count": 3,
   "metadata": {},
   "outputs": [],
   "source": []
  },
  {
   "cell_type": "code",
   "execution_count": null,
   "metadata": {},
   "outputs": [],
   "source": []
  },
  {
   "cell_type": "code",
   "execution_count": null,
   "metadata": {},
   "outputs": [],
   "source": []
  },
  {
   "cell_type": "code",
   "execution_count": null,
   "metadata": {},
   "outputs": [],
   "source": []
  }
 ],
 "metadata": {
  "kernelspec": {
   "display_name": "PyCharm (RLLab2)",
   "language": "python",
   "name": "pycharm-fe7a6dad"
  },
  "language_info": {
   "codemirror_mode": {
    "name": "ipython",
    "version": 3
   },
   "file_extension": ".py",
   "mimetype": "text/x-python",
   "name": "python",
   "nbconvert_exporter": "python",
   "pygments_lexer": "ipython3",
   "version": "3.7.4"
  }
 },
 "nbformat": 4,
 "nbformat_minor": 2
}
