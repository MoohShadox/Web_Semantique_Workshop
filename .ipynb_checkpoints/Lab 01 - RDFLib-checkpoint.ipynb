{
 "cells": [
  {
   "cell_type": "markdown",
   "metadata": {},
   "source": [
    "### RDFLib Workshop\n",
    "Ce notebook sert de suport aux slides du workshop disponibles en consultation sur le lien github : "
   ]
  },
  {
   "cell_type": "code",
   "execution_count": 1,
   "metadata": {},
   "outputs": [
    {
     "name": "stdout",
     "output_type": "stream",
     "text": [
      "Requirement already satisfied: rdflib in /home/mohamed/anaconda3/lib/python3.7/site-packages (4.2.2)\r\n",
      "Requirement already satisfied: isodate in /home/mohamed/anaconda3/lib/python3.7/site-packages (from rdflib) (0.6.0)\r\n",
      "Requirement already satisfied: pyparsing in /home/mohamed/anaconda3/lib/python3.7/site-packages (from rdflib) (2.4.2)\r\n",
      "Requirement already satisfied: six in /home/mohamed/anaconda3/lib/python3.7/site-packages (from isodate->rdflib) (1.12.0)\r\n"
     ]
    }
   ],
   "source": [
    "!pip install rdflib\n",
    "import rdflib"
   ]
  },
  {
   "cell_type": "code",
   "execution_count": 2,
   "metadata": {},
   "outputs": [],
   "source": [
    "myont_ns = \"http://www.co-ode.org/ontologies/ont.owl#\"\n",
    "\n",
    "foaf_ns = \"http://xmlns.com/foaf/0.1/\"\n",
    "\n",
    "rdf_url = \"https://Data#\"\n",
    "\n",
    "def ajouter_patient(nom,prenom,nss):\n",
    "    graphe = rdflib.Graph()\n",
    "    \n",
    "    uri_patient = rdf_url+nss\n",
    "    patient_r = rdflib.URIRef(uri_patient)\n",
    "    \n",
    "    name_relation = rdflib.URIRef(foaf_ns+\"givenName\")\n",
    "    familyname_relation = rdflib.URIRef(foaf_ns+\"familyName\")\n",
    "    \n",
    "    name_literal = rdflib.Literal(nom)\n",
    "    familyname_literal = rdflib.Literal(prenom)\n",
    "    \n",
    "    graphe.add((patient_r,name_relation,name_literal))\n",
    "    graphe.add((patient_r,familyname_relation,familyname_literal))\n",
    "    \n",
    "    return graphe"
   ]
  },
  {
   "cell_type": "code",
   "execution_count": 3,
   "metadata": {},
   "outputs": [],
   "source": [
    "#Utile pour recréer un nouveau fichier\n",
    "f = open(\"database.rdf\",\"w\")"
   ]
  },
  {
   "cell_type": "code",
   "execution_count": 4,
   "metadata": {},
   "outputs": [],
   "source": [
    "graphe = rdflib.Graph()\n",
    "graphe = graphe + ajouter_patient(\"Mohamed\",\"Ouaguenouni\",\"12\")\n",
    "graphe.serialize(\"database.rdf\")"
   ]
  },
  {
   "cell_type": "code",
   "execution_count": 5,
   "metadata": {},
   "outputs": [
    {
     "name": "stdout",
     "output_type": "stream",
     "text": [
      "<?xml version=\"1.0\" encoding=\"UTF-8\"?>\r\n",
      "<rdf:RDF\r\n",
      "   xmlns:ns1=\"http://xmlns.com/foaf/0.1/\"\r\n",
      "   xmlns:rdf=\"http://www.w3.org/1999/02/22-rdf-syntax-ns#\"\r\n",
      ">\r\n",
      "  <rdf:Description rdf:about=\"https://Data#12\">\r\n",
      "    <ns1:familyName>Ouaguenouni</ns1:familyName>\r\n",
      "    <ns1:givenName>Mohamed</ns1:givenName>\r\n",
      "  </rdf:Description>\r\n",
      "</rdf:RDF>\r\n"
     ]
    }
   ],
   "source": [
    "!cat database.rdf "
   ]
  },
  {
   "cell_type": "code",
   "execution_count": 6,
   "metadata": {},
   "outputs": [
    {
     "name": "stdout",
     "output_type": "stream",
     "text": [
      "@prefix ns1: <http://xmlns.com/foaf/0.1/> .\r\n",
      "@prefix rdf: <http://www.w3.org/1999/02/22-rdf-syntax-ns#> .\r\n",
      "@prefix rdfs: <http://www.w3.org/2000/01/rdf-schema#> .\r\n",
      "@prefix xml: <http://www.w3.org/XML/1998/namespace> .\r\n",
      "@prefix xsd: <http://www.w3.org/2001/XMLSchema#> .\r\n",
      "\r\n",
      "<https://Data#12> ns1:familyName \"Ouaguenouni\" ;\r\n",
      "    ns1:givenName \"Mohamed\" .\r\n",
      "\r\n"
     ]
    }
   ],
   "source": [
    "graphe.serialize(\"database.rdf\",\"turtle\")\n",
    "!cat database.rdf"
   ]
  },
  {
   "cell_type": "code",
   "execution_count": 7,
   "metadata": {},
   "outputs": [],
   "source": [
    "def ajouter_practicien(nom,ide):\n",
    "    graphe = rdflib.Graph()\n",
    "    ur_practicien = rdf_url+\"P\"+ide\n",
    "    practicien_r = rdflib.URIRef(ur_practicien)\n",
    "    name_relation = rdflib.URIRef(foaf_ns+\"givenName\")\n",
    "    name_literal = rdflib.Literal(nom)\n",
    "    graphe.add((practicien_r,name_relation,name_literal))\n",
    "    return graphe\n"
   ]
  },
  {
   "cell_type": "code",
   "execution_count": 8,
   "metadata": {},
   "outputs": [
    {
     "name": "stdout",
     "output_type": "stream",
     "text": [
      "@prefix ns1: <http://xmlns.com/foaf/0.1/> .\r\n",
      "@prefix rdf: <http://www.w3.org/1999/02/22-rdf-syntax-ns#> .\r\n",
      "@prefix rdfs: <http://www.w3.org/2000/01/rdf-schema#> .\r\n",
      "@prefix xml: <http://www.w3.org/XML/1998/namespace> .\r\n",
      "@prefix xsd: <http://www.w3.org/2001/XMLSchema#> .\r\n",
      "\r\n",
      "<https://Data#12> ns1:familyName \"Ouaguenouni\" ;\r\n",
      "    ns1:givenName \"Mohamed\" .\r\n",
      "\r\n",
      "<https://Data#P12> ns1:givenName \"Amine\" .\r\n",
      "\r\n"
     ]
    }
   ],
   "source": [
    "graphe = graphe + ajouter_practicien(\"Amine\",\"12\")\n",
    "graphe.serialize(\"database.rdf\",\"turtle\")\n",
    "!cat database.rdf "
   ]
  },
  {
   "cell_type": "code",
   "execution_count": 9,
   "metadata": {},
   "outputs": [],
   "source": [
    "def enregistrer_consultation(idpracticien,nss):\n",
    "    graphe = rdflib.Graph()\n",
    "    bl = rdflib.BNode()\n",
    "    ur_practicien = rdf_url+\"P\"+idpracticien\n",
    "    uri_patient = rdf_url+nss\n",
    "    practicien_r = rdflib.URIRef(ur_practicien)\n",
    "    patient_r = rdflib.URIRef(uri_patient)\n",
    "    consultation_effectue = rdflib.URIRef(myont_ns+\"a_effectue\")\n",
    "    consultation_prise = rdflib.URIRef(myont_ns+\"a_consulte\")\n",
    "    graphe.add( (practicien_r,consultation_effectue,bl) )\n",
    "    graphe.add( (patient_r,consultation_prise,bl) )\n",
    "    return graphe\n",
    "    \n"
   ]
  },
  {
   "cell_type": "code",
   "execution_count": 10,
   "metadata": {},
   "outputs": [
    {
     "name": "stdout",
     "output_type": "stream",
     "text": [
      "@prefix ns1: <http://xmlns.com/foaf/0.1/> .\r\n",
      "@prefix ns2: <http://www.co-ode.org/ontologies/ont.owl#> .\r\n",
      "@prefix rdf: <http://www.w3.org/1999/02/22-rdf-syntax-ns#> .\r\n",
      "@prefix rdfs: <http://www.w3.org/2000/01/rdf-schema#> .\r\n",
      "@prefix xml: <http://www.w3.org/XML/1998/namespace> .\r\n",
      "@prefix xsd: <http://www.w3.org/2001/XMLSchema#> .\r\n",
      "\r\n",
      "<https://Data#12> ns2:a_consulte _:Na88fefa212d742039c6645f0d531905b ;\r\n",
      "    ns1:familyName \"Ouaguenouni\" ;\r\n",
      "    ns1:givenName \"Mohamed\" .\r\n",
      "\r\n",
      "<https://Data#P12> ns2:a_effectue _:Na88fefa212d742039c6645f0d531905b ;\r\n",
      "    ns1:givenName \"Amine\" .\r\n",
      "\r\n"
     ]
    }
   ],
   "source": [
    "graphe = graphe + enregistrer_consultation(\"12\",\"12\")\n",
    "graphe.serialize(\"database.rdf\",\"turtle\")\n",
    "!cat database.rdf"
   ]
  },
  {
   "cell_type": "raw",
   "metadata": {},
   "source": [
    "@prefix ns1: <http://xmlns.com/foaf/0.1/> .\n",
    "@prefix ns2: <http://www.co-ode.org/ontologies/ont.owl#> .\n",
    "@prefix rdf: <http://www.w3.org/1999/02/22-rdf-syntax-ns#> .\n",
    "@prefix rdfs: <http://www.w3.org/2000/01/rdf-schema#> .\n",
    "@prefix xml: <http://www.w3.org/XML/1998/namespace> .\n",
    "@prefix xsd: <http://www.w3.org/2001/XMLSchema#> .\n",
    "\n",
    "<https://Data#12> ns2:a_consulte _:N258604ec7f904f529a21b654ab479978 ;\n",
    "    ns1:familyName \"Ouaguenouni\" ;\n",
    "    ns1:givenName \"Mohamed\" .\n",
    "\n",
    "<https://Data#P12> ns2:a_effectue _:N258604ec7f904f529a21b654ab479978 ."
   ]
  },
  {
   "cell_type": "code",
   "execution_count": 11,
   "metadata": {},
   "outputs": [],
   "source": [
    "def ajouter_patient(nom,prenom,nss):\n",
    "    graphe = rdflib.Graph()\n",
    "    uri_patient = rdf_url+nss\n",
    "    patient_r = rdflib.URIRef(uri_patient)\n",
    "    name_relation = rdflib.URIRef(foaf_ns+\"givenName\")\n",
    "    familyname_relation = rdflib.URIRef(foaf_ns+\"familyName\")\n",
    "    name_literal = rdflib.Literal(nom)\n",
    "    familyname_literal = rdflib.Literal(prenom)\n",
    "    graphe.add((patient_r,name_relation,name_literal))\n",
    "    graphe.add((patient_r,familyname_relation,familyname_literal))\n",
    "    #On ajoute le type patient\n",
    "    concept_patient = rdflib.URIRef(myont_ns+\"Patient\")\n",
    "    graphe.add((patient_r,rdflib.RDF.term(\"type\"),concept_patient))\n",
    "    return graphe\n",
    "\n",
    "\n",
    "def ajouter_practicien(nom,ide):\n",
    "    graphe = rdflib.Graph()\n",
    "    ur_practicien = rdf_url+\"P\"+ide\n",
    "    practicien_r = rdflib.URIRef(ur_practicien)\n",
    "    name_relation = rdflib.URIRef(foaf_ns+\"givenName\")\n",
    "    name_literal = rdflib.Literal(nom)\n",
    "    graphe.add((practicien_r,name_relation,name_literal))\n",
    "    concept_practicien= rdflib.URIRef(myont_ns+\"Practicien\")\n",
    "    graphe.add((practicien_r,rdflib.RDF.term(\"type\"),concept_practicien))\n",
    "    return graphe\n"
   ]
  },
  {
   "cell_type": "code",
   "execution_count": 12,
   "metadata": {},
   "outputs": [
    {
     "name": "stdout",
     "output_type": "stream",
     "text": [
      "@prefix ns1: <http://xmlns.com/foaf/0.1/> .\r\n",
      "@prefix ns2: <http://www.co-ode.org/ontologies/ont.owl#> .\r\n",
      "@prefix rdf: <http://www.w3.org/1999/02/22-rdf-syntax-ns#> .\r\n",
      "@prefix rdfs: <http://www.w3.org/2000/01/rdf-schema#> .\r\n",
      "@prefix xml: <http://www.w3.org/XML/1998/namespace> .\r\n",
      "@prefix xsd: <http://www.w3.org/2001/XMLSchema#> .\r\n",
      "\r\n",
      "<https://Data#13> a ns2:Patient ;\r\n",
      "    ns1:familyName \"Ouaguenouni\" ;\r\n",
      "    ns1:givenName \"Mohamed\" .\r\n",
      "\r\n",
      "<https://Data#15> ns2:a_consulte _:N7306cf53a8a841d5867feb44767158d8 .\r\n",
      "\r\n",
      "<https://Data#P15> ns2:a_effectue _:N7306cf53a8a841d5867feb44767158d8 .\r\n",
      "\r\n",
      "<https://Data#P155> a ns2:Practicien ;\r\n",
      "    ns1:givenName \"Amine\" .\r\n",
      "\r\n"
     ]
    }
   ],
   "source": [
    "f = open(\"database.rdf\",\"w\")\n",
    "graphe = rdflib.Graph()\n",
    "graphe = graphe + ajouter_practicien(\"Amine\",\"155\")\n",
    "graphe = graphe + ajouter_patient(\"Mohamed\",\"Ouaguenouni\",\"13\")\n",
    "graphe = graphe + enregistrer_consultation(\"15\",\"15\")\n",
    "graphe.serialize(\"database.rdf\",\"turtle\")\n",
    "!cat database.rdf"
   ]
  },
  {
   "cell_type": "code",
   "execution_count": 13,
   "metadata": {},
   "outputs": [],
   "source": [
    "def enregistrer_consultation(idpracticien,nss,nconsultation):\n",
    "    graphe = rdflib.Graph()\n",
    "    bl = rdflib.URIRef(rdf_url+\"C\"+nconsultation)\n",
    "    ur_practicien = rdf_url+\"P\"+idpracticien\n",
    "    uri_patient = rdf_url+nss\n",
    "    practicien_r = rdflib.URIRef(ur_practicien)\n",
    "    patient_r = rdflib.URIRef(uri_patient)\n",
    "    consultation_effectue = rdflib.URIRef(myont_ns+\"a_effectue\")\n",
    "    consultation_prise = rdflib.URIRef(myont_ns+\"a_consulte\")\n",
    "    graphe.add( (practicien_r,consultation_effectue,bl) )\n",
    "    graphe.add( (patient_r,consultation_prise,bl) )\n",
    "    return graphe"
   ]
  },
  {
   "cell_type": "code",
   "execution_count": 14,
   "metadata": {},
   "outputs": [
    {
     "name": "stdout",
     "output_type": "stream",
     "text": [
      "@prefix rdf: <http://www.w3.org/1999/02/22-rdf-syntax-ns#> .\r\n",
      "@prefix rdfs: <http://www.w3.org/2000/01/rdf-schema#> .\r\n",
      "@prefix xml: <http://www.w3.org/XML/1998/namespace> .\r\n",
      "@prefix xsd: <http://www.w3.org/2001/XMLSchema#> .\r\n",
      "\r\n",
      "<http://www.co-ode.org/ontologies/ont.owl#Consultation> a <http://www.w3.org/2002/07/owl#Class> .\r\n",
      "\r\n"
     ]
    }
   ],
   "source": [
    "graphe = rdflib.Graph()\n",
    "\n",
    "consultation_t = rdflib.URIRef(myont_ns+\"Consultation\")\n",
    "\n",
    "graphe.add((consultation_t,rdflib.RDF.term(\"type\"),rdflib.OWL.term(\"Class\")))\n",
    "\n",
    "graphe.serialize(\"database.rdf\",\"turtle\")\n",
    "!cat database.rdf"
   ]
  },
  {
   "cell_type": "code",
   "execution_count": 15,
   "metadata": {},
   "outputs": [],
   "source": [
    "def enregistrer_consultation(idpracticien,nss,nconsultation):\n",
    "    graphe = rdflib.Graph()\n",
    "    consultation_t = rdflib.URIRef(myont_ns+\"Consultation\")\n",
    "    bl = rdflib.URIRef(rdf_url+\"C\"+nconsultation)\n",
    "    graphe.add((bl,rdflib.RDF.term(\"type\"),consultation_t))\n",
    "    ur_practicien = rdf_url+\"P\"+idpracticien\n",
    "    uri_patient = rdf_url+nss\n",
    "    practicien_r = rdflib.URIRef(ur_practicien)\n",
    "    patient_r = rdflib.URIRef(uri_patient)\n",
    "    consultation_effectue = rdflib.URIRef(myont_ns+\"a_effectue\")\n",
    "    consultation_prise = rdflib.URIRef(myont_ns+\"a_consulte\")\n",
    "    graphe.add( (practicien_r,consultation_effectue,bl) )\n",
    "    graphe.add( (patient_r,consultation_prise,bl) )\n",
    "    return graphe"
   ]
  },
  {
   "cell_type": "code",
   "execution_count": 16,
   "metadata": {},
   "outputs": [
    {
     "name": "stdout",
     "output_type": "stream",
     "text": [
      "@prefix ns1: <http://www.co-ode.org/ontologies/ont.owl#> .\r\n",
      "@prefix ns2: <http://xmlns.com/foaf/0.1/> .\r\n",
      "@prefix rdf: <http://www.w3.org/1999/02/22-rdf-syntax-ns#> .\r\n",
      "@prefix rdfs: <http://www.w3.org/2000/01/rdf-schema#> .\r\n",
      "@prefix xml: <http://www.w3.org/XML/1998/namespace> .\r\n",
      "@prefix xsd: <http://www.w3.org/2001/XMLSchema#> .\r\n",
      "\r\n",
      "<https://Data#12> a ns1:Patient ;\r\n",
      "    ns1:a_consulte <https://Data#C185> ;\r\n",
      "    ns2:familyName \"Ouaguenouni\" ;\r\n",
      "    ns2:givenName \"Mohamed\" .\r\n",
      "\r\n",
      "<https://Data#P12> ns1:a_effectue <https://Data#C185> .\r\n",
      "\r\n",
      "<https://Data#P156> a ns1:Practicien ;\r\n",
      "    ns2:givenName \"Amine\" .\r\n",
      "\r\n",
      "<https://Data#C185> a ns1:Consultation .\r\n",
      "\r\n"
     ]
    }
   ],
   "source": [
    "f = open(\"database.rdf\",\"w\")\n",
    "graphe = rdflib.Graph()\n",
    "graphe = graphe + ajouter_practicien(\"Amine\",\"156\")\n",
    "graphe = graphe + ajouter_patient(\"Mohamed\",\"Ouaguenouni\",\"12\")\n",
    "graphe = graphe + enregistrer_consultation(\"12\",\"12\",\"185\")\n",
    "graphe.serialize(\"database.rdf\",\"turtle\")\n",
    "!cat database.rdf"
   ]
  }
 ],
 "metadata": {
  "kernelspec": {
   "display_name": "Python 3",
   "language": "python",
   "name": "python3"
  },
  "language_info": {
   "codemirror_mode": {
    "name": "ipython",
    "version": 3
   },
   "file_extension": ".py",
   "mimetype": "text/x-python",
   "name": "python",
   "nbconvert_exporter": "python",
   "pygments_lexer": "ipython3",
   "version": "3.7.4"
  }
 },
 "nbformat": 4,
 "nbformat_minor": 2
}
