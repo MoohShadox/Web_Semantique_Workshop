{
  "nbformat": 4,
  "nbformat_minor": 0,
  "metadata": {
    "kernelspec": {
      "display_name": "Python 3",
      "language": "python",
      "name": "python3"
    },
    "language_info": {
      "codemirror_mode": {
        "name": "ipython",
        "version": 3
      },
      "file_extension": ".py",
      "mimetype": "text/x-python",
      "name": "python",
      "nbconvert_exporter": "python",
      "pygments_lexer": "ipython3",
      "version": "3.7.4"
    },
    "colab": {
      "name": "Lab 01 - RDFLib.ipynb",
      "provenance": []
    }
  },
  "cells": [
    {
      "cell_type": "markdown",
      "metadata": {
        "id": "Z5H0ywUhSvEc",
        "colab_type": "text"
      },
      "source": [
        "### RDFLib Workshop\n",
        "Ce notebook sert de suport aux slides du workshop disponibles en consultation sur le lien github : "
      ]
    },
    {
      "cell_type": "code",
      "metadata": {
        "id": "Jaqdh0_HSvEd",
        "colab_type": "code",
        "colab": {
          "base_uri": "https://localhost:8080/",
          "height": 90
        },
        "outputId": "3276bd6b-96b7-43bd-ad7b-83bc1703c338"
      },
      "source": [
        "!pip install rdflib\n",
        "import rdflib"
      ],
      "execution_count": 5,
      "outputs": [
        {
          "output_type": "stream",
          "text": [
            "Requirement already satisfied: rdflib in /usr/local/lib/python3.6/dist-packages (5.0.0)\n",
            "Requirement already satisfied: six in /usr/local/lib/python3.6/dist-packages (from rdflib) (1.12.0)\n",
            "Requirement already satisfied: pyparsing in /usr/local/lib/python3.6/dist-packages (from rdflib) (2.4.7)\n",
            "Requirement already satisfied: isodate in /usr/local/lib/python3.6/dist-packages (from rdflib) (0.6.0)\n"
          ],
          "name": "stdout"
        }
      ]
    },
    {
      "cell_type": "code",
      "metadata": {
        "id": "C_GJHnf_SvEi",
        "colab_type": "code",
        "colab": {}
      },
      "source": [
        "myont_ns = \"http://www.co-ode.org/ontologies/ont.owl#\"\n",
        "\n",
        "foaf_ns = \"http://xmlns.com/foaf/0.1/\"\n",
        "\n",
        "rdf_url = \"https://Data#\"\n",
        "\n",
        "def ajouter_patient(nom,prenom,nss):\n",
        "    graphe = rdflib.Graph()\n",
        "    \n",
        "    uri_patient = rdf_url+nss\n",
        "    patient_r = rdflib.URIRef(uri_patient)\n",
        "    \n",
        "    name_relation = rdflib.URIRef(foaf_ns+\"givenName\")\n",
        "    familyname_relation = rdflib.URIRef(foaf_ns+\"familyName\")\n",
        "    \n",
        "    name_literal = rdflib.Literal(nom)\n",
        "    familyname_literal = rdflib.Literal(prenom)\n",
        "    \n",
        "    graphe.add((patient_r,name_relation,name_literal))\n",
        "    graphe.add((patient_r,familyname_relation,familyname_literal))\n",
        "    \n",
        "    return graphe"
      ],
      "execution_count": 0,
      "outputs": []
    },
    {
      "cell_type": "code",
      "metadata": {
        "id": "y2gdPj2-SvEl",
        "colab_type": "code",
        "colab": {}
      },
      "source": [
        "#Utile pour recréer un nouveau fichier\n",
        "f = open(\"database.rdf\",\"w\")"
      ],
      "execution_count": 0,
      "outputs": []
    },
    {
      "cell_type": "code",
      "metadata": {
        "id": "1z2RKz6GSvEo",
        "colab_type": "code",
        "colab": {}
      },
      "source": [
        "graphe = rdflib.Graph()\n",
        "graphe = graphe + ajouter_patient(\"Mohamed\",\"Ouaguenouni\",\"12\")\n",
        "graphe.serialize(\"database.rdf\",\"turtle\")"
      ],
      "execution_count": 0,
      "outputs": []
    },
    {
      "cell_type": "code",
      "metadata": {
        "id": "N9wOukMWSvEr",
        "colab_type": "code",
        "colab": {
          "base_uri": "https://localhost:8080/",
          "height": 108
        },
        "outputId": "cc049dfa-4329-4e2a-a5a6-d5f2be193a99"
      },
      "source": [
        "!cat database.rdf "
      ],
      "execution_count": 9,
      "outputs": [
        {
          "output_type": "stream",
          "text": [
            "@prefix ns1: <http://xmlns.com/foaf/0.1/> .\n",
            "\n",
            "<https://Data#12> ns1:familyName \"Ouaguenouni\" ;\n",
            "    ns1:givenName \"Mohamed\" .\n",
            "\n"
          ],
          "name": "stdout"
        }
      ]
    },
    {
      "cell_type": "code",
      "metadata": {
        "id": "idERcDSbSvEv",
        "colab_type": "code",
        "colab": {}
      },
      "source": [
        "def ajouter_practicien(nom,ide):\n",
        "    graphe = rdflib.Graph()\n",
        "    ur_practicien = rdf_url+\"P\"+ide\n",
        "    practicien_r = rdflib.URIRef(ur_practicien)\n",
        "    name_relation = rdflib.URIRef(foaf_ns+\"givenName\")\n",
        "    name_literal = rdflib.Literal(nom)\n",
        "    graphe.add((practicien_r,name_relation,name_literal))\n",
        "    return graphe\n"
      ],
      "execution_count": 0,
      "outputs": []
    },
    {
      "cell_type": "code",
      "metadata": {
        "id": "pvpzLavRSvEy",
        "colab_type": "code",
        "colab": {
          "base_uri": "https://localhost:8080/",
          "height": 145
        },
        "outputId": "85105f34-e91b-44d6-d3db-c59646a0378d"
      },
      "source": [
        "graphe = graphe + ajouter_practicien(\"Amine\",\"12\")\n",
        "graphe.serialize(\"database.rdf\",\"turtle\")\n",
        "!cat database.rdf "
      ],
      "execution_count": 11,
      "outputs": [
        {
          "output_type": "stream",
          "text": [
            "@prefix ns1: <http://xmlns.com/foaf/0.1/> .\n",
            "\n",
            "<https://Data#12> ns1:familyName \"Ouaguenouni\" ;\n",
            "    ns1:givenName \"Mohamed\" .\n",
            "\n",
            "<https://Data#P12> ns1:givenName \"Amine\" .\n",
            "\n"
          ],
          "name": "stdout"
        }
      ]
    },
    {
      "cell_type": "code",
      "metadata": {
        "id": "NBW5DZOKSvE2",
        "colab_type": "code",
        "colab": {}
      },
      "source": [
        "def enregistrer_consultation(idpracticien,nss):\n",
        "    graphe = rdflib.Graph()\n",
        "    bl = rdflib.BNode()\n",
        "    ur_practicien = rdf_url+\"P\"+idpracticien\n",
        "    uri_patient = rdf_url+nss\n",
        "    practicien_r = rdflib.URIRef(ur_practicien)\n",
        "    patient_r = rdflib.URIRef(uri_patient)\n",
        "    consultation_effectue = rdflib.URIRef(myont_ns+\"a_effectue\")\n",
        "    consultation_prise = rdflib.URIRef(myont_ns+\"a_consulte\")\n",
        "    graphe.add( (practicien_r,consultation_effectue,bl) )\n",
        "    graphe.add( (patient_r,consultation_prise,bl) )\n",
        "    return graphe\n"
      ],
      "execution_count": 0,
      "outputs": []
    },
    {
      "cell_type": "code",
      "metadata": {
        "id": "6-9tyZMVSvE4",
        "colab_type": "code",
        "colab": {
          "base_uri": "https://localhost:8080/",
          "height": 199
        },
        "outputId": "3cf021a9-b5ce-4d46-cb79-acba850e2c08"
      },
      "source": [
        "graphe = graphe + enregistrer_consultation(\"12\",\"12\")\n",
        "graphe.serialize(\"database.rdf\",\"turtle\")\n",
        "!cat database.rdf"
      ],
      "execution_count": 13,
      "outputs": [
        {
          "output_type": "stream",
          "text": [
            "@prefix ns1: <http://xmlns.com/foaf/0.1/> .\n",
            "@prefix ns2: <http://www.co-ode.org/ontologies/ont.owl#> .\n",
            "\n",
            "<https://Data#12> ns2:a_consulte _:N7189f333483b45f3a3aeb43ddf1c6933 ;\n",
            "    ns1:familyName \"Ouaguenouni\" ;\n",
            "    ns1:givenName \"Mohamed\" .\n",
            "\n",
            "<https://Data#P12> ns2:a_effectue _:N7189f333483b45f3a3aeb43ddf1c6933 ;\n",
            "    ns1:givenName \"Amine\" .\n",
            "\n"
          ],
          "name": "stdout"
        }
      ]
    },
    {
      "cell_type": "markdown",
      "metadata": {
        "id": "dZL5dWIASvE8",
        "colab_type": "raw"
      },
      "source": [
        "@prefix ns1: <http://xmlns.com/foaf/0.1/> .\n",
        "@prefix ns2: <http://www.co-ode.org/ontologies/ont.owl#> .\n",
        "@prefix rdf: <http://www.w3.org/1999/02/22-rdf-syntax-ns#> .\n",
        "@prefix rdfs: <http://www.w3.org/2000/01/rdf-schema#> .\n",
        "@prefix xml: <http://www.w3.org/XML/1998/namespace> .\n",
        "@prefix xsd: <http://www.w3.org/2001/XMLSchema#> .\n",
        "\n",
        "<https://Data#12> ns2:a_consulte _:N258604ec7f904f529a21b654ab479978 ;\n",
        "    ns1:familyName \"Ouaguenouni\" ;\n",
        "    ns1:givenName \"Mohamed\" .\n",
        "\n",
        "<https://Data#P12> ns2:a_effectue _:N258604ec7f904f529a21b654ab479978 ."
      ]
    },
    {
      "cell_type": "code",
      "metadata": {
        "id": "qdm-CIwPSvE8",
        "colab_type": "code",
        "colab": {}
      },
      "source": [
        "def ajouter_patient(nom,prenom,nss):\n",
        "    graphe = rdflib.Graph()\n",
        "    uri_patient = rdf_url+nss\n",
        "    patient_r = rdflib.URIRef(uri_patient)\n",
        "    name_relation = rdflib.URIRef(foaf_ns+\"givenName\")\n",
        "    familyname_relation = rdflib.URIRef(foaf_ns+\"familyName\")\n",
        "    name_literal = rdflib.Literal(nom)\n",
        "    familyname_literal = rdflib.Literal(prenom)\n",
        "    graphe.add((patient_r,name_relation,name_literal))\n",
        "    graphe.add((patient_r,familyname_relation,familyname_literal))\n",
        "    #On ajoute le type patient\n",
        "    concept_patient = rdflib.URIRef(myont_ns+\"Patient\")\n",
        "    graphe.add((patient_r,rdflib.RDF.term(\"type\"),concept_patient))\n",
        "    return graphe\n",
        "\n",
        "\n",
        "def ajouter_practicien(nom,ide):\n",
        "    graphe = rdflib.Graph()\n",
        "    ur_practicien = rdf_url+\"P\"+ide\n",
        "    practicien_r = rdflib.URIRef(ur_practicien)\n",
        "    name_relation = rdflib.URIRef(foaf_ns+\"givenName\")\n",
        "    name_literal = rdflib.Literal(nom)\n",
        "    graphe.add((practicien_r,name_relation,name_literal))\n",
        "    concept_practicien= rdflib.URIRef(myont_ns+\"Practicien\")\n",
        "    graphe.add((practicien_r,rdflib.RDF.term(\"type\"),concept_practicien))\n",
        "    return graphe\n"
      ],
      "execution_count": 0,
      "outputs": []
    },
    {
      "cell_type": "code",
      "metadata": {
        "id": "hRmXjaDOSvE_",
        "colab_type": "code",
        "colab": {
          "base_uri": "https://localhost:8080/",
          "height": 272
        },
        "outputId": "c374471b-02bb-4df0-d335-604ccea51f58"
      },
      "source": [
        "f = open(\"database.rdf\",\"w\")\n",
        "graphe = rdflib.Graph()\n",
        "graphe = graphe + ajouter_practicien(\"Amine\",\"155\")\n",
        "graphe = graphe + ajouter_patient(\"Mohamed\",\"Ouaguenouni\",\"13\")\n",
        "graphe = graphe + enregistrer_consultation(\"15\",\"15\")\n",
        "graphe.serialize(\"database.rdf\",\"turtle\")\n",
        "!cat database.rdf"
      ],
      "execution_count": 15,
      "outputs": [
        {
          "output_type": "stream",
          "text": [
            "@prefix ns1: <http://xmlns.com/foaf/0.1/> .\n",
            "@prefix ns2: <http://www.co-ode.org/ontologies/ont.owl#> .\n",
            "\n",
            "<https://Data#13> a ns2:Patient ;\n",
            "    ns1:familyName \"Ouaguenouni\" ;\n",
            "    ns1:givenName \"Mohamed\" .\n",
            "\n",
            "<https://Data#15> ns2:a_consulte _:N0347d55622be4ad180e8ac091d47e799 .\n",
            "\n",
            "<https://Data#P15> ns2:a_effectue _:N0347d55622be4ad180e8ac091d47e799 .\n",
            "\n",
            "<https://Data#P155> a ns2:Practicien ;\n",
            "    ns1:givenName \"Amine\" .\n",
            "\n"
          ],
          "name": "stdout"
        }
      ]
    },
    {
      "cell_type": "code",
      "metadata": {
        "id": "fihz8_reSvFD",
        "colab_type": "code",
        "colab": {}
      },
      "source": [
        "def enregistrer_consultation(idpracticien,nss,nconsultation):\n",
        "    graphe = rdflib.Graph()\n",
        "    bl = rdflib.URIRef(rdf_url+\"C\"+nconsultation)\n",
        "    ur_practicien = rdf_url+\"P\"+idpracticien\n",
        "    uri_patient = rdf_url+nss\n",
        "    practicien_r = rdflib.URIRef(ur_practicien)\n",
        "    patient_r = rdflib.URIRef(uri_patient)\n",
        "    consultation_effectue = rdflib.URIRef(myont_ns+\"a_effectue\")\n",
        "    consultation_prise = rdflib.URIRef(myont_ns+\"a_consulte\")\n",
        "    graphe.add( (practicien_r,consultation_effectue,bl) )\n",
        "    graphe.add( (patient_r,consultation_prise,bl) )\n",
        "    return graphe"
      ],
      "execution_count": 0,
      "outputs": []
    },
    {
      "cell_type": "code",
      "metadata": {
        "id": "anfSzavWSvFG",
        "colab_type": "code",
        "colab": {
          "base_uri": "https://localhost:8080/",
          "height": 72
        },
        "outputId": "64fb8acb-54d4-4c2a-b430-a7c5510e8cb8"
      },
      "source": [
        "graphe = rdflib.Graph()\n",
        "\n",
        "consultation_t = rdflib.URIRef(myont_ns+\"Consultation\")\n",
        "\n",
        "graphe.add((consultation_t,rdflib.RDF.term(\"type\"),rdflib.OWL.term(\"Class\")))\n",
        "\n",
        "graphe.serialize(\"database.rdf\",\"turtle\")\n",
        "!cat database.rdf"
      ],
      "execution_count": 17,
      "outputs": [
        {
          "output_type": "stream",
          "text": [
            "\n",
            "<http://www.co-ode.org/ontologies/ont.owl#Consultation> a <http://www.w3.org/2002/07/owl#Class> .\n",
            "\n"
          ],
          "name": "stdout"
        }
      ]
    },
    {
      "cell_type": "code",
      "metadata": {
        "id": "Mhb3XX6bSvFJ",
        "colab_type": "code",
        "colab": {}
      },
      "source": [
        "def enregistrer_consultation(idpracticien,nss,nconsultation):\n",
        "    graphe = rdflib.Graph()\n",
        "    consultation_t = rdflib.URIRef(myont_ns+\"Consultation\")\n",
        "    bl = rdflib.URIRef(rdf_url+\"C\"+nconsultation)\n",
        "    graphe.add((bl,rdflib.RDF.term(\"type\"),consultation_t))\n",
        "    ur_practicien = rdf_url+\"P\"+idpracticien\n",
        "    uri_patient = rdf_url+nss\n",
        "    practicien_r = rdflib.URIRef(ur_practicien)\n",
        "    patient_r = rdflib.URIRef(uri_patient)\n",
        "    consultation_effectue = rdflib.URIRef(myont_ns+\"a_effectue\")\n",
        "    consultation_prise = rdflib.URIRef(myont_ns+\"a_consulte\")\n",
        "    graphe.add( (practicien_r,consultation_effectue,bl) )\n",
        "    graphe.add( (patient_r,consultation_prise,bl) )\n",
        "    return graphe"
      ],
      "execution_count": 0,
      "outputs": []
    },
    {
      "cell_type": "code",
      "metadata": {
        "id": "ckBtRD-DSvFM",
        "colab_type": "code",
        "colab": {
          "base_uri": "https://localhost:8080/",
          "height": 290
        },
        "outputId": "0e78fde4-25d4-4842-838f-67997083d754"
      },
      "source": [
        "f = open(\"database.rdf\",\"w\")\n",
        "graphe = rdflib.Graph()\n",
        "graphe = graphe + ajouter_practicien(\"Amine\",\"156\")\n",
        "graphe = graphe + ajouter_patient(\"Mohamed\",\"Ouaguenouni\",\"12\")\n",
        "graphe = graphe + enregistrer_consultation(\"12\",\"12\",\"185\")\n",
        "graphe.serialize(\"database.rdf\",\"turtle\")\n",
        "!cat database.rdf"
      ],
      "execution_count": 19,
      "outputs": [
        {
          "output_type": "stream",
          "text": [
            "@prefix ns1: <http://www.co-ode.org/ontologies/ont.owl#> .\n",
            "@prefix ns2: <http://xmlns.com/foaf/0.1/> .\n",
            "\n",
            "<https://Data#12> a ns1:Patient ;\n",
            "    ns1:a_consulte <https://Data#C185> ;\n",
            "    ns2:familyName \"Ouaguenouni\" ;\n",
            "    ns2:givenName \"Mohamed\" .\n",
            "\n",
            "<https://Data#P12> ns1:a_effectue <https://Data#C185> .\n",
            "\n",
            "<https://Data#P156> a ns1:Practicien ;\n",
            "    ns2:givenName \"Amine\" .\n",
            "\n",
            "<https://Data#C185> a ns1:Consultation .\n",
            "\n"
          ],
          "name": "stdout"
        }
      ]
    },
    {
      "cell_type": "code",
      "metadata": {
        "id": "7cuK5MXkSvFR",
        "colab_type": "code",
        "colab": {}
      },
      "source": [
        ""
      ],
      "execution_count": 0,
      "outputs": []
    }
  ]
}