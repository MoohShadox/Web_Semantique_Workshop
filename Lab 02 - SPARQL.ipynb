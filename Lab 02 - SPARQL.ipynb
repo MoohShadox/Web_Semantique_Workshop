{
  "nbformat": 4,
  "nbformat_minor": 0,
  "metadata": {
    "kernelspec": {
      "display_name": "PyCharm (RLLab2)",
      "language": "python",
      "name": "pycharm-fe7a6dad"
    },
    "language_info": {
      "codemirror_mode": {
        "name": "ipython",
        "version": 3
      },
      "file_extension": ".py",
      "mimetype": "text/x-python",
      "name": "python",
      "nbconvert_exporter": "python",
      "pygments_lexer": "ipython3",
      "version": "3.7.4"
    },
    "colab": {
      "name": "Lab 02 - SPARQL.ipynb",
      "provenance": [],
      "include_colab_link": true
    }
  },
  "cells": [
    {
      "cell_type": "markdown",
      "metadata": {
        "id": "view-in-github",
        "colab_type": "text"
      },
      "source": [
        "<a href=\"https://colab.research.google.com/github/MoohShadox/Web_Semantique_Workshop/blob/master/Lab%2002%20-%20SPARQL.ipynb\" target=\"_parent\"><img src=\"https://colab.research.google.com/assets/colab-badge.svg\" alt=\"Open In Colab\"/></a>"
      ]
    },
    {
      "cell_type": "markdown",
      "metadata": {
        "id": "855Y8vg7TIRz",
        "colab_type": "text"
      },
      "source": [
        "# Lab 03 : SPARQL\n",
        "Ce lab sert d'introduction au langage SPARQL qui est un langage d'interrogation de données permettant d'interroger un graphe RDF afin d'en extraire des triplets sur base de \"motifs\".\n",
        "\n",
        "La base de données est codée en dur ici pour que le fichier soit un standalone."
      ]
    },
    {
      "cell_type": "code",
      "metadata": {
        "id": "E0IDrF13TIR1",
        "colab_type": "code",
        "colab": {}
      },
      "source": [
        "!pip install rdflib\n",
        "import rdflib"
      ],
      "execution_count": 0,
      "outputs": []
    },
    {
      "cell_type": "code",
      "metadata": {
        "id": "O9-cECzQTIR5",
        "colab_type": "code",
        "colab": {}
      },
      "source": [
        "database = \"\"\"<?xml version=\"1.0\" encoding=\"UTF-8\"?>\n",
        "<rdf:RDF\n",
        "   xmlns:ns1=\"http://xmlns.com/foaf/0.1/\"\n",
        "   xmlns:ns2=\"http://www.co-ode.org/ontologies/ont.owl#\"\n",
        "   xmlns:rdf=\"http://www.w3.org/1999/02/22-rdf-syntax-ns#\"\n",
        ">\n",
        "  <rdf:Description rdf:about=\"https://Data#81145628\">\n",
        "    <ns2:description>Before planning an awesome wedding for his grandfather, a polar bear king must take back a stolen artifact from an evil archaeologist first.</ns2:description>\n",
        "    <ns2:title>Norm of the North: King Sized Adventure</ns2:title>\n",
        "    <rdf:type rdf:resource=\"http://www.co-ode.org/ontologies/ont.owl#Film\"/>\n",
        "    <ns2:release_year rdf:datatype=\"http://www.w3.org/2001/XMLSchema#integer\">2019</ns2:release_year>\n",
        "  </rdf:Description>\n",
        "  <rdf:Description rdf:about=\"http://www.co-ode.org/ontologies/ont.owl#Acteur\">\n",
        "    <rdf:type rdf:resource=\"http://www.w3.org/2002/07/owl#Class\"/>\n",
        "  </rdf:Description>\n",
        "  <rdf:Description rdf:about=\"https://Data#A1\">\n",
        "    <ns1:givenName>Jonathan</ns1:givenName>\n",
        "    <rdf:type rdf:resource=\"http://www.co-ode.org/ontologies/ont.owl#Acteur\"/>\n",
        "    <ns1:familyName>Holmes</ns1:familyName>\n",
        "  </rdf:Description>\n",
        "  <rdf:Description rdf:about=\"https://Data#A11\">\n",
        "    <ns1:givenName>Cole</ns1:givenName>\n",
        "    <ns1:familyName>Howard</ns1:familyName>\n",
        "    <ns2:played_in rdf:resource=\"https://Data#81145628\"/>\n",
        "    <rdf:type rdf:resource=\"http://www.co-ode.org/ontologies/ont.owl#Acteur\"/>\n",
        "  </rdf:Description>\n",
        "  <rdf:Description rdf:about=\"https://Data#A2\">\n",
        "    <ns2:played_in rdf:resource=\"https://Data#81145628\"/>\n",
        "    <ns1:familyName>Dobson</ns1:familyName>\n",
        "    <ns1:givenName>Michael</ns1:givenName>\n",
        "    <rdf:type rdf:resource=\"http://www.co-ode.org/ontologies/ont.owl#Acteur\"/>\n",
        "  </rdf:Description>\n",
        "  <rdf:Description rdf:about=\"https://Data#A6\">\n",
        "    <rdf:type rdf:resource=\"http://www.co-ode.org/ontologies/ont.owl#Acteur\"/>\n",
        "    <ns1:familyName>Toth</ns1:familyName>\n",
        "    <ns1:givenName>Andrew</ns1:givenName>\n",
        "    <ns2:played_in rdf:resource=\"https://Data#81145628\"/>\n",
        "  </rdf:Description>\n",
        "  <rdf:Description rdf:about=\"https://Data#80117401\">\n",
        "    <ns2:title>Jandino: Whatever it Takes</ns2:title>\n",
        "    <ns2:description>Jandino Asporaat riffs on the challenges of raising kids and serenades the audience with a rousing rendition of \"Sex on Fire\" in his comedy show.</ns2:description>\n",
        "    <rdf:type rdf:resource=\"http://www.co-ode.org/ontologies/ont.owl#Film\"/>\n",
        "    <ns2:release_year rdf:datatype=\"http://www.w3.org/2001/XMLSchema#integer\">2016</ns2:release_year>\n",
        "  </rdf:Description>\n",
        "  <rdf:Description rdf:about=\"https://Data#A7\">\n",
        "    <ns1:familyName>Durupt</ns1:familyName>\n",
        "    <rdf:type rdf:resource=\"http://www.co-ode.org/ontologies/ont.owl#Acteur\"/>\n",
        "    <ns1:givenName>Lisa</ns1:givenName>\n",
        "  </rdf:Description>\n",
        "  <rdf:Description rdf:about=\"https://Data#China\">\n",
        "    <rdf:type rdf:resource=\"http://www.co-ode.org/ontologies/ont.owl#country\"/>\n",
        "  </rdf:Description>\n",
        "  <rdf:Description rdf:about=\"https://Data#A3\">\n",
        "    <ns1:givenName>Alan</ns1:givenName>\n",
        "    <ns2:played_in rdf:resource=\"https://Data#81145628\"/>\n",
        "    <ns1:familyName>Marriott</ns1:familyName>\n",
        "    <rdf:type rdf:resource=\"http://www.co-ode.org/ontologies/ont.owl#Acteur\"/>\n",
        "  </rdf:Description>\n",
        "  <rdf:Description rdf:about=\"https://Data#Comedies\">\n",
        "    <rdf:type rdf:resource=\"http://www.co-ode.org/ontologies/ont.owl#categorie\"/>\n",
        "  </rdf:Description>\n",
        "  <rdf:Description rdf:about=\"https://Data#Children&amp;FamilyMovies\">\n",
        "    <rdf:type rdf:resource=\"http://www.co-ode.org/ontologies/ont.owl#categorie\"/>\n",
        "  </rdf:Description>\n",
        "  <rdf:Description rdf:about=\"https://Data#A10\">\n",
        "    <rdf:type rdf:resource=\"http://www.co-ode.org/ontologies/ont.owl#Acteur\"/>\n",
        "    <ns1:familyName>Asporaat</ns1:familyName>\n",
        "    <ns2:played_in rdf:resource=\"https://Data#80117401\"/>\n",
        "    <ns1:givenName>Jandino</ns1:givenName>\n",
        "  </rdf:Description>\n",
        "  <rdf:Description rdf:about=\"https://Data#A8\">\n",
        "    <ns1:givenName>Lee</ns1:givenName>\n",
        "    <rdf:type rdf:resource=\"http://www.co-ode.org/ontologies/ont.owl#Acteur\"/>\n",
        "    <ns2:played_in rdf:resource=\"https://Data#81145628\"/>\n",
        "    <ns1:familyName>Tockar</ns1:familyName>\n",
        "  </rdf:Description>\n",
        "  <rdf:Description rdf:about=\"http://www.co-ode.org/ontologies/ont.owl#categorie\">\n",
        "    <rdf:type rdf:resource=\"http://www.w3.org/2002/07/owl#Class\"/>\n",
        "  </rdf:Description>\n",
        "  <rdf:Description rdf:about=\"https://Data#A5\">\n",
        "    <ns1:givenName>Brian</ns1:givenName>\n",
        "    <ns2:played_in rdf:resource=\"https://Data#81145628\"/>\n",
        "    <rdf:type rdf:resource=\"http://www.co-ode.org/ontologies/ont.owl#Acteur\"/>\n",
        "    <ns1:familyName>Dobson</ns1:familyName>\n",
        "  </rdf:Description>\n",
        "  <rdf:Description rdf:about=\"https://Data#A9\">\n",
        "    <rdf:type rdf:resource=\"http://www.co-ode.org/ontologies/ont.owl#Acteur\"/>\n",
        "    <ns1:givenName>Maya</ns1:givenName>\n",
        "    <ns1:familyName>Kay</ns1:familyName>\n",
        "  </rdf:Description>\n",
        "  <rdf:Description rdf:about=\"https://Data#Movie\">\n",
        "    <rdf:type rdf:resource=\"http://www.co-ode.org/ontologies/ont.owl#type\"/>\n",
        "  </rdf:Description>\n",
        "  <rdf:Description rdf:about=\"https://Data#A4\">\n",
        "    <ns1:givenName>Jennifer</ns1:givenName>\n",
        "    <rdf:type rdf:resource=\"http://www.co-ode.org/ontologies/ont.owl#Acteur\"/>\n",
        "    <ns1:familyName>Cameron</ns1:familyName>\n",
        "    <ns2:played_in rdf:resource=\"https://Data#81145628\"/>\n",
        "  </rdf:Description>\n",
        "  <rdf:Description rdf:about=\"https://Data#UnitedStates\">\n",
        "    <rdf:type rdf:resource=\"http://www.co-ode.org/ontologies/ont.owl#country\"/>\n",
        "  </rdf:Description>\n",
        "  <rdf:Description rdf:about=\"https://Data#India\">\n",
        "    <rdf:type rdf:resource=\"http://www.co-ode.org/ontologies/ont.owl#country\"/>\n",
        "  </rdf:Description>\n",
        "  <rdf:Description rdf:about=\"https://Data#Stand-UpComedy\">\n",
        "    <rdf:type rdf:resource=\"http://www.co-ode.org/ontologies/ont.owl#categorie\"/>\n",
        "  </rdf:Description>\n",
        "  <rdf:Description rdf:about=\"https://Data#UnitedKingdom\">\n",
        "    <rdf:type rdf:resource=\"http://www.co-ode.org/ontologies/ont.owl#country\"/>\n",
        "  </rdf:Description>\n",
        "  <rdf:Description rdf:about=\"https://Data#SouthKorea\">\n",
        "    <rdf:type rdf:resource=\"http://www.co-ode.org/ontologies/ont.owl#country\"/>\n",
        "  </rdf:Description>\n",
        "  <rdf:Description rdf:about=\"http://www.co-ode.org/ontologies/ont.owl#country\">\n",
        "    <rdf:type rdf:resource=\"http://www.w3.org/2002/07/owl#Class\"/>\n",
        "  </rdf:Description>\n",
        "  <rdf:Description rdf:about=\"http://www.co-ode.org/ontologies/ont.owl#type\">\n",
        "    <rdf:type rdf:resource=\"http://www.w3.org/2002/07/owl#Class\"/>\n",
        "  </rdf:Description>\n",
        "</rdf:RDF>\"\"\"\n",
        "f=open(\"test_sparql.rdf\",\"w\")\n",
        "f.write(database)\n",
        "!cat test_sparql.rdf"
      ],
      "execution_count": 0,
      "outputs": []
    },
    {
      "cell_type": "code",
      "metadata": {
        "id": "abIUR4lKTIR9",
        "colab_type": "code",
        "colab": {}
      },
      "source": [
        "graphe = rdflib.Graph()\n",
        "graphe.parse(\"test_sparql.rdf\")\n",
        "graphe.serialize(\"test_sparql_out.rdf\",\"turtle\")\n",
        "!cat test_sparql_out.rdf"
      ],
      "execution_count": 0,
      "outputs": []
    },
    {
      "cell_type": "markdown",
      "metadata": {
        "id": "T522mrkwTISA",
        "colab_type": "text"
      },
      "source": [
        "## Requètes basiques avec la mot clef 'SELECT'\n",
        "Les requètes \"SELECT\" en SPARQL sont plûtot similaires dans leur fonctionnement a leur homonyme en SQL, cependant, les noms de colonnes sont remplacées par des variables et le bloc qui suit le mot clef \"WHERE\" permet de définir un motif avec des variables et des constantes que la requète va chercher dans le graphe.\n",
        "Par exemple pour afficher les noms de tous les acteurs il faut chercher : \n",
        "- Un certain noeud (appelons le acteur) qui est lié par la relation rdf:type a la ressource ns2:Acteur\n",
        "- Le même noeud acteur qui est également relié par la relation ns1:givenName a une chaine appelons la \"name\"\n",
        "Et ensuite une fois le motif trouvé je retourne \"name\"\n",
        "J'utilise la requète suivante : "
      ]
    },
    {
      "cell_type": "code",
      "metadata": {
        "id": "t2sOW-BsTISA",
        "colab_type": "code",
        "colab": {}
      },
      "source": [
        "requete = \"\"\"\n",
        "prefix ns1: <http://xmlns.com/foaf/0.1/> \n",
        "prefix ns2: <http://www.co-ode.org/ontologies/ont.owl#> \n",
        "prefix rdf: <http://www.w3.org/1999/02/22-rdf-syntax-ns#>\n",
        "prefix rdfs: <http://www.w3.org/2000/01/rdf-schema#> \n",
        "prefix xml: <http://www.w3.org/XML/1998/namespace> \n",
        "prefix xsd: <http://www.w3.org/2001/XMLSchema#> \n",
        "SELECT ?name \n",
        "WHERE{\n",
        "?acteur rdf:type ns2:Acteur . \n",
        "?acteur ns1:givenName ?name .\n",
        "}\n",
        "\"\"\"\n",
        "resultat = graphe.query(requete)"
      ],
      "execution_count": 0,
      "outputs": []
    },
    {
      "cell_type": "code",
      "metadata": {
        "id": "Sqt6zFpTTISE",
        "colab_type": "code",
        "colab": {}
      },
      "source": [
        "for i in resultat:\n",
        "    print(i)"
      ],
      "execution_count": 0,
      "outputs": []
    },
    {
      "cell_type": "markdown",
      "metadata": {
        "id": "txw-XMirTISH",
        "colab_type": "text"
      },
      "source": [
        "Comme on peut le voire parcourir le résultat permet d'afficher les résultats de la requète sous forme de tuples dont la longueur dépend du nombre de variables précisés dans la requète SELECT\n",
        "\n",
        "A noter également la déclaration des prefixes qui est similaire en SPARQL a la déclaration faite dans une fichier sérialisé en turtle a la différence prés que les prefixes ne sont pas précédés par des @ et ne sont pas suivis par des points.\n",
        "\n",
        "Maintenant en modifiant un peu la requète je peux par exemple récupérer leur nom de famille :"
      ]
    },
    {
      "cell_type": "code",
      "metadata": {
        "id": "bCVBlE0mTISI",
        "colab_type": "code",
        "colab": {}
      },
      "source": [
        "requete = \"\"\"\n",
        "prefix ns1: <http://xmlns.com/foaf/0.1/> \n",
        "prefix ns2: <http://www.co-ode.org/ontologies/ont.owl#> \n",
        "prefix rdf: <http://www.w3.org/1999/02/22-rdf-syntax-ns#>\n",
        "prefix rdfs: <http://www.w3.org/2000/01/rdf-schema#> \n",
        "prefix xml: <http://www.w3.org/XML/1998/namespace> \n",
        "prefix xsd: <http://www.w3.org/2001/XMLSchema#> \n",
        "SELECT ?name \n",
        "WHERE{\n",
        "?acteur rdf:type ns2:Acteur . \n",
        "?acteur ns1:familyName ?name .\n",
        "}\n",
        "\"\"\"\n",
        "resultat = graphe.query(requete)\n",
        "for i in resultat:\n",
        "    print(i)"
      ],
      "execution_count": 0,
      "outputs": []
    },
    {
      "cell_type": "markdown",
      "metadata": {
        "id": "nIhyWuYATISM",
        "colab_type": "text"
      },
      "source": [
        "Nous pouvons également chercher des motifs plus complexes, par exemples je vais afficher les noms des acteurs et les films dans lesquels ils ont joués (en sachant que j'ai altéré la base de donnée de manière a ce que certains acteurs n'aient joués dans aucun film) "
      ]
    },
    {
      "cell_type": "code",
      "metadata": {
        "id": "2Y1K3iH7TISN",
        "colab_type": "code",
        "colab": {}
      },
      "source": [
        "requete = \"\"\"\n",
        "prefix ns1: <http://xmlns.com/foaf/0.1/> \n",
        "prefix ns2: <http://www.co-ode.org/ontologies/ont.owl#> \n",
        "prefix rdf: <http://www.w3.org/1999/02/22-rdf-syntax-ns#>\n",
        "prefix rdfs: <http://www.w3.org/2000/01/rdf-schema#> \n",
        "prefix xml: <http://www.w3.org/XML/1998/namespace> \n",
        "prefix xsd: <http://www.w3.org/2001/XMLSchema#> \n",
        "SELECT ?name ?film\n",
        "WHERE{\n",
        "?acteur rdf:type ns2:Acteur . \n",
        "?acteur ns1:familyName ?name .\n",
        "?film rdf:type ns2:Film .\n",
        "?acteur ns2:played_in ?film\n",
        "}\n",
        "\"\"\"\n",
        "resultat = graphe.query(requete)\n",
        "for i in resultat:\n",
        "    print(i)"
      ],
      "execution_count": 0,
      "outputs": []
    },
    {
      "cell_type": "markdown",
      "metadata": {
        "id": "WMRrdeFRTISQ",
        "colab_type": "text"
      },
      "source": [
        "ça marche mais on aimerait avoir le titre du film donc on peut encore modifier la requète "
      ]
    },
    {
      "cell_type": "code",
      "metadata": {
        "id": "f8lrrkzUTISR",
        "colab_type": "code",
        "colab": {}
      },
      "source": [
        "requete = \"\"\"\n",
        "prefix ns1: <http://xmlns.com/foaf/0.1/> \n",
        "prefix ns2: <http://www.co-ode.org/ontologies/ont.owl#> \n",
        "prefix rdf: <http://www.w3.org/1999/02/22-rdf-syntax-ns#>\n",
        "prefix rdfs: <http://www.w3.org/2000/01/rdf-schema#> \n",
        "prefix xml: <http://www.w3.org/XML/1998/namespace> \n",
        "prefix xsd: <http://www.w3.org/2001/XMLSchema#> \n",
        "SELECT ?name ?titre\n",
        "WHERE{\n",
        "?acteur rdf:type ns2:Acteur . \n",
        "?acteur ns1:familyName ?name .\n",
        "?film rdf:type ns2:Film .\n",
        "?acteur ns2:played_in ?film .\n",
        "?film ns2:title ?titre\n",
        "}\n",
        "\"\"\"\n",
        "resultat = graphe.query(requete)\n",
        "for i in resultat:\n",
        "    print(i)"
      ],
      "execution_count": 0,
      "outputs": []
    },
    {
      "cell_type": "markdown",
      "metadata": {
        "id": "qHxt9zioTISU",
        "colab_type": "text"
      },
      "source": [
        "On va maintenant s'intéresser a une question qui peut nous passer par la tête.\n",
        "Et si je mentionne une variable dans le SELECT mais qui n'est liée a rien dans le motif comme par exemple dans la requète suivante, que ce passe il ?"
      ]
    },
    {
      "cell_type": "code",
      "metadata": {
        "id": "R8-HvnctTISU",
        "colab_type": "code",
        "colab": {}
      },
      "source": [
        "requete = \"\"\"\n",
        "prefix ns1: <http://xmlns.com/foaf/0.1/> \n",
        "prefix ns2: <http://www.co-ode.org/ontologies/ont.owl#> \n",
        "prefix rdf: <http://www.w3.org/1999/02/22-rdf-syntax-ns#>\n",
        "prefix rdfs: <http://www.w3.org/2000/01/rdf-schema#> \n",
        "prefix xml: <http://www.w3.org/XML/1998/namespace> \n",
        "prefix xsd: <http://www.w3.org/2001/XMLSchema#> \n",
        "SELECT ?name ?varibale_inutile\n",
        "WHERE{\n",
        "?acteur rdf:type ns2:Acteur . \n",
        "?acteur ns1:familyName ?name .\n",
        "?film rdf:type ns2:Film .\n",
        "?acteur ns2:played_in ?film .\n",
        "?film ns2:title ?titre\n",
        "}\n",
        "\"\"\"\n",
        "resultat = graphe.query(requete)\n",
        "for i in resultat:\n",
        "    print(i)"
      ],
      "execution_count": 0,
      "outputs": []
    },
    {
      "cell_type": "markdown",
      "metadata": {
        "id": "ZRFql_2DTISX",
        "colab_type": "text"
      },
      "source": [
        "Dans le cas ou une variable du select n'est lié a rien par le motif on dit qu'elle est \"unbound\" et elle est représentée dans le résultat par \"None\"."
      ]
    },
    {
      "cell_type": "markdown",
      "metadata": {
        "id": "jugUD9tITISY",
        "colab_type": "text"
      },
      "source": [
        "## Utiliser le mot clef \"FILTER\" et le mot clef \"OPTIONAL\"\n",
        "Les mots clefs \"FILTER\" et \"OPTIONAL\" font partie des mots clefs les plus utiles en SPARQL car ils permettent respectivement de filtrer les triplets résultants, et de définir une partir du motif facultative comme nous le verrons dans ce qui suit\n",
        "\n",
        "Pour commencer, voila comment utiliser le mot clef FILTER pour filtrer les acteur afin de ne garder que ceux dont le nom commence par la lettre H.\n",
        "La fonction Filter garde un tuple si l'expression qui lui est donnée en paramètre renvoie vraie.\n",
        "Ici la fonction a utiliser est la fonction regex qui prend comme premier paramètre une variable et comme second une expression régulière et qui retourne vraie si l'expression régulière match le contenu de la variable."
      ]
    },
    {
      "cell_type": "code",
      "metadata": {
        "id": "FIs8yZmKTISZ",
        "colab_type": "code",
        "colab": {}
      },
      "source": [
        "requete = \"\"\"\n",
        "prefix ns1: <http://xmlns.com/foaf/0.1/> \n",
        "prefix ns2: <http://www.co-ode.org/ontologies/ont.owl#> \n",
        "prefix rdf: <http://www.w3.org/1999/02/22-rdf-syntax-ns#>\n",
        "prefix rdfs: <http://www.w3.org/2000/01/rdf-schema#> \n",
        "prefix xml: <http://www.w3.org/XML/1998/namespace> \n",
        "prefix xsd: <http://www.w3.org/2001/XMLSchema#> \n",
        "SELECT ?name ?film\n",
        "WHERE { \n",
        "?acteur rdf:type ns2:Acteur . \n",
        "?acteur ns1:familyName ?name .\n",
        "?film rdf:type ns2:Film .\n",
        "?acteur ns2:played_in ?film\n",
        "FILTER regex(?name, \"^H\") \n",
        "}\n",
        "\"\"\"\n",
        "resultat = graphe.query(requete)\n",
        "for i in resultat:\n",
        "    print(i)"
      ],
      "execution_count": 0,
      "outputs": []
    },
    {
      "cell_type": "markdown",
      "metadata": {
        "id": "HA7vxoFoTISc",
        "colab_type": "text"
      },
      "source": [
        "Analysons a présent le fonctionnement du mot clef optionnal.\n",
        "Comme je l'ai précisé plus haut j'ai altéré la base de données afin qu'il y ait des acteurs qui n'aient joués dans rien."
      ]
    },
    {
      "cell_type": "code",
      "metadata": {
        "id": "HkpHP2DNTISd",
        "colab_type": "code",
        "colab": {}
      },
      "source": [
        "requete = \"\"\"\n",
        "prefix ns1: <http://xmlns.com/foaf/0.1/> \n",
        "prefix ns2: <http://www.co-ode.org/ontologies/ont.owl#> \n",
        "prefix rdf: <http://www.w3.org/1999/02/22-rdf-syntax-ns#>\n",
        "prefix rdfs: <http://www.w3.org/2000/01/rdf-schema#> \n",
        "prefix xml: <http://www.w3.org/XML/1998/namespace> \n",
        "prefix xsd: <http://www.w3.org/2001/XMLSchema#> \n",
        "SELECT ?name \n",
        "WHERE{\n",
        "?acteur rdf:type ns2:Acteur . \n",
        "?acteur ns1:familyName ?name .\n",
        "?film rdf:type ns2:Film .\n",
        "?acteur ns2:played_in ?film .\n",
        "?film ns2:title ?titre\n",
        "}\n",
        "\"\"\"\n",
        "resultat = graphe.query(requete)\n",
        "for i in resultat:\n",
        "    print(i)\n",
        "print(\"Nombre de reponses :\",len(list(resultat)))"
      ],
      "execution_count": 0,
      "outputs": []
    },
    {
      "cell_type": "code",
      "metadata": {
        "id": "FoNBQYu0TISg",
        "colab_type": "code",
        "colab": {}
      },
      "source": [
        "requete = \"\"\"\n",
        "prefix ns1: <http://xmlns.com/foaf/0.1/> \n",
        "prefix ns2: <http://www.co-ode.org/ontologies/ont.owl#> \n",
        "prefix rdf: <http://www.w3.org/1999/02/22-rdf-syntax-ns#>\n",
        "prefix rdfs: <http://www.w3.org/2000/01/rdf-schema#> \n",
        "prefix xml: <http://www.w3.org/XML/1998/namespace> \n",
        "prefix xsd: <http://www.w3.org/2001/XMLSchema#> \n",
        "SELECT ?name\n",
        "WHERE{\n",
        "?acteur rdf:type ns2:Acteur . \n",
        "?acteur ns1:familyName ?name .\n",
        "}\n",
        "\"\"\"\n",
        "resultat = graphe.query(requete)\n",
        "for i in resultat:\n",
        "    print(i)\n",
        "print(\"Nombre de reponses :\",len(list(resultat)))"
      ],
      "execution_count": 0,
      "outputs": []
    },
    {
      "cell_type": "markdown",
      "metadata": {
        "id": "KGGrXBEETISi",
        "colab_type": "text"
      },
      "source": [
        "A présent imaginons qu'on veuille créer une requète qui retourne le nom du film si l'acteur a jouer dans un film."
      ]
    },
    {
      "cell_type": "code",
      "metadata": {
        "id": "56b8kKYKTISj",
        "colab_type": "code",
        "colab": {}
      },
      "source": [
        "requete = \"\"\"\n",
        "prefix ns1: <http://xmlns.com/foaf/0.1/> \n",
        "prefix ns2: <http://www.co-ode.org/ontologies/ont.owl#> \n",
        "prefix rdf: <http://www.w3.org/1999/02/22-rdf-syntax-ns#>\n",
        "prefix rdfs: <http://www.w3.org/2000/01/rdf-schema#> \n",
        "prefix xml: <http://www.w3.org/XML/1998/namespace> \n",
        "prefix xsd: <http://www.w3.org/2001/XMLSchema#> \n",
        "SELECT ?name ?titre\n",
        "WHERE{\n",
        "?acteur rdf:type ns2:Acteur . \n",
        "?acteur ns1:familyName ?name .\n",
        "OPTIONAL{\n",
        "?film rdf:type ns2:Film .\n",
        "?acteur ns2:played_in ?film .\n",
        "?film ns2:title ?titre\n",
        "}\n",
        "}\n",
        "\"\"\"\n",
        "resultat = graphe.query(requete)\n",
        "for i in resultat:\n",
        "    print(i)\n",
        "print(\"Nombre de reponses :\",len(list(resultat)))"
      ],
      "execution_count": 0,
      "outputs": []
    },
    {
      "cell_type": "markdown",
      "metadata": {
        "id": "ifAqqq3kTISm",
        "colab_type": "text"
      },
      "source": [
        "Il suffit donc simplement d'entourer la partie optionnelle par un bloc \"OPTIONAL\", nous remarquons d'ailleurs que quand l'acteur n'a pas joué dans un film la variable film n'est pas lié elle reste donc \"unbound\".\n",
        "Ceci permet par la combinaison des mots clefs OPTIONAL et FILTER et en utilisant la fonction \"bound\" qui renvoie vrai si la variable est liée de récupérer les acteurs qui n'ont pas joué dans des films comme suit : "
      ]
    },
    {
      "cell_type": "code",
      "metadata": {
        "id": "e_EKFRBITISn",
        "colab_type": "code",
        "colab": {}
      },
      "source": [
        "requete = \"\"\"\n",
        "prefix ns1: <http://xmlns.com/foaf/0.1/> \n",
        "prefix ns2: <http://www.co-ode.org/ontologies/ont.owl#> \n",
        "prefix rdf: <http://www.w3.org/1999/02/22-rdf-syntax-ns#>\n",
        "prefix rdfs: <http://www.w3.org/2000/01/rdf-schema#> \n",
        "prefix xml: <http://www.w3.org/XML/1998/namespace> \n",
        "prefix xsd: <http://www.w3.org/2001/XMLSchema#> \n",
        "SELECT ?name ?titre\n",
        "WHERE{\n",
        "?acteur rdf:type ns2:Acteur . \n",
        "?acteur ns1:familyName ?name .\n",
        "OPTIONAL{\n",
        "?film rdf:type ns2:Film .\n",
        "?acteur ns2:played_in ?film .\n",
        "?film ns2:title ?titre\n",
        "}\n",
        "FILTER(!bound(?film))\n",
        "}\n",
        "\"\"\"\n",
        "resultat = graphe.query(requete)\n",
        "for i in resultat:\n",
        "    print(i)\n",
        "print(\"Nombre de reponses :\",len(list(resultat)))"
      ],
      "execution_count": 0,
      "outputs": []
    },
    {
      "cell_type": "markdown",
      "metadata": {
        "id": "iF6Y39ohTISr",
        "colab_type": "text"
      },
      "source": [
        "Ce mécanisme permet donc de reproduire la division du langage de requètes algébriques, division qui est assez compliquée a utiliser en SQL ou on doit utiliser des IF EXISTS imbriqués sur plusieurs niveaux."
      ]
    },
    {
      "cell_type": "markdown",
      "metadata": {
        "id": "m1C_3nyKTISs",
        "colab_type": "text"
      },
      "source": [
        "#### Le mot clef \"UNION\"\n",
        "Le mot clef union permet de fusionner deux graphes rdf ce qui représente un aventage majeur de la représentation par graphe rdf par rapport a la représentation sous forme de table qu'on retrouve en SQL."
      ]
    },
    {
      "cell_type": "code",
      "metadata": {
        "id": "9rB2nb8sTISs",
        "colab_type": "code",
        "colab": {}
      },
      "source": [
        "requete = \"\"\"\n",
        "prefix ns1: <http://xmlns.com/foaf/0.1/> \n",
        "prefix ns2: <http://www.co-ode.org/ontologies/ont.owl#> \n",
        "prefix rdf: <http://www.w3.org/1999/02/22-rdf-syntax-ns#>\n",
        "prefix rdfs: <http://www.w3.org/2000/01/rdf-schema#> \n",
        "prefix xml: <http://www.w3.org/XML/1998/namespace> \n",
        "prefix xsd: <http://www.w3.org/2001/XMLSchema#> \n",
        "SELECT ?name ?film\n",
        "WHERE { \n",
        "\n",
        "# Bloc qui récupère les acteurs dont le nom commence par H\n",
        "{\n",
        "?acteur rdf:type ns2:Acteur . \n",
        "?acteur ns1:familyName ?name .\n",
        "?film rdf:type ns2:Film .\n",
        "?acteur ns2:played_in ?film\n",
        "FILTER regex(?name, \"^H\") \n",
        "}\n",
        "\n",
        "UNION \n",
        "\n",
        "\n",
        "# Bloc qui récupère les acteurs dont le nom commence par A\n",
        "{\n",
        "?acteur rdf:type ns2:Acteur . \n",
        "?acteur ns1:familyName ?name .\n",
        "?film rdf:type ns2:Film .\n",
        "?acteur ns2:played_in ?film\n",
        "FILTER regex(?name, \"^A\") \n",
        "}\n",
        "\n",
        "}\n",
        "\"\"\"\n",
        "resultat = graphe.query(requete)\n",
        "for i in resultat:\n",
        "    print(i)"
      ],
      "execution_count": 0,
      "outputs": []
    },
    {
      "cell_type": "markdown",
      "metadata": {
        "id": "gS5OuylVTISw",
        "colab_type": "text"
      },
      "source": [
        "### Remarques : \n",
        "- L'instruction FILTER peut prendre n'importe quel expression logique par exemple on peut imaginer utiliser ?taille > 189\n",
        "- Les opérations d'aggrégations qui sont possibles en SQL sont également possibles en SPARQL (GroupBy, Having etc..)\n",
        "Ce tutoriel n'est pas exhaustif concernant toutes les possibilités du langage SPARQL car ce sont des informations qui sont accessible a n'importe qui via la documentation une fois qu'il a compris la logique des motifs et des variables et le mécanisme bound/unbound.\n",
        "\n",
        "Je vous conseille néanmoins de travailler avec cet excellent aide-mémoire sous la main : \n",
        "http://www.iro.umontreal.ca/~lapalme/ift6282/SparqlRappels.html\n",
        "Et n'hésitez pas a vous référer a la documentation officielle pour connaitre les manipulations plus complexes que vous pouvez faire c'est trés bien documenté avec beaucoup d'exemples : \n",
        "https://www.w3.org/TR/rdf-sparql-query/"
      ]
    }
  ]
}