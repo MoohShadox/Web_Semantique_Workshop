{
 "cells": [
  {
   "cell_type": "code",
   "execution_count": 17,
   "metadata": {},
   "outputs": [
    {
     "name": "stdout",
     "output_type": "stream",
     "text": [
      "Requirement already satisfied: owlready2 in /home/mohamed/anaconda3/lib/python3.7/site-packages (0.23)\r\n"
     ]
    }
   ],
   "source": [
    "!pip install owlready2\n",
    "from owlready2 import *"
   ]
  },
  {
   "cell_type": "markdown",
   "metadata": {},
   "source": [
    "# Lab 02 : OWLReady \n",
    "Dans ce lab nous allons étudier le fonctionnement de OWLReady et les possibilités que cette librairie offre, nous aborderons notamment les questions suivantes : \n",
    "- Manipuler des ontologies déja existantes\n",
    "- Comment enrichir une ontologie\n",
    "- Comment créer et ajouter des individus\n",
    "- Comment éditer des régles d'inférences \n",
    "- Comment exécuter le raisonneur et les différents raisonneurs qui existent (Hermit, Pellet etc..) \n",
    "- Comment voire ce que le raisonner a inféré et notamment comment vérifier qu'une classe est inconsistante.\n",
    "- Comment transformer une ontologie en graphe rdflib afin de pouvoir exécuter des requêtes SPARQL dessus."
   ]
  },
  {
   "cell_type": "markdown",
   "metadata": {},
   "source": [
    "## 1- Récupérer et Manipuler des ontologies \n",
    "Avant toute chose il faut savoir que si les ontologies peuvent être sérialisées en un fichier .owl ce n'est pas la représentation la plus pratique pour stocker des grands volumes de données, ils serrons plûtot enregistrées dans des quadstore qui ont pour avantage d'être indexées.\n",
    "\n",
    "Cette première ligne servira donc a fixer le back end ce qui signifie trois chose : \n",
    "- Si le fichier existe déja la ligne va automatiquement récupérer les ontologies qui sont dessus\n",
    "- Si le fichier n'existe pas et que vous n'avez pas encore commencé la construction de l'ontologie, le fichier serra crée.\n",
    "- Si le fichier n'existe pas mais que vous avez déja commencé a construire l'ontologie (si vous avez exécuté le notebook puis que vous êtes remontés pour executer cette cellule par exemple) ça renverra une erreur."
   ]
  },
  {
   "cell_type": "code",
   "execution_count": 18,
   "metadata": {},
   "outputs": [],
   "source": [
    "default_world.set_backend(filename = \"file_back3.sqlite3\", exclusive = False)"
   ]
  },
  {
   "cell_type": "markdown",
   "metadata": {},
   "source": [
    "Ensuite, il est possible de charger une ontologie a partir d'un fichier OWL sérialisé en RDF/XML, ce fichier peut provenir de l'exercice précédent qui génére une ontologie avec RDFLib ou directement de protégé.\n",
    "Dans cette application nous utiliserons une ontologie faite sur protégé."
   ]
  },
  {
   "cell_type": "code",
   "execution_count": 19,
   "metadata": {},
   "outputs": [
    {
     "name": "stdout",
     "output_type": "stream",
     "text": [
      "<?xml version=\"1.0\"?>\r\n",
      "<rdf:RDF xmlns=\"http://www.semanticweb.org/mohamed/ontologies/2020/3/Amazone_Ont#\"\r\n",
      "     xml:base=\"http://www.semanticweb.org/mohamed/ontologies/2020/3/Amazone_Ont\"\r\n",
      "     xmlns:owl=\"http://www.w3.org/2002/07/owl#\"\r\n",
      "     xmlns:rdf=\"http://www.w3.org/1999/02/22-rdf-syntax-ns#\"\r\n",
      "     xmlns:xml=\"http://www.w3.org/XML/1998/namespace\"\r\n",
      "     xmlns:xsd=\"http://www.w3.org/2001/XMLSchema#\"\r\n",
      "     xmlns:rdfs=\"http://www.w3.org/2000/01/rdf-schema#\">\r\n",
      "    <owl:Ontology rdf:about=\"http://www.semanticweb.org/mohamed/ontologies/2020/3/Amazone_Ont\"/>\r\n",
      "    \r\n",
      "\r\n",
      "\r\n",
      "    <!-- \r\n",
      "    ///////////////////////////////////////////////////////////////////////////////////////\r\n",
      "    //\r\n",
      "    // Object Properties\r\n",
      "    //\r\n",
      "    ///////////////////////////////////////////////////////////////////////////////////////\r\n",
      "     -->\r\n",
      "\r\n",
      "    \r\n",
      "\r\n",
      "\r\n",
      "    <!-- http://www.semanticweb.org/mohamed/ontologies/2020/3/Amazone_Ont#also_bought -->\r\n",
      "\r\n",
      "    <owl:ObjectProperty rdf:about=\"http://www.semanticweb.org/mohamed/ontologies/2020/3/Amazone_Ont#also_bought\"/>\r\n",
      "    \r\n",
      "\r\n",
      "\r\n",
      "    <!-- http://www.semanticweb.org/mohamed/ontologies/2020/3/Amazone_Ont#also_view -->\r\n",
      "\r\n",
      "    <owl:ObjectProperty rdf:about=\"http://www.semanticweb.org/mohamed/ontologies/2020/3/Amazone_Ont#also_view\"/>\r\n",
      "    \r\n",
      "\r\n",
      "\r\n",
      "    <!-- http://www.semanticweb.org/mohamed/ontologies/2020/3/Amazone_Ont#appartientCategory -->\r\n",
      "\r\n",
      "    <owl:ObjectProperty rdf:about=\"http://www.semanticweb.org/mohamed/ontologies/2020/3/Amazone_Ont#appartientCategory\">\r\n",
      "        <rdfs:domain rdf:resource=\"http://www.semanticweb.org/mohamed/ontologies/2020/3/Amazone_Ont#Article\"/>\r\n",
      "        <rdfs:range rdf:resource=\"http://www.semanticweb.org/mohamed/ontologies/2020/3/Amazone_Ont#Category\"/>\r\n",
      "    </owl:ObjectProperty>\r\n",
      "    \r\n",
      "\r\n",
      "\r\n",
      "    <!-- http://www.semanticweb.org/mohamed/ontologies/2020/3/Amazone_Ont#brandOf -->\r\n",
      "\r\n",
      "    <owl:ObjectProperty rdf:about=\"http://www.semanticweb.org/mohamed/ontologies/2020/3/Amazone_Ont#brandOf\">\r\n",
      "        <owl:inverseOf rdf:resource=\"http://www.semanticweb.org/mohamed/ontologies/2020/3/Amazone_Ont#hasBrand\"/>\r\n",
      "    </owl:ObjectProperty>\r\n",
      "    \r\n",
      "\r\n",
      "\r\n",
      "    <!-- http://www.semanticweb.org/mohamed/ontologies/2020/3/Amazone_Ont#contientArticle -->\r\n",
      "\r\n",
      "    <owl:ObjectProperty rdf:about=\"http://www.semanticweb.org/mohamed/ontologies/2020/3/Amazone_Ont#contientArticle\">\r\n",
      "        <owl:inverseOf rdf:resource=\"http://www.semanticweb.org/mohamed/ontologies/2020/3/Amazone_Ont#contientArticle\"/>\r\n",
      "    </owl:ObjectProperty>\r\n",
      "    \r\n",
      "\r\n",
      "\r\n",
      "    <!-- http://www.semanticweb.org/mohamed/ontologies/2020/3/Amazone_Ont#hasBrand -->\r\n",
      "\r\n",
      "    <owl:ObjectProperty rdf:about=\"http://www.semanticweb.org/mohamed/ontologies/2020/3/Amazone_Ont#hasBrand\">\r\n",
      "        <rdfs:domain rdf:resource=\"http://www.semanticweb.org/mohamed/ontologies/2020/3/Amazone_Ont#Article\"/>\r\n",
      "        <rdfs:range rdf:resource=\"http://www.semanticweb.org/mohamed/ontologies/2020/3/Amazone_Ont#Brands\"/>\r\n",
      "    </owl:ObjectProperty>\r\n",
      "    \r\n",
      "\r\n",
      "\r\n",
      "    <!-- \r\n",
      "    ///////////////////////////////////////////////////////////////////////////////////////\r\n",
      "    //\r\n",
      "    // Data properties\r\n",
      "    //\r\n",
      "    ///////////////////////////////////////////////////////////////////////////////////////\r\n",
      "     -->\r\n",
      "\r\n",
      "    \r\n",
      "\r\n",
      "\r\n",
      "    <!-- http://www.semanticweb.org/mohamed/ontologies/2020/3/Amazone_Ont#Description -->\r\n",
      "\r\n",
      "    <owl:DatatypeProperty rdf:about=\"http://www.semanticweb.org/mohamed/ontologies/2020/3/Amazone_Ont#Description\">\r\n",
      "        <rdfs:domain rdf:resource=\"http://www.semanticweb.org/mohamed/ontologies/2020/3/Amazone_Ont#Article\"/>\r\n",
      "        <rdfs:range rdf:resource=\"http://www.w3.org/2001/XMLSchema#string\"/>\r\n",
      "    </owl:DatatypeProperty>\r\n",
      "    \r\n",
      "\r\n",
      "\r\n",
      "    <!-- http://www.semanticweb.org/mohamed/ontologies/2020/3/Amazone_Ont#SalesRank -->\r\n",
      "\r\n",
      "    <owl:DatatypeProperty rdf:about=\"http://www.semanticweb.org/mohamed/ontologies/2020/3/Amazone_Ont#SalesRank\"/>\r\n",
      "    \r\n",
      "\r\n",
      "\r\n",
      "    <!-- http://www.semanticweb.org/mohamed/ontologies/2020/3/Amazone_Ont#Title -->\r\n",
      "\r\n",
      "    <owl:DatatypeProperty rdf:about=\"http://www.semanticweb.org/mohamed/ontologies/2020/3/Amazone_Ont#Title\"/>\r\n",
      "    \r\n",
      "\r\n",
      "\r\n",
      "    <!-- \r\n",
      "    ///////////////////////////////////////////////////////////////////////////////////////\r\n",
      "    //\r\n",
      "    // Classes\r\n",
      "    //\r\n",
      "    ///////////////////////////////////////////////////////////////////////////////////////\r\n",
      "     -->\r\n",
      "\r\n",
      "    \r\n",
      "\r\n",
      "\r\n",
      "    <!-- http://www.semanticweb.org/mohamed/ontologies/2020/3/Amazone_Ont#Article -->\r\n",
      "\r\n",
      "    <owl:Class rdf:about=\"http://www.semanticweb.org/mohamed/ontologies/2020/3/Amazone_Ont#Article\">\r\n",
      "        <rdfs:subClassOf>\r\n",
      "            <owl:Restriction>\r\n",
      "                <owl:onProperty rdf:resource=\"http://www.semanticweb.org/mohamed/ontologies/2020/3/Amazone_Ont#appartientCategory\"/>\r\n",
      "                <owl:someValuesFrom rdf:resource=\"http://www.semanticweb.org/mohamed/ontologies/2020/3/Amazone_Ont#Main_Category\"/>\r\n",
      "            </owl:Restriction>\r\n",
      "        </rdfs:subClassOf>\r\n",
      "    </owl:Class>\r\n",
      "    \r\n",
      "\r\n",
      "\r\n",
      "    <!-- http://www.semanticweb.org/mohamed/ontologies/2020/3/Amazone_Ont#Brands -->\r\n",
      "\r\n",
      "    <owl:Class rdf:about=\"http://www.semanticweb.org/mohamed/ontologies/2020/3/Amazone_Ont#Brands\"/>\r\n",
      "    \r\n",
      "\r\n",
      "\r\n",
      "    <!-- http://www.semanticweb.org/mohamed/ontologies/2020/3/Amazone_Ont#Category -->\r\n",
      "\r\n",
      "    <owl:Class rdf:about=\"http://www.semanticweb.org/mohamed/ontologies/2020/3/Amazone_Ont#Category\"/>\r\n",
      "    \r\n",
      "\r\n",
      "\r\n",
      "    <!-- http://www.semanticweb.org/mohamed/ontologies/2020/3/Amazone_Ont#Main_Category -->\r\n",
      "\r\n",
      "    <owl:Class rdf:about=\"http://www.semanticweb.org/mohamed/ontologies/2020/3/Amazone_Ont#Main_Category\">\r\n",
      "        <rdfs:subClassOf rdf:resource=\"http://www.semanticweb.org/mohamed/ontologies/2020/3/Amazone_Ont#Category\"/>\r\n",
      "        <owl:disjointWith rdf:resource=\"http://www.semanticweb.org/mohamed/ontologies/2020/3/Amazone_Ont#Other_Categories\"/>\r\n",
      "    </owl:Class>\r\n",
      "    \r\n",
      "\r\n",
      "\r\n",
      "    <!-- http://www.semanticweb.org/mohamed/ontologies/2020/3/Amazone_Ont#Other_Categories -->\r\n",
      "\r\n",
      "    <owl:Class rdf:about=\"http://www.semanticweb.org/mohamed/ontologies/2020/3/Amazone_Ont#Other_Categories\">\r\n",
      "        <rdfs:subClassOf rdf:resource=\"http://www.semanticweb.org/mohamed/ontologies/2020/3/Amazone_Ont#Category\"/>\r\n",
      "    </owl:Class>\r\n",
      "</rdf:RDF>\r\n",
      "\r\n",
      "\r\n",
      "\r\n",
      "<!-- Generated by the OWL API (version 4.5.9.2019-02-01T07:24:44Z) https://github.com/owlcs/owlapi -->\r\n",
      "\r\n"
     ]
    }
   ],
   "source": [
    "onto = get_ontology(\"file:///home/mohamed/Bureau/Web_Semantique_Workshop/Amazone_Ontology.owl\").load()\n",
    "!cat /home/mohamed/Bureau/Web_Semantique_Workshop/Amazone_Ontology.owl"
   ]
  },
  {
   "cell_type": "markdown",
   "metadata": {},
   "source": [
    "Maintenant que nous avons récupéré notre ontologie voici quelques exemples de méthodes permettant de l'explorer : "
   ]
  },
  {
   "cell_type": "code",
   "execution_count": 20,
   "metadata": {},
   "outputs": [
    {
     "name": "stdout",
     "output_type": "stream",
     "text": [
      "Amazone_Ontology.Article\n",
      "Amazone_Ontology.Category\n",
      "Amazone_Ontology.Brands\n",
      "Amazone_Ontology.Main_Category\n",
      "Amazone_Ontology.Other_Categories\n"
     ]
    }
   ],
   "source": [
    "#Afficher les classes : \n",
    "for i in onto.classes():\n",
    "    print(i)"
   ]
  },
  {
   "cell_type": "code",
   "execution_count": 21,
   "metadata": {},
   "outputs": [
    {
     "name": "stdout",
     "output_type": "stream",
     "text": [
      "Amazone_Ontology.also_bought\n",
      "Amazone_Ontology.also_view\n",
      "Amazone_Ontology.appartientCategory\n",
      "Amazone_Ontology.brandOf\n",
      "Amazone_Ontology.hasBrand\n",
      "Amazone_Ontology.contientArticle\n"
     ]
    }
   ],
   "source": [
    "#Afficher les propriétés : \n",
    "for i in onto.object_properties():\n",
    "    print(i)"
   ]
  },
  {
   "cell_type": "code",
   "execution_count": 22,
   "metadata": {},
   "outputs": [],
   "source": [
    "for i in onto.individuals():\n",
    "    print(i)"
   ]
  },
  {
   "cell_type": "markdown",
   "metadata": {},
   "source": [
    "Nous remarquons que l'ontologie ne contient pas d'individus mais nous allons y remédier dans la prochaine partie."
   ]
  },
  {
   "cell_type": "markdown",
   "metadata": {},
   "source": [
    "## 2- Créer des individus\n",
    "Pour accéder aux classes présentes dans l'ontologie nous pouvons utiliser le générateur de classes qu'on transformera en liste pour l'occasion."
   ]
  },
  {
   "cell_type": "code",
   "execution_count": 23,
   "metadata": {},
   "outputs": [],
   "source": [
    "class_article = list(onto.classes())[0]\n",
    "A = class_article()"
   ]
  },
  {
   "cell_type": "code",
   "execution_count": 24,
   "metadata": {},
   "outputs": [
    {
     "name": "stdout",
     "output_type": "stream",
     "text": [
      "Amazone_Ontology.article1\n"
     ]
    }
   ],
   "source": [
    "for i in onto.individuals():\n",
    "    print(i)"
   ]
  },
  {
   "cell_type": "markdown",
   "metadata": {},
   "source": [
    "Et cette fois ci on remarquera qu'on a bien un individu qui c'est crée, réexecutais plusieurs fois la première cellule vous pourrez constater que l'instruction crée bien un individu."
   ]
  },
  {
   "cell_type": "code",
   "execution_count": 25,
   "metadata": {},
   "outputs": [],
   "source": [
    "relation_alsobought = list(onto.object_properties())[0]"
   ]
  },
  {
   "cell_type": "code",
   "execution_count": 26,
   "metadata": {},
   "outputs": [
    {
     "data": {
      "text/plain": [
       "<Amazone_Ontology.also_bought at 0x7fedbddb2910>"
      ]
     },
     "execution_count": 26,
     "metadata": {},
     "output_type": "execute_result"
    }
   ],
   "source": [
    "relation_alsobought()"
   ]
  },
  {
   "cell_type": "markdown",
   "metadata": {},
   "source": [
    "Cependant notre petite astuce ne permet pas de créer des relations, ainsi, on priviligiera une façon native qui est beaucoup plus pratique pour créer nos relations, cependant, manipuler une ontologie crées sur protégé peut s'avérer particulièrement utile afin d'en récupérer les individus et les concepts."
   ]
  },
  {
   "cell_type": "markdown",
   "metadata": {},
   "source": [
    "## 3- Enrichir une ontologie \n",
    "Cette fois ci, nous allons essayer de reconstruire une nouvelle ontologie de zéro en utilisant owlready. \n",
    "Ce qui est intéressant avec cette façon de faire c'est que nous allons créer des classes Python en même temps que les classes représentant les concepts correspondant dans l'ontologie."
   ]
  },
  {
   "cell_type": "code",
   "execution_count": 31,
   "metadata": {},
   "outputs": [],
   "source": [
    "#On crée une nouvelle ontologie \n",
    "onto = get_ontology(\"https://urlinvente/monontologie\")\n",
    "\n",
    "with onto:\n",
    "    \n",
    "    #On crée une classe Animal et une classe Plante qui héritent toutes deux de Thing\n",
    "    #On peut même créer des méthodes dans les classes comme en orienté objet\n",
    "    class Animal(Thing):\n",
    "        def presente_toi(self):\n",
    "            print(\"je suis un animal !\")\n",
    "        \n",
    "    class Plante(Thing):\n",
    "        pass\n",
    "    \n",
    "    #On précise que les deux classe sont disjointes\n",
    "    AllDisjoint([Animal, Plante])\n",
    "    \n",
    "    #On crée une propriété qui va avoir comme domain Animal et comme range Thing\n",
    "    class mange(Animal >> Thing):\n",
    "        pass\n",
    "    \n",
    "    class nemangepas(Animal >> Animal):\n",
    "        pass\n",
    "    \n",
    "    \"\"\"On crée une dataproperty cette fois sans utiliser la notation abrégée ce qui nous permet d'hériter a la fois\n",
    "    de DataProperty mais également de FunctionalProperty qui permet donc de préciser que chaque animal a un un nom\n",
    "    unique\n",
    "    \"\"\"\n",
    "    class nomOfficiel(DataProperty, FunctionalProperty):\n",
    "        domain = [Animal]\n",
    "        range = [str]\n",
    "        \n",
    "    \"\"\"\n",
    "    Maintenant on va créer une ou deux classes par equivalence\n",
    "    \"\"\"\n",
    "    class carnivore(Thing):\n",
    "        equivalent_to = [Animal & mange.some(Animal)]\n",
    "        def presente_toi(self):\n",
    "            print(\"je suis un carnivore !\")\n",
    "            \n",
    "            \n",
    "    class herbivore(Thing):\n",
    "        equivalent_to = [Animal & mange.only(Plante)]\n",
    "        \n",
    "    class nonsense(Thing):\n",
    "        equivalent_to = [Animal & Plante]\n"
   ]
  },
  {
   "cell_type": "markdown",
   "metadata": {},
   "source": [
    "A présent on peut commencer a créer nos individus et ensuite nous pourrons les manipuler en leur ajoutant des relations."
   ]
  },
  {
   "cell_type": "code",
   "execution_count": 32,
   "metadata": {},
   "outputs": [],
   "source": [
    "Lion = Animal()\n",
    "Arbre = Plante()\n",
    "Tigre = carnivore()\n",
    "Brebis = Animal()"
   ]
  },
  {
   "cell_type": "code",
   "execution_count": 33,
   "metadata": {},
   "outputs": [],
   "source": [
    "Brebis.mange = [Arbre]\n",
    "Lion.mange = [Brebis]\n",
    "Lion.nomOfficiel = \"Lion\"\n",
    "Tigre.nomOfficiel = \"Tigre\"\n",
    "Brebis.nomOfficiel = \"Brebis\""
   ]
  },
  {
   "cell_type": "code",
   "execution_count": 34,
   "metadata": {},
   "outputs": [
    {
     "name": "stdout",
     "output_type": "stream",
     "text": [
      "<https://urlinvente/monontologie> <http://www.w3.org/1999/02/22-rdf-syntax-ns#type> <http://www.w3.org/2002/07/owl#Ontology> .\r\n",
      "<https://urlinvente/monontologie#Animal> <http://www.w3.org/1999/02/22-rdf-syntax-ns#type> <http://www.w3.org/2002/07/owl#Class> .\r\n",
      "<https://urlinvente/monontologie#Animal> <http://www.w3.org/2000/01/rdf-schema#subClassOf> <http://www.w3.org/2002/07/owl#Thing> .\r\n",
      "<https://urlinvente/monontologie#Plante> <http://www.w3.org/1999/02/22-rdf-syntax-ns#type> <http://www.w3.org/2002/07/owl#Class> .\r\n",
      "<https://urlinvente/monontologie#Plante> <http://www.w3.org/2000/01/rdf-schema#subClassOf> <http://www.w3.org/2002/07/owl#Thing> .\r\n",
      "<https://urlinvente/monontologie#Animal> <http://www.w3.org/2002/07/owl#disjointWith> <https://urlinvente/monontologie#Plante> .\r\n",
      "<https://urlinvente/monontologie#mange> <http://www.w3.org/1999/02/22-rdf-syntax-ns#type> <http://www.w3.org/2002/07/owl#ObjectProperty> .\r\n",
      "<https://urlinvente/monontologie#mange> <http://www.w3.org/2000/01/rdf-schema#domain> <https://urlinvente/monontologie#Animal> .\r\n",
      "<https://urlinvente/monontologie#mange> <http://www.w3.org/2000/01/rdf-schema#range> <http://www.w3.org/2002/07/owl#Thing> .\r\n",
      "<https://urlinvente/monontologie#nemangepas> <http://www.w3.org/1999/02/22-rdf-syntax-ns#type> <http://www.w3.org/2002/07/owl#ObjectProperty> .\r\n",
      "<https://urlinvente/monontologie#nemangepas> <http://www.w3.org/2000/01/rdf-schema#domain> <https://urlinvente/monontologie#Animal> .\r\n",
      "<https://urlinvente/monontologie#nemangepas> <http://www.w3.org/2000/01/rdf-schema#range> <https://urlinvente/monontologie#Animal> .\r\n",
      "<https://urlinvente/monontologie#nomOfficiel> <http://www.w3.org/1999/02/22-rdf-syntax-ns#type> <http://www.w3.org/2002/07/owl#DatatypeProperty> .\r\n",
      "<https://urlinvente/monontologie#nomOfficiel> <http://www.w3.org/1999/02/22-rdf-syntax-ns#type> <http://www.w3.org/2002/07/owl#FunctionalProperty> .\r\n",
      "<https://urlinvente/monontologie#nomOfficiel> <http://www.w3.org/2000/01/rdf-schema#domain> <https://urlinvente/monontologie#Animal> .\r\n",
      "<https://urlinvente/monontologie#nomOfficiel> <http://www.w3.org/2000/01/rdf-schema#range> <http://www.w3.org/2001/XMLSchema#string> .\r\n",
      "<https://urlinvente/monontologie#carnivore> <http://www.w3.org/1999/02/22-rdf-syntax-ns#type> <http://www.w3.org/2002/07/owl#Class> .\r\n",
      "<https://urlinvente/monontologie#carnivore> <http://www.w3.org/2000/01/rdf-schema#subClassOf> <http://www.w3.org/2002/07/owl#Thing> .\r\n",
      "_:2 <http://www.w3.org/1999/02/22-rdf-syntax-ns#type> <http://www.w3.org/2002/07/owl#Restriction> .\r\n",
      "_:2 <http://www.w3.org/2002/07/owl#onProperty> <https://urlinvente/monontologie#mange> .\r\n",
      "_:2 <http://www.w3.org/2002/07/owl#someValuesFrom> <https://urlinvente/monontologie#Animal> .\r\n",
      "_:3 <http://www.w3.org/1999/02/22-rdf-syntax-ns#type> <http://www.w3.org/2002/07/owl#Class> .\r\n",
      "_:3 <http://www.w3.org/2002/07/owl#intersectionOf> _:1 .\r\n",
      "_:1 <http://www.w3.org/1999/02/22-rdf-syntax-ns#first> <https://urlinvente/monontologie#Animal> .\r\n",
      "_:1 <http://www.w3.org/1999/02/22-rdf-syntax-ns#rest> _:4 .\r\n",
      "_:4 <http://www.w3.org/1999/02/22-rdf-syntax-ns#first> _:2 .\r\n",
      "_:4 <http://www.w3.org/1999/02/22-rdf-syntax-ns#rest> <http://www.w3.org/1999/02/22-rdf-syntax-ns#nil> .\r\n",
      "<https://urlinvente/monontologie#carnivore> <http://www.w3.org/2002/07/owl#equivalentClass> _:3 .\r\n",
      "<https://urlinvente/monontologie#herbivore> <http://www.w3.org/1999/02/22-rdf-syntax-ns#type> <http://www.w3.org/2002/07/owl#Class> .\r\n",
      "<https://urlinvente/monontologie#herbivore> <http://www.w3.org/2000/01/rdf-schema#subClassOf> <http://www.w3.org/2002/07/owl#Thing> .\r\n",
      "_:6 <http://www.w3.org/1999/02/22-rdf-syntax-ns#type> <http://www.w3.org/2002/07/owl#Restriction> .\r\n",
      "_:6 <http://www.w3.org/2002/07/owl#onProperty> <https://urlinvente/monontologie#mange> .\r\n",
      "_:6 <http://www.w3.org/2002/07/owl#allValuesFrom> <https://urlinvente/monontologie#Plante> .\r\n",
      "_:7 <http://www.w3.org/1999/02/22-rdf-syntax-ns#type> <http://www.w3.org/2002/07/owl#Class> .\r\n",
      "_:7 <http://www.w3.org/2002/07/owl#intersectionOf> _:5 .\r\n",
      "_:5 <http://www.w3.org/1999/02/22-rdf-syntax-ns#first> <https://urlinvente/monontologie#Animal> .\r\n",
      "_:5 <http://www.w3.org/1999/02/22-rdf-syntax-ns#rest> _:8 .\r\n",
      "_:8 <http://www.w3.org/1999/02/22-rdf-syntax-ns#first> _:6 .\r\n",
      "_:8 <http://www.w3.org/1999/02/22-rdf-syntax-ns#rest> <http://www.w3.org/1999/02/22-rdf-syntax-ns#nil> .\r\n",
      "<https://urlinvente/monontologie#herbivore> <http://www.w3.org/2002/07/owl#equivalentClass> _:7 .\r\n",
      "<https://urlinvente/monontologie#nonsense> <http://www.w3.org/1999/02/22-rdf-syntax-ns#type> <http://www.w3.org/2002/07/owl#Class> .\r\n",
      "<https://urlinvente/monontologie#nonsense> <http://www.w3.org/2000/01/rdf-schema#subClassOf> <http://www.w3.org/2002/07/owl#Thing> .\r\n",
      "_:10 <http://www.w3.org/1999/02/22-rdf-syntax-ns#type> <http://www.w3.org/2002/07/owl#Class> .\r\n",
      "_:10 <http://www.w3.org/2002/07/owl#intersectionOf> _:9 .\r\n",
      "_:9 <http://www.w3.org/1999/02/22-rdf-syntax-ns#first> <https://urlinvente/monontologie#Animal> .\r\n",
      "_:9 <http://www.w3.org/1999/02/22-rdf-syntax-ns#rest> _:11 .\r\n",
      "_:11 <http://www.w3.org/1999/02/22-rdf-syntax-ns#first> <https://urlinvente/monontologie#Plante> .\r\n",
      "_:11 <http://www.w3.org/1999/02/22-rdf-syntax-ns#rest> <http://www.w3.org/1999/02/22-rdf-syntax-ns#nil> .\r\n",
      "<https://urlinvente/monontologie#nonsense> <http://www.w3.org/2002/07/owl#equivalentClass> _:10 .\r\n",
      "<https://urlinvente/monontologie#animal1> <http://www.w3.org/1999/02/22-rdf-syntax-ns#type> <http://www.w3.org/2002/07/owl#NamedIndividual> .\r\n",
      "<https://urlinvente/monontologie#animal1> <http://www.w3.org/1999/02/22-rdf-syntax-ns#type> <https://urlinvente/monontologie#Animal> .\r\n",
      "<https://urlinvente/monontologie#plante1> <http://www.w3.org/1999/02/22-rdf-syntax-ns#type> <http://www.w3.org/2002/07/owl#NamedIndividual> .\r\n",
      "<https://urlinvente/monontologie#plante1> <http://www.w3.org/1999/02/22-rdf-syntax-ns#type> <https://urlinvente/monontologie#Plante> .\r\n",
      "<https://urlinvente/monontologie#carnivore1> <http://www.w3.org/1999/02/22-rdf-syntax-ns#type> <http://www.w3.org/2002/07/owl#NamedIndividual> .\r\n",
      "<https://urlinvente/monontologie#carnivore1> <http://www.w3.org/1999/02/22-rdf-syntax-ns#type> <https://urlinvente/monontologie#carnivore> .\r\n",
      "<https://urlinvente/monontologie#animal2> <http://www.w3.org/1999/02/22-rdf-syntax-ns#type> <http://www.w3.org/2002/07/owl#NamedIndividual> .\r\n",
      "<https://urlinvente/monontologie#animal2> <http://www.w3.org/1999/02/22-rdf-syntax-ns#type> <https://urlinvente/monontologie#Animal> .\r\n",
      "<https://urlinvente/monontologie#animal2> <https://urlinvente/monontologie#mange> <https://urlinvente/monontologie#plante1> .\r\n",
      "<https://urlinvente/monontologie#animal1> <https://urlinvente/monontologie#mange> <https://urlinvente/monontologie#animal2> .\r\n",
      "_:12 <http://www.w3.org/1999/02/22-rdf-syntax-ns#type> <http://www.w3.org/2003/11/swrl#Imp> .\r\n",
      "_:13 <http://www.w3.org/1999/02/22-rdf-syntax-ns#type> <http://www.w3.org/2003/11/swrl#ClassAtom> .\r\n",
      "_:13 <http://www.w3.org/2003/11/swrl#classPredicate> <https://urlinvente/monontologie#carnivore> .\r\n",
      "<urn:swrl#a1> <http://www.w3.org/1999/02/22-rdf-syntax-ns#type> <http://www.w3.org/2003/11/swrl#Variable> .\r\n",
      "_:13 <http://www.w3.org/2003/11/swrl#argument1> <urn:swrl#a1> .\r\n",
      "_:14 <http://www.w3.org/1999/02/22-rdf-syntax-ns#type> <http://www.w3.org/2003/11/swrl#ClassAtom> .\r\n",
      "_:14 <http://www.w3.org/2003/11/swrl#classPredicate> <https://urlinvente/monontologie#carnivore> .\r\n",
      "<urn:swrl#a2> <http://www.w3.org/1999/02/22-rdf-syntax-ns#type> <http://www.w3.org/2003/11/swrl#Variable> .\r\n",
      "_:14 <http://www.w3.org/2003/11/swrl#argument1> <urn:swrl#a2> .\r\n",
      "_:15 <http://www.w3.org/1999/02/22-rdf-syntax-ns#type> <http://www.w3.org/2003/11/swrl#IndividualPropertyAtom> .\r\n",
      "_:15 <http://www.w3.org/2003/11/swrl#propertyPredicate> <https://urlinvente/monontologie#nemangepas> .\r\n",
      "_:15 <http://www.w3.org/2003/11/swrl#argument1> <urn:swrl#a1> .\r\n",
      "_:15 <http://www.w3.org/2003/11/swrl#argument2> <urn:swrl#a2> .\r\n",
      "_:12 <http://www.w3.org/2003/11/swrl#body> _:16 .\r\n",
      "_:16 <http://www.w3.org/1999/02/22-rdf-syntax-ns#first> _:13 .\r\n",
      "_:16 <http://www.w3.org/1999/02/22-rdf-syntax-ns#rest> _:17 .\r\n",
      "_:17 <http://www.w3.org/1999/02/22-rdf-syntax-ns#first> _:14 .\r\n",
      "_:17 <http://www.w3.org/1999/02/22-rdf-syntax-ns#rest> <http://www.w3.org/1999/02/22-rdf-syntax-ns#nil> .\r\n",
      "_:12 <http://www.w3.org/2003/11/swrl#head> _:18 .\r\n",
      "_:18 <http://www.w3.org/1999/02/22-rdf-syntax-ns#first> _:15 .\r\n",
      "_:18 <http://www.w3.org/1999/02/22-rdf-syntax-ns#rest> <http://www.w3.org/1999/02/22-rdf-syntax-ns#nil> .\r\n",
      "<https://urlinvente/monontologie#herbivore> <http://www.w3.org/2000/01/rdf-schema#subClassOf> <https://urlinvente/monontologie#Animal> .\r\n",
      "<https://urlinvente/monontologie#carnivore> <http://www.w3.org/2000/01/rdf-schema#subClassOf> <https://urlinvente/monontologie#Animal> .\r\n",
      "<https://urlinvente/monontologie#animal1> <http://www.w3.org/1999/02/22-rdf-syntax-ns#type> <https://urlinvente/monontologie#carnivore> .\r\n",
      "<https://urlinvente/monontologie#nonsense> <http://www.w3.org/2002/07/owl#equivalentClass> <http://www.w3.org/2002/07/owl#Nothing> .\r\n",
      "<https://urlinvente/monontologie#carnivore1> <https://urlinvente/monontologie#nemangepas> <https://urlinvente/monontologie#carnivore1> .\r\n",
      "<https://urlinvente/monontologie#carnivore1> <https://urlinvente/monontologie#nemangepas> <https://urlinvente/monontologie#animal1> .\r\n",
      "<https://urlinvente/monontologie#animal1> <https://urlinvente/monontologie#nemangepas> <https://urlinvente/monontologie#carnivore1> .\r\n",
      "<https://urlinvente/monontologie#animal1> <https://urlinvente/monontologie#nemangepas> <https://urlinvente/monontologie#animal1> .\r\n",
      "<http://www.w3.org/2002/07/owl#Nothing> <http://www.w3.org/2002/07/owl#equivalentClass> <https://urlinvente/monontologie#nonsense> .\r\n",
      "<https://urlinvente/monontologie#animal3> <http://www.w3.org/1999/02/22-rdf-syntax-ns#type> <http://www.w3.org/2002/07/owl#NamedIndividual> .\r\n",
      "<https://urlinvente/monontologie#animal3> <http://www.w3.org/1999/02/22-rdf-syntax-ns#type> <https://urlinvente/monontologie#Animal> .\r\n",
      "<https://urlinvente/monontologie#plante2> <http://www.w3.org/1999/02/22-rdf-syntax-ns#type> <http://www.w3.org/2002/07/owl#NamedIndividual> .\r\n",
      "<https://urlinvente/monontologie#plante2> <http://www.w3.org/1999/02/22-rdf-syntax-ns#type> <https://urlinvente/monontologie#Plante> .\r\n",
      "<https://urlinvente/monontologie#carnivore2> <http://www.w3.org/1999/02/22-rdf-syntax-ns#type> <http://www.w3.org/2002/07/owl#NamedIndividual> .\r\n",
      "<https://urlinvente/monontologie#carnivore2> <http://www.w3.org/1999/02/22-rdf-syntax-ns#type> <https://urlinvente/monontologie#carnivore> .\r\n",
      "<https://urlinvente/monontologie#animal4> <http://www.w3.org/1999/02/22-rdf-syntax-ns#type> <http://www.w3.org/2002/07/owl#NamedIndividual> .\r\n",
      "<https://urlinvente/monontologie#animal4> <http://www.w3.org/1999/02/22-rdf-syntax-ns#type> <https://urlinvente/monontologie#Animal> .\r\n",
      "<https://urlinvente/monontologie#animal4> <https://urlinvente/monontologie#mange> <https://urlinvente/monontologie#plante2> .\r\n",
      "<https://urlinvente/monontologie#animal3> <https://urlinvente/monontologie#mange> <https://urlinvente/monontologie#animal4> .\r\n",
      "<https://urlinvente/monontologie#animal5> <http://www.w3.org/1999/02/22-rdf-syntax-ns#type> <http://www.w3.org/2002/07/owl#NamedIndividual> .\r\n",
      "<https://urlinvente/monontologie#animal5> <http://www.w3.org/1999/02/22-rdf-syntax-ns#type> <https://urlinvente/monontologie#Animal> .\r\n",
      "<https://urlinvente/monontologie#plante3> <http://www.w3.org/1999/02/22-rdf-syntax-ns#type> <http://www.w3.org/2002/07/owl#NamedIndividual> .\r\n",
      "<https://urlinvente/monontologie#plante3> <http://www.w3.org/1999/02/22-rdf-syntax-ns#type> <https://urlinvente/monontologie#Plante> .\r\n",
      "<https://urlinvente/monontologie#carnivore3> <http://www.w3.org/1999/02/22-rdf-syntax-ns#type> <http://www.w3.org/2002/07/owl#NamedIndividual> .\r\n",
      "<https://urlinvente/monontologie#carnivore3> <http://www.w3.org/1999/02/22-rdf-syntax-ns#type> <https://urlinvente/monontologie#carnivore> .\r\n",
      "<https://urlinvente/monontologie#animal6> <http://www.w3.org/1999/02/22-rdf-syntax-ns#type> <http://www.w3.org/2002/07/owl#NamedIndividual> .\r\n",
      "<https://urlinvente/monontologie#animal6> <http://www.w3.org/1999/02/22-rdf-syntax-ns#type> <https://urlinvente/monontologie#Animal> .\r\n",
      "<https://urlinvente/monontologie#animal6> <https://urlinvente/monontologie#mange> <https://urlinvente/monontologie#plante3> .\r\n",
      "<https://urlinvente/monontologie#animal5> <https://urlinvente/monontologie#mange> <https://urlinvente/monontologie#animal6> .\r\n",
      "<https://urlinvente/monontologie#animal1> <https://urlinvente/monontologie#nomOfficiel> \"Lion\"^^<http://www.w3.org/2001/XMLSchema#string> .\r\n",
      "<https://urlinvente/monontologie#carnivore1> <https://urlinvente/monontologie#nomOfficiel> \"Tigre\"^^<http://www.w3.org/2001/XMLSchema#string> .\r\n",
      "<https://urlinvente/monontologie#animal2> <https://urlinvente/monontologie#nomOfficiel> \"Brebis\"^^<http://www.w3.org/2001/XMLSchema#string> .\r\n",
      "<https://urlinvente/monontologie#animal3> <https://urlinvente/monontologie#nomOfficiel> \"Lion\"^^<http://www.w3.org/2001/XMLSchema#string> .\r\n",
      "<https://urlinvente/monontologie#carnivore2> <https://urlinvente/monontologie#nomOfficiel> \"Tigre\"^^<http://www.w3.org/2001/XMLSchema#string> .\r\n",
      "<https://urlinvente/monontologie#animal4> <https://urlinvente/monontologie#nomOfficiel> \"Brebis\"^^<http://www.w3.org/2001/XMLSchema#string> .\r\n",
      "<https://urlinvente/monontologie#animal5> <https://urlinvente/monontologie#nomOfficiel> \"Lion\"^^<http://www.w3.org/2001/XMLSchema#string> .\r\n",
      "<https://urlinvente/monontologie#carnivore3> <https://urlinvente/monontologie#nomOfficiel> \"Tigre\"^^<http://www.w3.org/2001/XMLSchema#string> .\r\n",
      "<https://urlinvente/monontologie#animal6> <https://urlinvente/monontologie#nomOfficiel> \"Brebis\"^^<http://www.w3.org/2001/XMLSchema#string> .\r\n"
     ]
    }
   ],
   "source": [
    "onto.save(file = \"out.owl\", format = \"ntriples\")\n",
    "!cat out.owl"
   ]
  },
  {
   "cell_type": "markdown",
   "metadata": {},
   "source": [
    "## Inférence et raisonnement \n",
    "A présent voyons comment nous pouvons ajouter des régles d'inférences afin d'inférer des nouvelles connaissances a partir des connaissances existantes "
   ]
  },
  {
   "cell_type": "code",
   "execution_count": 35,
   "metadata": {},
   "outputs": [],
   "source": [
    "with onto:\n",
    "    rule = Imp()\n",
    "    rule.set_as_rule(\"\"\"carnivore(?a1), carnivore(?a2) -> nemangepas(?a1, ?a2)\"\"\")"
   ]
  },
  {
   "cell_type": "code",
   "execution_count": 36,
   "metadata": {},
   "outputs": [
    {
     "name": "stdout",
     "output_type": "stream",
     "text": [
      "je suis un animal !\n",
      "je suis un carnivore !\n",
      "je suis un animal !\n"
     ]
    }
   ],
   "source": [
    "\"\"\"\n",
    "On execute les méthodes ici avant le raisonneur\n",
    "\"\"\"\n",
    "Lion.presente_toi()\n",
    "Tigre.presente_toi()\n",
    "Brebis.presente_toi()"
   ]
  },
  {
   "cell_type": "code",
   "execution_count": 37,
   "metadata": {},
   "outputs": [
    {
     "name": "stderr",
     "output_type": "stream",
     "text": [
      "* Owlready2 * Running HermiT...\n",
      "    java -Xmx2000M -cp /home/mohamed/anaconda3/lib/python3.7/site-packages/owlready2/hermit:/home/mohamed/anaconda3/lib/python3.7/site-packages/owlready2/hermit/HermiT.jar org.semanticweb.HermiT.cli.CommandLine -c -O -D -I file:////tmp/tmpu6gltwsq -Y\n"
     ]
    },
    {
     "name": "stdout",
     "output_type": "stream",
     "text": [
      "* Owlready * Adding relation monontologie.carnivore1 nemangepas monontologie.carnivore3\n",
      "* Owlready * Adding relation monontologie.carnivore1 nemangepas monontologie.animal3\n",
      "* Owlready * Adding relation monontologie.carnivore1 nemangepas monontologie.animal5\n",
      "* Owlready * Adding relation monontologie.carnivore1 nemangepas monontologie.carnivore2\n",
      "* Owlready * Adding relation monontologie.carnivore3 nemangepas monontologie.carnivore3\n",
      "* Owlready * Adding relation monontologie.carnivore3 nemangepas monontologie.carnivore1\n",
      "* Owlready * Adding relation monontologie.carnivore3 nemangepas monontologie.animal1\n",
      "* Owlready * Adding relation monontologie.carnivore3 nemangepas monontologie.animal3\n",
      "* Owlready * Adding relation monontologie.carnivore3 nemangepas monontologie.animal5\n",
      "* Owlready * Adding relation monontologie.carnivore3 nemangepas monontologie.carnivore2\n",
      "* Owlready * Adding relation monontologie.animal1 nemangepas monontologie.carnivore3\n",
      "* Owlready * Adding relation monontologie.animal1 nemangepas monontologie.animal3\n",
      "* Owlready * Adding relation monontologie.animal1 nemangepas monontologie.animal5\n",
      "* Owlready * Adding relation monontologie.animal1 nemangepas monontologie.carnivore2\n",
      "* Owlready * Adding relation monontologie.animal3 nemangepas monontologie.carnivore1\n",
      "* Owlready * Adding relation monontologie.animal3 nemangepas monontologie.carnivore3\n",
      "* Owlready * Adding relation monontologie.animal3 nemangepas monontologie.animal1\n",
      "* Owlready * Adding relation monontologie.animal3 nemangepas monontologie.animal3\n",
      "* Owlready * Adding relation monontologie.animal3 nemangepas monontologie.animal5\n",
      "* Owlready * Adding relation monontologie.animal3 nemangepas monontologie.carnivore2\n",
      "* Owlready * Adding relation monontologie.animal5 nemangepas monontologie.carnivore1\n",
      "* Owlready * Adding relation monontologie.animal5 nemangepas monontologie.carnivore3\n",
      "* Owlready * Adding relation monontologie.animal5 nemangepas monontologie.animal1\n",
      "* Owlready * Adding relation monontologie.animal5 nemangepas monontologie.animal3\n",
      "* Owlready * Adding relation monontologie.animal5 nemangepas monontologie.animal5\n",
      "* Owlready * Adding relation monontologie.animal5 nemangepas monontologie.carnivore2\n",
      "* Owlready * Adding relation monontologie.carnivore2 nemangepas monontologie.carnivore3\n",
      "* Owlready * Adding relation monontologie.carnivore2 nemangepas monontologie.carnivore1\n",
      "* Owlready * Adding relation monontologie.carnivore2 nemangepas monontologie.animal1\n",
      "* Owlready * Adding relation monontologie.carnivore2 nemangepas monontologie.animal3\n",
      "* Owlready * Adding relation monontologie.carnivore2 nemangepas monontologie.animal5\n",
      "* Owlready * Adding relation monontologie.carnivore2 nemangepas monontologie.carnivore2\n"
     ]
    },
    {
     "name": "stderr",
     "output_type": "stream",
     "text": [
      "* Owlready2 * HermiT took 0.6316075325012207 seconds\n",
      "* Owlready * Equivalenting: monontologie.nonsense owl.Nothing\n",
      "* Owlready * Reparenting monontologie.animal5: {monontologie.Animal} => {monontologie.carnivore}\n",
      "* Owlready * Reparenting monontologie.animal3: {monontologie.Animal} => {monontologie.carnivore}\n",
      "* Owlready * (NB: only changes on entities loaded in Python are shown, other changes are done but not listed)\n"
     ]
    }
   ],
   "source": [
    "with onto:\n",
    "    sync_reasoner(infer_property_values = True)"
   ]
  },
  {
   "cell_type": "code",
   "execution_count": 38,
   "metadata": {},
   "outputs": [
    {
     "name": "stdout",
     "output_type": "stream",
     "text": [
      "je suis un carnivore !\n",
      "je suis un carnivore !\n",
      "je suis un animal !\n"
     ]
    }
   ],
   "source": [
    "\"\"\"\n",
    "Voyons voire si les changement de classes affectent l'execution des méthodes\n",
    "\"\"\"\n",
    "Lion.presente_toi()\n",
    "Tigre.presente_toi()\n",
    "Brebis.presente_toi()"
   ]
  },
  {
   "cell_type": "code",
   "execution_count": 39,
   "metadata": {},
   "outputs": [
    {
     "name": "stderr",
     "output_type": "stream",
     "text": [
      "* Owlready2 * Running Pellet...\n",
      "    java -Xmx2000M -cp /home/mohamed/anaconda3/lib/python3.7/site-packages/owlready2/pellet/jcl-over-slf4j-1.6.4.jar:/home/mohamed/anaconda3/lib/python3.7/site-packages/owlready2/pellet/jena-tdb-0.10.0.jar:/home/mohamed/anaconda3/lib/python3.7/site-packages/owlready2/pellet/xercesImpl-2.10.0.jar:/home/mohamed/anaconda3/lib/python3.7/site-packages/owlready2/pellet/aterm-java-1.6.jar:/home/mohamed/anaconda3/lib/python3.7/site-packages/owlready2/pellet/antlr-runtime-3.2.jar:/home/mohamed/anaconda3/lib/python3.7/site-packages/owlready2/pellet/jgrapht-jdk1.5.jar:/home/mohamed/anaconda3/lib/python3.7/site-packages/owlready2/pellet/commons-codec-1.6.jar:/home/mohamed/anaconda3/lib/python3.7/site-packages/owlready2/pellet/jena-iri-0.9.5.jar:/home/mohamed/anaconda3/lib/python3.7/site-packages/owlready2/pellet/httpcore-4.2.2.jar:/home/mohamed/anaconda3/lib/python3.7/site-packages/owlready2/pellet/jena-core-2.10.0.jar:/home/mohamed/anaconda3/lib/python3.7/site-packages/owlready2/pellet/pellet-2.3.1.jar:/home/mohamed/anaconda3/lib/python3.7/site-packages/owlready2/pellet/antlr-3.2.jar:/home/mohamed/anaconda3/lib/python3.7/site-packages/owlready2/pellet/xml-apis-1.4.01.jar:/home/mohamed/anaconda3/lib/python3.7/site-packages/owlready2/pellet/slf4j-log4j12-1.6.4.jar:/home/mohamed/anaconda3/lib/python3.7/site-packages/owlready2/pellet/owlapi-distribution-3.4.3-bin.jar:/home/mohamed/anaconda3/lib/python3.7/site-packages/owlready2/pellet/slf4j-api-1.6.4.jar:/home/mohamed/anaconda3/lib/python3.7/site-packages/owlready2/pellet/log4j-1.2.16.jar:/home/mohamed/anaconda3/lib/python3.7/site-packages/owlready2/pellet/jena-arq-2.10.0.jar:/home/mohamed/anaconda3/lib/python3.7/site-packages/owlready2/pellet/httpclient-4.2.3.jar pellet.Pellet realize --loader Jena --input-format N-Triples --infer-prop-values --ignore-imports /tmp/tmp3rv1wwtf\n",
      "* Owlready2 * Pellet took 0.689063549041748 seconds\n",
      "* Owlready * Equivalenting: monontologie.nonsense owl.Nothing\n",
      "* Owlready * Equivalenting: owl.Nothing monontologie.nonsense\n",
      "* Owlready * (NB: only changes on entities loaded in Python are shown, other changes are done but not listed)\n"
     ]
    }
   ],
   "source": [
    "with onto:\n",
    "    sync_reasoner_pellet(infer_property_values = True)"
   ]
  },
  {
   "cell_type": "code",
   "execution_count": 40,
   "metadata": {},
   "outputs": [
    {
     "name": "stdout",
     "output_type": "stream",
     "text": [
      "<https://urlinvente/monontologie> <http://www.w3.org/1999/02/22-rdf-syntax-ns#type> <http://www.w3.org/2002/07/owl#Ontology> .\r\n",
      "<https://urlinvente/monontologie#Animal> <http://www.w3.org/1999/02/22-rdf-syntax-ns#type> <http://www.w3.org/2002/07/owl#Class> .\r\n",
      "<https://urlinvente/monontologie#Animal> <http://www.w3.org/2000/01/rdf-schema#subClassOf> <http://www.w3.org/2002/07/owl#Thing> .\r\n",
      "<https://urlinvente/monontologie#Plante> <http://www.w3.org/1999/02/22-rdf-syntax-ns#type> <http://www.w3.org/2002/07/owl#Class> .\r\n",
      "<https://urlinvente/monontologie#Plante> <http://www.w3.org/2000/01/rdf-schema#subClassOf> <http://www.w3.org/2002/07/owl#Thing> .\r\n",
      "<https://urlinvente/monontologie#Animal> <http://www.w3.org/2002/07/owl#disjointWith> <https://urlinvente/monontologie#Plante> .\r\n",
      "<https://urlinvente/monontologie#mange> <http://www.w3.org/1999/02/22-rdf-syntax-ns#type> <http://www.w3.org/2002/07/owl#ObjectProperty> .\r\n",
      "<https://urlinvente/monontologie#mange> <http://www.w3.org/2000/01/rdf-schema#domain> <https://urlinvente/monontologie#Animal> .\r\n",
      "<https://urlinvente/monontologie#mange> <http://www.w3.org/2000/01/rdf-schema#range> <http://www.w3.org/2002/07/owl#Thing> .\r\n",
      "<https://urlinvente/monontologie#nemangepas> <http://www.w3.org/1999/02/22-rdf-syntax-ns#type> <http://www.w3.org/2002/07/owl#ObjectProperty> .\r\n",
      "<https://urlinvente/monontologie#nemangepas> <http://www.w3.org/2000/01/rdf-schema#domain> <https://urlinvente/monontologie#Animal> .\r\n",
      "<https://urlinvente/monontologie#nemangepas> <http://www.w3.org/2000/01/rdf-schema#range> <https://urlinvente/monontologie#Animal> .\r\n",
      "<https://urlinvente/monontologie#nomOfficiel> <http://www.w3.org/1999/02/22-rdf-syntax-ns#type> <http://www.w3.org/2002/07/owl#DatatypeProperty> .\r\n",
      "<https://urlinvente/monontologie#nomOfficiel> <http://www.w3.org/1999/02/22-rdf-syntax-ns#type> <http://www.w3.org/2002/07/owl#FunctionalProperty> .\r\n",
      "<https://urlinvente/monontologie#nomOfficiel> <http://www.w3.org/2000/01/rdf-schema#domain> <https://urlinvente/monontologie#Animal> .\r\n",
      "<https://urlinvente/monontologie#nomOfficiel> <http://www.w3.org/2000/01/rdf-schema#range> <http://www.w3.org/2001/XMLSchema#string> .\r\n",
      "<https://urlinvente/monontologie#carnivore> <http://www.w3.org/1999/02/22-rdf-syntax-ns#type> <http://www.w3.org/2002/07/owl#Class> .\r\n",
      "<https://urlinvente/monontologie#carnivore> <http://www.w3.org/2000/01/rdf-schema#subClassOf> <http://www.w3.org/2002/07/owl#Thing> .\r\n",
      "_:2 <http://www.w3.org/1999/02/22-rdf-syntax-ns#type> <http://www.w3.org/2002/07/owl#Restriction> .\r\n",
      "_:2 <http://www.w3.org/2002/07/owl#onProperty> <https://urlinvente/monontologie#mange> .\r\n",
      "_:2 <http://www.w3.org/2002/07/owl#someValuesFrom> <https://urlinvente/monontologie#Animal> .\r\n",
      "_:3 <http://www.w3.org/1999/02/22-rdf-syntax-ns#type> <http://www.w3.org/2002/07/owl#Class> .\r\n",
      "_:3 <http://www.w3.org/2002/07/owl#intersectionOf> _:1 .\r\n",
      "_:1 <http://www.w3.org/1999/02/22-rdf-syntax-ns#first> <https://urlinvente/monontologie#Animal> .\r\n",
      "_:1 <http://www.w3.org/1999/02/22-rdf-syntax-ns#rest> _:4 .\r\n",
      "_:4 <http://www.w3.org/1999/02/22-rdf-syntax-ns#first> _:2 .\r\n",
      "_:4 <http://www.w3.org/1999/02/22-rdf-syntax-ns#rest> <http://www.w3.org/1999/02/22-rdf-syntax-ns#nil> .\r\n",
      "<https://urlinvente/monontologie#carnivore> <http://www.w3.org/2002/07/owl#equivalentClass> _:3 .\r\n",
      "<https://urlinvente/monontologie#herbivore> <http://www.w3.org/1999/02/22-rdf-syntax-ns#type> <http://www.w3.org/2002/07/owl#Class> .\r\n",
      "<https://urlinvente/monontologie#herbivore> <http://www.w3.org/2000/01/rdf-schema#subClassOf> <http://www.w3.org/2002/07/owl#Thing> .\r\n",
      "_:6 <http://www.w3.org/1999/02/22-rdf-syntax-ns#type> <http://www.w3.org/2002/07/owl#Restriction> .\r\n",
      "_:6 <http://www.w3.org/2002/07/owl#onProperty> <https://urlinvente/monontologie#mange> .\r\n",
      "_:6 <http://www.w3.org/2002/07/owl#allValuesFrom> <https://urlinvente/monontologie#Plante> .\r\n",
      "_:7 <http://www.w3.org/1999/02/22-rdf-syntax-ns#type> <http://www.w3.org/2002/07/owl#Class> .\r\n",
      "_:7 <http://www.w3.org/2002/07/owl#intersectionOf> _:5 .\r\n",
      "_:5 <http://www.w3.org/1999/02/22-rdf-syntax-ns#first> <https://urlinvente/monontologie#Animal> .\r\n",
      "_:5 <http://www.w3.org/1999/02/22-rdf-syntax-ns#rest> _:8 .\r\n",
      "_:8 <http://www.w3.org/1999/02/22-rdf-syntax-ns#first> _:6 .\r\n",
      "_:8 <http://www.w3.org/1999/02/22-rdf-syntax-ns#rest> <http://www.w3.org/1999/02/22-rdf-syntax-ns#nil> .\r\n",
      "<https://urlinvente/monontologie#herbivore> <http://www.w3.org/2002/07/owl#equivalentClass> _:7 .\r\n",
      "<https://urlinvente/monontologie#nonsense> <http://www.w3.org/1999/02/22-rdf-syntax-ns#type> <http://www.w3.org/2002/07/owl#Class> .\r\n",
      "<https://urlinvente/monontologie#nonsense> <http://www.w3.org/2000/01/rdf-schema#subClassOf> <http://www.w3.org/2002/07/owl#Thing> .\r\n",
      "_:10 <http://www.w3.org/1999/02/22-rdf-syntax-ns#type> <http://www.w3.org/2002/07/owl#Class> .\r\n",
      "_:10 <http://www.w3.org/2002/07/owl#intersectionOf> _:9 .\r\n",
      "_:9 <http://www.w3.org/1999/02/22-rdf-syntax-ns#first> <https://urlinvente/monontologie#Animal> .\r\n",
      "_:9 <http://www.w3.org/1999/02/22-rdf-syntax-ns#rest> _:11 .\r\n",
      "_:11 <http://www.w3.org/1999/02/22-rdf-syntax-ns#first> <https://urlinvente/monontologie#Plante> .\r\n",
      "_:11 <http://www.w3.org/1999/02/22-rdf-syntax-ns#rest> <http://www.w3.org/1999/02/22-rdf-syntax-ns#nil> .\r\n",
      "<https://urlinvente/monontologie#nonsense> <http://www.w3.org/2002/07/owl#equivalentClass> _:10 .\r\n",
      "<https://urlinvente/monontologie#animal1> <http://www.w3.org/1999/02/22-rdf-syntax-ns#type> <http://www.w3.org/2002/07/owl#NamedIndividual> .\r\n",
      "<https://urlinvente/monontologie#animal1> <http://www.w3.org/1999/02/22-rdf-syntax-ns#type> <https://urlinvente/monontologie#Animal> .\r\n",
      "<https://urlinvente/monontologie#plante1> <http://www.w3.org/1999/02/22-rdf-syntax-ns#type> <http://www.w3.org/2002/07/owl#NamedIndividual> .\r\n",
      "<https://urlinvente/monontologie#plante1> <http://www.w3.org/1999/02/22-rdf-syntax-ns#type> <https://urlinvente/monontologie#Plante> .\r\n",
      "<https://urlinvente/monontologie#carnivore1> <http://www.w3.org/1999/02/22-rdf-syntax-ns#type> <http://www.w3.org/2002/07/owl#NamedIndividual> .\r\n",
      "<https://urlinvente/monontologie#carnivore1> <http://www.w3.org/1999/02/22-rdf-syntax-ns#type> <https://urlinvente/monontologie#carnivore> .\r\n",
      "<https://urlinvente/monontologie#animal2> <http://www.w3.org/1999/02/22-rdf-syntax-ns#type> <http://www.w3.org/2002/07/owl#NamedIndividual> .\r\n",
      "<https://urlinvente/monontologie#animal2> <http://www.w3.org/1999/02/22-rdf-syntax-ns#type> <https://urlinvente/monontologie#Animal> .\r\n",
      "<https://urlinvente/monontologie#animal2> <https://urlinvente/monontologie#mange> <https://urlinvente/monontologie#plante1> .\r\n",
      "<https://urlinvente/monontologie#animal1> <https://urlinvente/monontologie#mange> <https://urlinvente/monontologie#animal2> .\r\n",
      "_:12 <http://www.w3.org/1999/02/22-rdf-syntax-ns#type> <http://www.w3.org/2003/11/swrl#Imp> .\r\n",
      "_:13 <http://www.w3.org/1999/02/22-rdf-syntax-ns#type> <http://www.w3.org/2003/11/swrl#ClassAtom> .\r\n",
      "_:13 <http://www.w3.org/2003/11/swrl#classPredicate> <https://urlinvente/monontologie#carnivore> .\r\n",
      "<urn:swrl#a1> <http://www.w3.org/1999/02/22-rdf-syntax-ns#type> <http://www.w3.org/2003/11/swrl#Variable> .\r\n",
      "_:13 <http://www.w3.org/2003/11/swrl#argument1> <urn:swrl#a1> .\r\n",
      "_:14 <http://www.w3.org/1999/02/22-rdf-syntax-ns#type> <http://www.w3.org/2003/11/swrl#ClassAtom> .\r\n",
      "_:14 <http://www.w3.org/2003/11/swrl#classPredicate> <https://urlinvente/monontologie#carnivore> .\r\n",
      "<urn:swrl#a2> <http://www.w3.org/1999/02/22-rdf-syntax-ns#type> <http://www.w3.org/2003/11/swrl#Variable> .\r\n",
      "_:14 <http://www.w3.org/2003/11/swrl#argument1> <urn:swrl#a2> .\r\n",
      "_:15 <http://www.w3.org/1999/02/22-rdf-syntax-ns#type> <http://www.w3.org/2003/11/swrl#IndividualPropertyAtom> .\r\n",
      "_:15 <http://www.w3.org/2003/11/swrl#propertyPredicate> <https://urlinvente/monontologie#nemangepas> .\r\n",
      "_:15 <http://www.w3.org/2003/11/swrl#argument1> <urn:swrl#a1> .\r\n",
      "_:15 <http://www.w3.org/2003/11/swrl#argument2> <urn:swrl#a2> .\r\n",
      "_:12 <http://www.w3.org/2003/11/swrl#body> _:16 .\r\n",
      "_:16 <http://www.w3.org/1999/02/22-rdf-syntax-ns#first> _:13 .\r\n",
      "_:16 <http://www.w3.org/1999/02/22-rdf-syntax-ns#rest> _:17 .\r\n",
      "_:17 <http://www.w3.org/1999/02/22-rdf-syntax-ns#first> _:14 .\r\n",
      "_:17 <http://www.w3.org/1999/02/22-rdf-syntax-ns#rest> <http://www.w3.org/1999/02/22-rdf-syntax-ns#nil> .\r\n",
      "_:12 <http://www.w3.org/2003/11/swrl#head> _:18 .\r\n",
      "_:18 <http://www.w3.org/1999/02/22-rdf-syntax-ns#first> _:15 .\r\n",
      "_:18 <http://www.w3.org/1999/02/22-rdf-syntax-ns#rest> <http://www.w3.org/1999/02/22-rdf-syntax-ns#nil> .\r\n",
      "<https://urlinvente/monontologie#herbivore> <http://www.w3.org/2000/01/rdf-schema#subClassOf> <https://urlinvente/monontologie#Animal> .\r\n",
      "<https://urlinvente/monontologie#carnivore> <http://www.w3.org/2000/01/rdf-schema#subClassOf> <https://urlinvente/monontologie#Animal> .\r\n",
      "<https://urlinvente/monontologie#animal1> <http://www.w3.org/1999/02/22-rdf-syntax-ns#type> <https://urlinvente/monontologie#carnivore> .\r\n",
      "<https://urlinvente/monontologie#nonsense> <http://www.w3.org/2002/07/owl#equivalentClass> <http://www.w3.org/2002/07/owl#Nothing> .\r\n",
      "<https://urlinvente/monontologie#carnivore1> <https://urlinvente/monontologie#nemangepas> <https://urlinvente/monontologie#carnivore1> .\r\n",
      "<https://urlinvente/monontologie#carnivore1> <https://urlinvente/monontologie#nemangepas> <https://urlinvente/monontologie#animal1> .\r\n",
      "<https://urlinvente/monontologie#animal1> <https://urlinvente/monontologie#nemangepas> <https://urlinvente/monontologie#carnivore1> .\r\n",
      "<https://urlinvente/monontologie#animal1> <https://urlinvente/monontologie#nemangepas> <https://urlinvente/monontologie#animal1> .\r\n",
      "<http://www.w3.org/2002/07/owl#Nothing> <http://www.w3.org/2002/07/owl#equivalentClass> <https://urlinvente/monontologie#nonsense> .\r\n",
      "<https://urlinvente/monontologie#animal3> <http://www.w3.org/1999/02/22-rdf-syntax-ns#type> <http://www.w3.org/2002/07/owl#NamedIndividual> .\r\n",
      "<https://urlinvente/monontologie#animal3> <http://www.w3.org/1999/02/22-rdf-syntax-ns#type> <https://urlinvente/monontologie#Animal> .\r\n",
      "<https://urlinvente/monontologie#plante2> <http://www.w3.org/1999/02/22-rdf-syntax-ns#type> <http://www.w3.org/2002/07/owl#NamedIndividual> .\r\n",
      "<https://urlinvente/monontologie#plante2> <http://www.w3.org/1999/02/22-rdf-syntax-ns#type> <https://urlinvente/monontologie#Plante> .\r\n",
      "<https://urlinvente/monontologie#carnivore2> <http://www.w3.org/1999/02/22-rdf-syntax-ns#type> <http://www.w3.org/2002/07/owl#NamedIndividual> .\r\n",
      "<https://urlinvente/monontologie#carnivore2> <http://www.w3.org/1999/02/22-rdf-syntax-ns#type> <https://urlinvente/monontologie#carnivore> .\r\n",
      "<https://urlinvente/monontologie#animal4> <http://www.w3.org/1999/02/22-rdf-syntax-ns#type> <http://www.w3.org/2002/07/owl#NamedIndividual> .\r\n",
      "<https://urlinvente/monontologie#animal4> <http://www.w3.org/1999/02/22-rdf-syntax-ns#type> <https://urlinvente/monontologie#Animal> .\r\n",
      "<https://urlinvente/monontologie#animal4> <https://urlinvente/monontologie#mange> <https://urlinvente/monontologie#plante2> .\r\n",
      "<https://urlinvente/monontologie#animal3> <https://urlinvente/monontologie#mange> <https://urlinvente/monontologie#animal4> .\r\n",
      "<https://urlinvente/monontologie#animal5> <http://www.w3.org/1999/02/22-rdf-syntax-ns#type> <http://www.w3.org/2002/07/owl#NamedIndividual> .\r\n",
      "<https://urlinvente/monontologie#animal5> <http://www.w3.org/1999/02/22-rdf-syntax-ns#type> <https://urlinvente/monontologie#Animal> .\r\n",
      "<https://urlinvente/monontologie#plante3> <http://www.w3.org/1999/02/22-rdf-syntax-ns#type> <http://www.w3.org/2002/07/owl#NamedIndividual> .\r\n",
      "<https://urlinvente/monontologie#plante3> <http://www.w3.org/1999/02/22-rdf-syntax-ns#type> <https://urlinvente/monontologie#Plante> .\r\n",
      "<https://urlinvente/monontologie#carnivore3> <http://www.w3.org/1999/02/22-rdf-syntax-ns#type> <http://www.w3.org/2002/07/owl#NamedIndividual> .\r\n",
      "<https://urlinvente/monontologie#carnivore3> <http://www.w3.org/1999/02/22-rdf-syntax-ns#type> <https://urlinvente/monontologie#carnivore> .\r\n",
      "<https://urlinvente/monontologie#animal6> <http://www.w3.org/1999/02/22-rdf-syntax-ns#type> <http://www.w3.org/2002/07/owl#NamedIndividual> .\r\n",
      "<https://urlinvente/monontologie#animal6> <http://www.w3.org/1999/02/22-rdf-syntax-ns#type> <https://urlinvente/monontologie#Animal> .\r\n",
      "<https://urlinvente/monontologie#animal6> <https://urlinvente/monontologie#mange> <https://urlinvente/monontologie#plante3> .\r\n",
      "<https://urlinvente/monontologie#animal5> <https://urlinvente/monontologie#mange> <https://urlinvente/monontologie#animal6> .\r\n",
      "_:21 <http://www.w3.org/1999/02/22-rdf-syntax-ns#type> <http://www.w3.org/2003/11/swrl#Imp> .\r\n",
      "_:22 <http://www.w3.org/1999/02/22-rdf-syntax-ns#type> <http://www.w3.org/2003/11/swrl#ClassAtom> .\r\n",
      "_:22 <http://www.w3.org/2003/11/swrl#classPredicate> <https://urlinvente/monontologie#carnivore> .\r\n",
      "_:22 <http://www.w3.org/2003/11/swrl#argument1> <urn:swrl#a1> .\r\n",
      "_:23 <http://www.w3.org/1999/02/22-rdf-syntax-ns#type> <http://www.w3.org/2003/11/swrl#ClassAtom> .\r\n",
      "_:23 <http://www.w3.org/2003/11/swrl#classPredicate> <https://urlinvente/monontologie#carnivore> .\r\n",
      "_:23 <http://www.w3.org/2003/11/swrl#argument1> <urn:swrl#a2> .\r\n",
      "_:24 <http://www.w3.org/1999/02/22-rdf-syntax-ns#type> <http://www.w3.org/2003/11/swrl#IndividualPropertyAtom> .\r\n",
      "_:24 <http://www.w3.org/2003/11/swrl#propertyPredicate> <https://urlinvente/monontologie#nemangepas> .\r\n",
      "_:24 <http://www.w3.org/2003/11/swrl#argument1> <urn:swrl#a1> .\r\n",
      "_:24 <http://www.w3.org/2003/11/swrl#argument2> <urn:swrl#a2> .\r\n",
      "_:21 <http://www.w3.org/2003/11/swrl#body> _:25 .\r\n",
      "_:25 <http://www.w3.org/1999/02/22-rdf-syntax-ns#first> _:22 .\r\n",
      "_:25 <http://www.w3.org/1999/02/22-rdf-syntax-ns#rest> _:26 .\r\n",
      "_:26 <http://www.w3.org/1999/02/22-rdf-syntax-ns#first> _:23 .\r\n",
      "_:26 <http://www.w3.org/1999/02/22-rdf-syntax-ns#rest> <http://www.w3.org/1999/02/22-rdf-syntax-ns#nil> .\r\n",
      "_:21 <http://www.w3.org/2003/11/swrl#head> _:27 .\r\n",
      "_:27 <http://www.w3.org/1999/02/22-rdf-syntax-ns#first> _:24 .\r\n",
      "_:27 <http://www.w3.org/1999/02/22-rdf-syntax-ns#rest> <http://www.w3.org/1999/02/22-rdf-syntax-ns#nil> .\r\n",
      "<https://urlinvente/monontologie#animal5> <http://www.w3.org/1999/02/22-rdf-syntax-ns#type> <https://urlinvente/monontologie#carnivore> .\r\n",
      "<https://urlinvente/monontologie#animal3> <http://www.w3.org/1999/02/22-rdf-syntax-ns#type> <https://urlinvente/monontologie#carnivore> .\r\n",
      "<https://urlinvente/monontologie#carnivore1> <https://urlinvente/monontologie#nemangepas> <https://urlinvente/monontologie#carnivore3> .\r\n",
      "<https://urlinvente/monontologie#carnivore1> <https://urlinvente/monontologie#nemangepas> <https://urlinvente/monontologie#animal3> .\r\n",
      "<https://urlinvente/monontologie#carnivore1> <https://urlinvente/monontologie#nemangepas> <https://urlinvente/monontologie#animal5> .\r\n",
      "<https://urlinvente/monontologie#carnivore1> <https://urlinvente/monontologie#nemangepas> <https://urlinvente/monontologie#carnivore2> .\r\n",
      "<https://urlinvente/monontologie#carnivore3> <https://urlinvente/monontologie#nemangepas> <https://urlinvente/monontologie#carnivore3> .\r\n",
      "<https://urlinvente/monontologie#carnivore3> <https://urlinvente/monontologie#nemangepas> <https://urlinvente/monontologie#carnivore1> .\r\n",
      "<https://urlinvente/monontologie#carnivore3> <https://urlinvente/monontologie#nemangepas> <https://urlinvente/monontologie#animal1> .\r\n",
      "<https://urlinvente/monontologie#carnivore3> <https://urlinvente/monontologie#nemangepas> <https://urlinvente/monontologie#animal3> .\r\n",
      "<https://urlinvente/monontologie#carnivore3> <https://urlinvente/monontologie#nemangepas> <https://urlinvente/monontologie#animal5> .\r\n",
      "<https://urlinvente/monontologie#carnivore3> <https://urlinvente/monontologie#nemangepas> <https://urlinvente/monontologie#carnivore2> .\r\n",
      "<https://urlinvente/monontologie#animal1> <https://urlinvente/monontologie#nemangepas> <https://urlinvente/monontologie#carnivore3> .\r\n",
      "<https://urlinvente/monontologie#animal1> <https://urlinvente/monontologie#nemangepas> <https://urlinvente/monontologie#animal3> .\r\n",
      "<https://urlinvente/monontologie#animal1> <https://urlinvente/monontologie#nemangepas> <https://urlinvente/monontologie#animal5> .\r\n",
      "<https://urlinvente/monontologie#animal1> <https://urlinvente/monontologie#nemangepas> <https://urlinvente/monontologie#carnivore2> .\r\n",
      "<https://urlinvente/monontologie#animal3> <https://urlinvente/monontologie#nemangepas> <https://urlinvente/monontologie#carnivore1> .\r\n",
      "<https://urlinvente/monontologie#animal3> <https://urlinvente/monontologie#nemangepas> <https://urlinvente/monontologie#carnivore3> .\r\n",
      "<https://urlinvente/monontologie#animal3> <https://urlinvente/monontologie#nemangepas> <https://urlinvente/monontologie#animal1> .\r\n",
      "<https://urlinvente/monontologie#animal3> <https://urlinvente/monontologie#nemangepas> <https://urlinvente/monontologie#animal3> .\r\n",
      "<https://urlinvente/monontologie#animal3> <https://urlinvente/monontologie#nemangepas> <https://urlinvente/monontologie#animal5> .\r\n",
      "<https://urlinvente/monontologie#animal3> <https://urlinvente/monontologie#nemangepas> <https://urlinvente/monontologie#carnivore2> .\r\n",
      "<https://urlinvente/monontologie#animal5> <https://urlinvente/monontologie#nemangepas> <https://urlinvente/monontologie#carnivore1> .\r\n",
      "<https://urlinvente/monontologie#animal5> <https://urlinvente/monontologie#nemangepas> <https://urlinvente/monontologie#carnivore3> .\r\n",
      "<https://urlinvente/monontologie#animal5> <https://urlinvente/monontologie#nemangepas> <https://urlinvente/monontologie#animal1> .\r\n",
      "<https://urlinvente/monontologie#animal5> <https://urlinvente/monontologie#nemangepas> <https://urlinvente/monontologie#animal3> .\r\n",
      "<https://urlinvente/monontologie#animal5> <https://urlinvente/monontologie#nemangepas> <https://urlinvente/monontologie#animal5> .\r\n",
      "<https://urlinvente/monontologie#animal5> <https://urlinvente/monontologie#nemangepas> <https://urlinvente/monontologie#carnivore2> .\r\n",
      "<https://urlinvente/monontologie#carnivore2> <https://urlinvente/monontologie#nemangepas> <https://urlinvente/monontologie#carnivore3> .\r\n",
      "<https://urlinvente/monontologie#carnivore2> <https://urlinvente/monontologie#nemangepas> <https://urlinvente/monontologie#carnivore1> .\r\n",
      "<https://urlinvente/monontologie#carnivore2> <https://urlinvente/monontologie#nemangepas> <https://urlinvente/monontologie#animal1> .\r\n",
      "<https://urlinvente/monontologie#carnivore2> <https://urlinvente/monontologie#nemangepas> <https://urlinvente/monontologie#animal3> .\r\n",
      "<https://urlinvente/monontologie#carnivore2> <https://urlinvente/monontologie#nemangepas> <https://urlinvente/monontologie#animal5> .\r\n",
      "<https://urlinvente/monontologie#carnivore2> <https://urlinvente/monontologie#nemangepas> <https://urlinvente/monontologie#carnivore2> .\r\n",
      "<https://urlinvente/monontologie#animal1> <https://urlinvente/monontologie#nomOfficiel> \"Lion\"^^<http://www.w3.org/2001/XMLSchema#string> .\r\n",
      "<https://urlinvente/monontologie#carnivore1> <https://urlinvente/monontologie#nomOfficiel> \"Tigre\"^^<http://www.w3.org/2001/XMLSchema#string> .\r\n",
      "<https://urlinvente/monontologie#animal2> <https://urlinvente/monontologie#nomOfficiel> \"Brebis\"^^<http://www.w3.org/2001/XMLSchema#string> .\r\n",
      "<https://urlinvente/monontologie#animal3> <https://urlinvente/monontologie#nomOfficiel> \"Lion\"^^<http://www.w3.org/2001/XMLSchema#string> .\r\n",
      "<https://urlinvente/monontologie#carnivore2> <https://urlinvente/monontologie#nomOfficiel> \"Tigre\"^^<http://www.w3.org/2001/XMLSchema#string> .\r\n",
      "<https://urlinvente/monontologie#animal4> <https://urlinvente/monontologie#nomOfficiel> \"Brebis\"^^<http://www.w3.org/2001/XMLSchema#string> .\r\n",
      "<https://urlinvente/monontologie#animal5> <https://urlinvente/monontologie#nomOfficiel> \"Lion\"^^<http://www.w3.org/2001/XMLSchema#string> .\r\n",
      "<https://urlinvente/monontologie#carnivore3> <https://urlinvente/monontologie#nomOfficiel> \"Tigre\"^^<http://www.w3.org/2001/XMLSchema#string> .\r\n",
      "<https://urlinvente/monontologie#animal6> <https://urlinvente/monontologie#nomOfficiel> \"Brebis\"^^<http://www.w3.org/2001/XMLSchema#string> .\r\n"
     ]
    }
   ],
   "source": [
    "onto.save(file = \"out.owl\", format = \"ntriples\")\n",
    "!cat out.owl\n",
    "default_world.save()"
   ]
  },
  {
   "cell_type": "code",
   "execution_count": 41,
   "metadata": {},
   "outputs": [
    {
     "name": "stdout",
     "output_type": "stream",
     "text": [
      "Lion\n",
      "Brebis\n"
     ]
    }
   ],
   "source": [
    "graph = default_world.as_rdflib_graph()\n",
    "requete = \"\"\"\n",
    "prefix : <https://urlinvente/monontologie#> \n",
    "\n",
    "SELECT DISTINCT ?nom\n",
    "WHERE{\n",
    "?s rdf:type :Animal . \n",
    "?s :nomOfficiel ?nom\n",
    "}\n",
    "\"\"\"\n",
    "res = graph.query(requete)\n",
    "for i in res:\n",
    "    print(str(i[0]))"
   ]
  },
  {
   "cell_type": "code",
   "execution_count": 42,
   "metadata": {},
   "outputs": [
    {
     "name": "stdout",
     "output_type": "stream",
     "text": [
      "nonsense is inconsistent!\n"
     ]
    }
   ],
   "source": [
    "if Nothing in nonsense.equivalent_to:\n",
    "    print(\"nonsense is inconsistent!\")\n",
    "if Nothing in Animal.equivalent_to:\n",
    "    print(\"Animal is inconsistent!\")"
   ]
  },
  {
   "cell_type": "code",
   "execution_count": null,
   "metadata": {},
   "outputs": [],
   "source": []
  }
 ],
 "metadata": {
  "kernelspec": {
   "display_name": "PyCharm (RLLab2)",
   "language": "python",
   "name": "pycharm-fe7a6dad"
  },
  "language_info": {
   "codemirror_mode": {
    "name": "ipython",
    "version": 3
   },
   "file_extension": ".py",
   "mimetype": "text/x-python",
   "name": "python",
   "nbconvert_exporter": "python",
   "pygments_lexer": "ipython3",
   "version": "3.7.4"
  }
 },
 "nbformat": 4,
 "nbformat_minor": 2
}
