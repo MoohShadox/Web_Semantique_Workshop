{
  "nbformat": 4,
  "nbformat_minor": 0,
  "metadata": {
    "kernelspec": {
      "display_name": "PyCharm (RLLab2)",
      "language": "python",
      "name": "pycharm-fe7a6dad"
    },
    "language_info": {
      "codemirror_mode": {
        "name": "ipython",
        "version": 3
      },
      "file_extension": ".py",
      "mimetype": "text/x-python",
      "name": "python",
      "nbconvert_exporter": "python",
      "pygments_lexer": "ipython3",
      "version": "3.7.4"
    },
    "colab": {
      "name": "Lab 03 - OwlReady.ipynb",
      "provenance": [],
      "toc_visible": true,
      "include_colab_link": true
    }
  },
  "cells": [
    {
      "cell_type": "markdown",
      "metadata": {
        "id": "view-in-github",
        "colab_type": "text"
      },
      "source": [
        "<a href=\"https://colab.research.google.com/github/MoohShadox/Web_Semantique_Workshop/blob/master/Lab%2003%20-%20OwlReady.ipynb\" target=\"_parent\"><img src=\"https://colab.research.google.com/assets/colab-badge.svg\" alt=\"Open In Colab\"/></a>"
      ]
    },
    {
      "cell_type": "code",
      "metadata": {
        "id": "6TbKRiXsifi0",
        "colab_type": "code",
        "outputId": "cd5ba773-a020-4126-bc4d-0c9c5149c8ee",
        "colab": {
          "base_uri": "https://localhost:8080/",
          "height": 328
        }
      },
      "source": [
        "!pip install owlready2\n",
        "from owlready2 import *\n",
        "!git clone https://github.com/MoohShadox/Web_Semantique_Workshop"
      ],
      "execution_count": 1,
      "outputs": [
        {
          "output_type": "stream",
          "text": [
            "Collecting owlready2\n",
            "\u001b[?25l  Downloading https://files.pythonhosted.org/packages/75/8d/017d23cfb853887e23945195f3e32aba5261037fdbe11a9bfcf0a879a49f/Owlready2-0.23.tar.gz (20.8MB)\n",
            "\u001b[K     |████████████████████████████████| 20.8MB 1.5MB/s \n",
            "\u001b[?25hBuilding wheels for collected packages: owlready2\n",
            "  Building wheel for owlready2 (setup.py) ... \u001b[?25l\u001b[?25hdone\n",
            "  Created wheel for owlready2: filename=Owlready2-0.23-cp36-cp36m-linux_x86_64.whl size=20259998 sha256=1cb834d66cb519653bfcccbf2f9791ab7221a59f3ba96a2b4de705cd70431f8d\n",
            "  Stored in directory: /root/.cache/pip/wheels/a4/f5/cd/357e802aa4c8313bf7ee78aa89b9791cef93661ff112259520\n",
            "Successfully built owlready2\n",
            "Installing collected packages: owlready2\n",
            "Successfully installed owlready2-0.23\n",
            "Cloning into 'Web_Semantique_Workshop'...\n",
            "remote: Enumerating objects: 65, done.\u001b[K\n",
            "remote: Counting objects: 100% (65/65), done.\u001b[K\n",
            "remote: Compressing objects: 100% (48/48), done.\u001b[K\n",
            "remote: Total 65 (delta 27), reused 45 (delta 15), pack-reused 0\u001b[K\n",
            "Unpacking objects: 100% (65/65), done.\n"
          ],
          "name": "stdout"
        }
      ]
    },
    {
      "cell_type": "code",
      "metadata": {
        "id": "WnBnlaCDUoo_",
        "colab_type": "code",
        "colab": {
          "base_uri": "https://localhost:8080/",
          "height": 219
        },
        "outputId": "64f5a399-f550-43de-df9c-c7f42af8ad2c"
      },
      "source": [
        "!pip install rdflib\n",
        "import rdflib\n"
      ],
      "execution_count": 25,
      "outputs": [
        {
          "output_type": "stream",
          "text": [
            "Collecting rdflib\n",
            "\u001b[?25l  Downloading https://files.pythonhosted.org/packages/d0/6b/6454aa1db753c0f8bc265a5bd5c10b5721a4bb24160fb4faf758cf6be8a1/rdflib-5.0.0-py3-none-any.whl (231kB)\n",
            "\u001b[K     |████████████████████████████████| 235kB 2.7MB/s \n",
            "\u001b[?25hCollecting isodate\n",
            "\u001b[?25l  Downloading https://files.pythonhosted.org/packages/9b/9f/b36f7774ff5ea8e428fdcfc4bb332c39ee5b9362ddd3d40d9516a55221b2/isodate-0.6.0-py2.py3-none-any.whl (45kB)\n",
            "\u001b[K     |████████████████████████████████| 51kB 5.6MB/s \n",
            "\u001b[?25hRequirement already satisfied: pyparsing in /usr/local/lib/python3.6/dist-packages (from rdflib) (2.4.7)\n",
            "Requirement already satisfied: six in /usr/local/lib/python3.6/dist-packages (from rdflib) (1.12.0)\n",
            "Installing collected packages: isodate, rdflib\n",
            "Successfully installed isodate-0.6.0 rdflib-5.0.0\n"
          ],
          "name": "stdout"
        }
      ]
    },
    {
      "cell_type": "markdown",
      "metadata": {
        "id": "aLg8Knzzifi8",
        "colab_type": "text"
      },
      "source": [
        "# Lab 02 : OWLReady \n",
        "Dans ce lab nous allons étudier le fonctionnement de OWLReady et les possibilités que cette librairie offre, nous aborderons notamment les questions suivantes : \n",
        "- Manipuler des ontologies déja existantes\n",
        "- Comment enrichir une ontologie\n",
        "- Comment créer et ajouter des individus\n",
        "- Comment éditer des régles d'inférences \n",
        "- Comment exécuter le raisonneur et les différents raisonneurs qui existent (Hermit, Pellet etc..) \n",
        "- Comment voire ce que le raisonner a inféré et notamment comment vérifier qu'une classe est inconsistante.\n",
        "- Comment transformer une ontologie en graphe rdflib afin de pouvoir exécuter des requêtes SPARQL dessus."
      ]
    },
    {
      "cell_type": "markdown",
      "metadata": {
        "id": "ytcdtZ3Uifi8",
        "colab_type": "text"
      },
      "source": [
        "## 1- Récupérer et Manipuler des ontologies \n",
        "Avant toute chose il faut savoir que si les ontologies peuvent être sérialisées en un fichier .owl ce n'est pas la représentation la plus pratique pour stocker des grands volumes de données, ils serrons plûtot enregistrées dans des quadstore qui ont pour avantage d'être indexées.\n",
        "\n",
        "Cette première ligne servira donc a fixer le back end ce qui signifie trois chose : \n",
        "- Si le fichier existe déja la ligne va automatiquement récupérer les ontologies qui sont dessus\n",
        "- Si le fichier n'existe pas et que vous n'avez pas encore commencé la construction de l'ontologie, le fichier serra crée.\n",
        "- Si le fichier n'existe pas mais que vous avez déja commencé a construire l'ontologie (si vous avez exécuté le notebook puis que vous êtes remontés pour executer cette cellule par exemple) ça renverra une erreur."
      ]
    },
    {
      "cell_type": "code",
      "metadata": {
        "id": "qGBjYjwYifi9",
        "colab_type": "code",
        "colab": {}
      },
      "source": [
        "default_world.set_backend(filename = \"file_back3.sqlite3\", exclusive = False)"
      ],
      "execution_count": 0,
      "outputs": []
    },
    {
      "cell_type": "markdown",
      "metadata": {
        "id": "GW8KQQKkifjC",
        "colab_type": "text"
      },
      "source": [
        "Ensuite, il est possible de charger une ontologie a partir d'un fichier OWL sérialisé en RDF/XML, ce fichier peut provenir de l'exercice précédent qui génére une ontologie avec RDFLib ou directement de protégé.\n",
        "Dans cette application nous utiliserons une ontologie faite sur protégé."
      ]
    },
    {
      "cell_type": "code",
      "metadata": {
        "id": "WpcSCQeaifjC",
        "colab_type": "code",
        "outputId": "423f1efc-4b70-4b37-fbdd-f89b3d62aab6",
        "colab": {
          "base_uri": "https://localhost:8080/",
          "height": 1000
        }
      },
      "source": [
        "onto = get_ontology(\"file:///content/Web_Semantique_Workshop/Amazone_Ontology.owl\").load()\n",
        "!cat /content/Web_Semantique_Workshop/Amazone_Ontology.owl"
      ],
      "execution_count": 3,
      "outputs": [
        {
          "output_type": "stream",
          "text": [
            "<?xml version=\"1.0\"?>\n",
            "<rdf:RDF xmlns=\"http://www.semanticweb.org/mohamed/ontologies/2020/3/Amazone_Ont#\"\n",
            "     xml:base=\"http://www.semanticweb.org/mohamed/ontologies/2020/3/Amazone_Ont\"\n",
            "     xmlns:owl=\"http://www.w3.org/2002/07/owl#\"\n",
            "     xmlns:rdf=\"http://www.w3.org/1999/02/22-rdf-syntax-ns#\"\n",
            "     xmlns:xml=\"http://www.w3.org/XML/1998/namespace\"\n",
            "     xmlns:xsd=\"http://www.w3.org/2001/XMLSchema#\"\n",
            "     xmlns:rdfs=\"http://www.w3.org/2000/01/rdf-schema#\">\n",
            "    <owl:Ontology rdf:about=\"http://www.semanticweb.org/mohamed/ontologies/2020/3/Amazone_Ont\"/>\n",
            "    \n",
            "\n",
            "\n",
            "    <!-- \n",
            "    ///////////////////////////////////////////////////////////////////////////////////////\n",
            "    //\n",
            "    // Object Properties\n",
            "    //\n",
            "    ///////////////////////////////////////////////////////////////////////////////////////\n",
            "     -->\n",
            "\n",
            "    \n",
            "\n",
            "\n",
            "    <!-- http://www.semanticweb.org/mohamed/ontologies/2020/3/Amazone_Ont#also_bought -->\n",
            "\n",
            "    <owl:ObjectProperty rdf:about=\"http://www.semanticweb.org/mohamed/ontologies/2020/3/Amazone_Ont#also_bought\"/>\n",
            "    \n",
            "\n",
            "\n",
            "    <!-- http://www.semanticweb.org/mohamed/ontologies/2020/3/Amazone_Ont#also_view -->\n",
            "\n",
            "    <owl:ObjectProperty rdf:about=\"http://www.semanticweb.org/mohamed/ontologies/2020/3/Amazone_Ont#also_view\"/>\n",
            "    \n",
            "\n",
            "\n",
            "    <!-- http://www.semanticweb.org/mohamed/ontologies/2020/3/Amazone_Ont#appartientCategory -->\n",
            "\n",
            "    <owl:ObjectProperty rdf:about=\"http://www.semanticweb.org/mohamed/ontologies/2020/3/Amazone_Ont#appartientCategory\">\n",
            "        <rdfs:domain rdf:resource=\"http://www.semanticweb.org/mohamed/ontologies/2020/3/Amazone_Ont#Article\"/>\n",
            "        <rdfs:range rdf:resource=\"http://www.semanticweb.org/mohamed/ontologies/2020/3/Amazone_Ont#Category\"/>\n",
            "    </owl:ObjectProperty>\n",
            "    \n",
            "\n",
            "\n",
            "    <!-- http://www.semanticweb.org/mohamed/ontologies/2020/3/Amazone_Ont#brandOf -->\n",
            "\n",
            "    <owl:ObjectProperty rdf:about=\"http://www.semanticweb.org/mohamed/ontologies/2020/3/Amazone_Ont#brandOf\">\n",
            "        <owl:inverseOf rdf:resource=\"http://www.semanticweb.org/mohamed/ontologies/2020/3/Amazone_Ont#hasBrand\"/>\n",
            "    </owl:ObjectProperty>\n",
            "    \n",
            "\n",
            "\n",
            "    <!-- http://www.semanticweb.org/mohamed/ontologies/2020/3/Amazone_Ont#contientArticle -->\n",
            "\n",
            "    <owl:ObjectProperty rdf:about=\"http://www.semanticweb.org/mohamed/ontologies/2020/3/Amazone_Ont#contientArticle\">\n",
            "        <owl:inverseOf rdf:resource=\"http://www.semanticweb.org/mohamed/ontologies/2020/3/Amazone_Ont#contientArticle\"/>\n",
            "    </owl:ObjectProperty>\n",
            "    \n",
            "\n",
            "\n",
            "    <!-- http://www.semanticweb.org/mohamed/ontologies/2020/3/Amazone_Ont#hasBrand -->\n",
            "\n",
            "    <owl:ObjectProperty rdf:about=\"http://www.semanticweb.org/mohamed/ontologies/2020/3/Amazone_Ont#hasBrand\">\n",
            "        <rdfs:domain rdf:resource=\"http://www.semanticweb.org/mohamed/ontologies/2020/3/Amazone_Ont#Article\"/>\n",
            "        <rdfs:range rdf:resource=\"http://www.semanticweb.org/mohamed/ontologies/2020/3/Amazone_Ont#Brands\"/>\n",
            "    </owl:ObjectProperty>\n",
            "    \n",
            "\n",
            "\n",
            "    <!-- \n",
            "    ///////////////////////////////////////////////////////////////////////////////////////\n",
            "    //\n",
            "    // Data properties\n",
            "    //\n",
            "    ///////////////////////////////////////////////////////////////////////////////////////\n",
            "     -->\n",
            "\n",
            "    \n",
            "\n",
            "\n",
            "    <!-- http://www.semanticweb.org/mohamed/ontologies/2020/3/Amazone_Ont#Description -->\n",
            "\n",
            "    <owl:DatatypeProperty rdf:about=\"http://www.semanticweb.org/mohamed/ontologies/2020/3/Amazone_Ont#Description\">\n",
            "        <rdfs:domain rdf:resource=\"http://www.semanticweb.org/mohamed/ontologies/2020/3/Amazone_Ont#Article\"/>\n",
            "        <rdfs:range rdf:resource=\"http://www.w3.org/2001/XMLSchema#string\"/>\n",
            "    </owl:DatatypeProperty>\n",
            "    \n",
            "\n",
            "\n",
            "    <!-- http://www.semanticweb.org/mohamed/ontologies/2020/3/Amazone_Ont#SalesRank -->\n",
            "\n",
            "    <owl:DatatypeProperty rdf:about=\"http://www.semanticweb.org/mohamed/ontologies/2020/3/Amazone_Ont#SalesRank\"/>\n",
            "    \n",
            "\n",
            "\n",
            "    <!-- http://www.semanticweb.org/mohamed/ontologies/2020/3/Amazone_Ont#Title -->\n",
            "\n",
            "    <owl:DatatypeProperty rdf:about=\"http://www.semanticweb.org/mohamed/ontologies/2020/3/Amazone_Ont#Title\"/>\n",
            "    \n",
            "\n",
            "\n",
            "    <!-- \n",
            "    ///////////////////////////////////////////////////////////////////////////////////////\n",
            "    //\n",
            "    // Classes\n",
            "    //\n",
            "    ///////////////////////////////////////////////////////////////////////////////////////\n",
            "     -->\n",
            "\n",
            "    \n",
            "\n",
            "\n",
            "    <!-- http://www.semanticweb.org/mohamed/ontologies/2020/3/Amazone_Ont#Article -->\n",
            "\n",
            "    <owl:Class rdf:about=\"http://www.semanticweb.org/mohamed/ontologies/2020/3/Amazone_Ont#Article\">\n",
            "        <rdfs:subClassOf>\n",
            "            <owl:Restriction>\n",
            "                <owl:onProperty rdf:resource=\"http://www.semanticweb.org/mohamed/ontologies/2020/3/Amazone_Ont#appartientCategory\"/>\n",
            "                <owl:someValuesFrom rdf:resource=\"http://www.semanticweb.org/mohamed/ontologies/2020/3/Amazone_Ont#Main_Category\"/>\n",
            "            </owl:Restriction>\n",
            "        </rdfs:subClassOf>\n",
            "    </owl:Class>\n",
            "    \n",
            "\n",
            "\n",
            "    <!-- http://www.semanticweb.org/mohamed/ontologies/2020/3/Amazone_Ont#Brands -->\n",
            "\n",
            "    <owl:Class rdf:about=\"http://www.semanticweb.org/mohamed/ontologies/2020/3/Amazone_Ont#Brands\"/>\n",
            "    \n",
            "\n",
            "\n",
            "    <!-- http://www.semanticweb.org/mohamed/ontologies/2020/3/Amazone_Ont#Category -->\n",
            "\n",
            "    <owl:Class rdf:about=\"http://www.semanticweb.org/mohamed/ontologies/2020/3/Amazone_Ont#Category\"/>\n",
            "    \n",
            "\n",
            "\n",
            "    <!-- http://www.semanticweb.org/mohamed/ontologies/2020/3/Amazone_Ont#Main_Category -->\n",
            "\n",
            "    <owl:Class rdf:about=\"http://www.semanticweb.org/mohamed/ontologies/2020/3/Amazone_Ont#Main_Category\">\n",
            "        <rdfs:subClassOf rdf:resource=\"http://www.semanticweb.org/mohamed/ontologies/2020/3/Amazone_Ont#Category\"/>\n",
            "        <owl:disjointWith rdf:resource=\"http://www.semanticweb.org/mohamed/ontologies/2020/3/Amazone_Ont#Other_Categories\"/>\n",
            "    </owl:Class>\n",
            "    \n",
            "\n",
            "\n",
            "    <!-- http://www.semanticweb.org/mohamed/ontologies/2020/3/Amazone_Ont#Other_Categories -->\n",
            "\n",
            "    <owl:Class rdf:about=\"http://www.semanticweb.org/mohamed/ontologies/2020/3/Amazone_Ont#Other_Categories\">\n",
            "        <rdfs:subClassOf rdf:resource=\"http://www.semanticweb.org/mohamed/ontologies/2020/3/Amazone_Ont#Category\"/>\n",
            "    </owl:Class>\n",
            "</rdf:RDF>\n",
            "\n",
            "\n",
            "\n",
            "<!-- Generated by the OWL API (version 4.5.9.2019-02-01T07:24:44Z) https://github.com/owlcs/owlapi -->\n",
            "\n"
          ],
          "name": "stdout"
        }
      ]
    },
    {
      "cell_type": "markdown",
      "metadata": {
        "id": "xRWLT0bUifjG",
        "colab_type": "text"
      },
      "source": [
        "Maintenant que nous avons récupéré notre ontologie voici quelques exemples de méthodes permettant de l'explorer : "
      ]
    },
    {
      "cell_type": "code",
      "metadata": {
        "id": "hQX-ZHOKifjH",
        "colab_type": "code",
        "outputId": "a5dcb249-9a27-4f18-981d-6ecfa04bda8f",
        "colab": {
          "base_uri": "https://localhost:8080/",
          "height": 108
        }
      },
      "source": [
        "#Afficher les classes : \n",
        "for i in onto.classes():\n",
        "    print(i)"
      ],
      "execution_count": 4,
      "outputs": [
        {
          "output_type": "stream",
          "text": [
            "Amazone_Ontology.Article\n",
            "Amazone_Ontology.Category\n",
            "Amazone_Ontology.Brands\n",
            "Amazone_Ontology.Main_Category\n",
            "Amazone_Ontology.Other_Categories\n"
          ],
          "name": "stdout"
        }
      ]
    },
    {
      "cell_type": "code",
      "metadata": {
        "id": "BPhP2FRVifjK",
        "colab_type": "code",
        "outputId": "6618e82f-d2c6-4e20-b80c-2824e707e85b",
        "colab": {
          "base_uri": "https://localhost:8080/",
          "height": 126
        }
      },
      "source": [
        "#Afficher les propriétés : \n",
        "for i in onto.object_properties():\n",
        "    print(i)"
      ],
      "execution_count": 5,
      "outputs": [
        {
          "output_type": "stream",
          "text": [
            "Amazone_Ontology.also_bought\n",
            "Amazone_Ontology.also_view\n",
            "Amazone_Ontology.appartientCategory\n",
            "Amazone_Ontology.brandOf\n",
            "Amazone_Ontology.hasBrand\n",
            "Amazone_Ontology.contientArticle\n"
          ],
          "name": "stdout"
        }
      ]
    },
    {
      "cell_type": "code",
      "metadata": {
        "id": "FGMIQsazifjO",
        "colab_type": "code",
        "colab": {}
      },
      "source": [
        "for i in onto.individuals():\n",
        "    print(i)"
      ],
      "execution_count": 0,
      "outputs": []
    },
    {
      "cell_type": "markdown",
      "metadata": {
        "id": "ii_UyKECifjS",
        "colab_type": "text"
      },
      "source": [
        "Nous remarquons que l'ontologie ne contient pas d'individus mais nous allons y remédier dans la prochaine partie."
      ]
    },
    {
      "cell_type": "markdown",
      "metadata": {
        "id": "zFbeWZ-WifjS",
        "colab_type": "text"
      },
      "source": [
        "## 2- Créer des individus\n",
        "Pour accéder aux classes présentes dans l'ontologie nous pouvons utiliser le générateur de classes qu'on transformera en liste pour l'occasion."
      ]
    },
    {
      "cell_type": "code",
      "metadata": {
        "id": "dTFAIb4RifjT",
        "colab_type": "code",
        "colab": {}
      },
      "source": [
        "class_article = list(onto.classes())[0]\n",
        "A = class_article()"
      ],
      "execution_count": 0,
      "outputs": []
    },
    {
      "cell_type": "code",
      "metadata": {
        "id": "l1wqLYOeifjW",
        "colab_type": "code",
        "outputId": "8dff676a-59ce-41cc-e889-10837a828eea",
        "colab": {
          "base_uri": "https://localhost:8080/",
          "height": 35
        }
      },
      "source": [
        "for i in onto.individuals():\n",
        "    print(i)"
      ],
      "execution_count": 8,
      "outputs": [
        {
          "output_type": "stream",
          "text": [
            "Amazone_Ontology.article1\n"
          ],
          "name": "stdout"
        }
      ]
    },
    {
      "cell_type": "code",
      "metadata": {
        "id": "ADpFq-MPlkQn",
        "colab_type": "code",
        "colab": {}
      },
      "source": [
        "L = onto.search(type = class_article)"
      ],
      "execution_count": 0,
      "outputs": []
    },
    {
      "cell_type": "markdown",
      "metadata": {
        "id": "fHRRA8YbifjZ",
        "colab_type": "text"
      },
      "source": [
        "Et cette fois ci on remarquera qu'on a bien un individu qui c'est crée, réexecutais plusieurs fois la première cellule vous pourrez constater que l'instruction crée bien un individu."
      ]
    },
    {
      "cell_type": "code",
      "metadata": {
        "id": "epC-jlpcifja",
        "colab_type": "code",
        "colab": {}
      },
      "source": [
        "relation_alsobought = list(onto.object_properties())[0]\n",
        "relation_alsobought.python_name = \"also_bought\""
      ],
      "execution_count": 0,
      "outputs": []
    },
    {
      "cell_type": "code",
      "metadata": {
        "id": "eGnWAETAifjd",
        "colab_type": "code",
        "outputId": "34092c65-412f-4fcc-ac03-01c2d7958207",
        "colab": {
          "base_uri": "https://localhost:8080/",
          "height": 35
        }
      },
      "source": [
        "relation_alsobought"
      ],
      "execution_count": 11,
      "outputs": [
        {
          "output_type": "execute_result",
          "data": {
            "text/plain": [
              "Amazone_Ontology.also_bought"
            ]
          },
          "metadata": {
            "tags": []
          },
          "execution_count": 11
        }
      ]
    },
    {
      "cell_type": "code",
      "metadata": {
        "id": "IH6LFGHAnnGo",
        "colab_type": "code",
        "outputId": "656a9d43-9de9-4a63-8042-ab8f1d5392db",
        "colab": {
          "base_uri": "https://localhost:8080/",
          "height": 35
        }
      },
      "source": [
        "print(L)"
      ],
      "execution_count": 12,
      "outputs": [
        {
          "output_type": "stream",
          "text": [
            "[Amazone_Ontology.article1]\n"
          ],
          "name": "stdout"
        }
      ]
    },
    {
      "cell_type": "markdown",
      "metadata": {
        "id": "qCDEKYx-ifjg",
        "colab_type": "text"
      },
      "source": [
        "Cependant notre petite astuce ne permet pas de créer des relations, ainsi, on priviligiera une façon native qui est beaucoup plus pratique pour créer nos relations, cependant, manipuler une ontologie crées sur protégé peut s'avérer particulièrement utile afin d'en récupérer les individus et les concepts."
      ]
    },
    {
      "cell_type": "markdown",
      "metadata": {
        "id": "NuiXYN6iifjh",
        "colab_type": "text"
      },
      "source": [
        "## 3- Enrichir une ontologie \n",
        "Cette fois ci, nous allons essayer de reconstruire une nouvelle ontologie de zéro en utilisant owlready. \n",
        "Ce qui est intéressant avec cette façon de faire c'est que nous allons créer des classes Python en même temps que les classes représentant les concepts correspondant dans l'ontologie."
      ]
    },
    {
      "cell_type": "code",
      "metadata": {
        "id": "bvxUnfPEifjh",
        "colab_type": "code",
        "colab": {}
      },
      "source": [
        "#On crée une nouvelle ontologie \n",
        "onto = get_ontology(\"https://urlinvente/monontologie\")\n",
        "\n",
        "with onto:\n",
        "    \n",
        "    #On crée une classe Animal et une classe Plante qui héritent toutes deux de Thing\n",
        "    #On peut même créer des méthodes dans les classes comme en orienté objet\n",
        "    class Animal(Thing):\n",
        "        def presente_toi(self):\n",
        "            print(\"je suis un animal !\")\n",
        "        \n",
        "    class Plante(Thing):\n",
        "        pass\n",
        "    \n",
        "    #On précise que les deux classe sont disjointes\n",
        "    AllDisjoint([Animal, Plante])\n",
        "    \n",
        "    #On crée une propriété qui va avoir comme domain Animal et comme range Thing\n",
        "    class mange(Animal >> Thing):\n",
        "        pass\n",
        "    \n",
        "    class nemangepas(Animal >> Animal):\n",
        "        pass\n",
        "    \n",
        "    \"\"\"On crée une dataproperty cette fois sans utiliser la notation abrégée ce qui nous permet d'hériter a la fois\n",
        "    de DataProperty mais également de FunctionalProperty qui permet donc de préciser que chaque animal a un un nom\n",
        "    unique\n",
        "    \"\"\"\n",
        "    class nomOfficiel(DataProperty, FunctionalProperty):\n",
        "        domain = [Animal]\n",
        "        range = [str]\n",
        "        \n",
        "    \"\"\"\n",
        "    Maintenant on va créer une ou deux classes par equivalence\n",
        "    \"\"\"\n",
        "    class carnivore(Thing):\n",
        "        equivalent_to = [Animal & mange.some(Animal)]\n",
        "        def presente_toi(self):\n",
        "            print(\"je suis un carnivore !\")\n",
        "            \n",
        "            \n",
        "    class herbivore(Thing):\n",
        "        equivalent_to = [Animal & mange.only(Plante)]\n",
        "        \n",
        "    class nonsense(Thing):\n",
        "        equivalent_to = [Animal & Plante]\n"
      ],
      "execution_count": 0,
      "outputs": []
    },
    {
      "cell_type": "markdown",
      "metadata": {
        "id": "MYRw6hEBifjk",
        "colab_type": "text"
      },
      "source": [
        "A présent on peut commencer a créer nos individus et ensuite nous pourrons les manipuler en leur ajoutant des relations."
      ]
    },
    {
      "cell_type": "code",
      "metadata": {
        "id": "dRh-tpo5ifjl",
        "colab_type": "code",
        "colab": {}
      },
      "source": [
        "Lion = Animal()\n",
        "Arbre = Plante()\n",
        "Tigre = carnivore()\n",
        "Brebis = Animal()"
      ],
      "execution_count": 0,
      "outputs": []
    },
    {
      "cell_type": "code",
      "metadata": {
        "id": "9iC1X23bifjq",
        "colab_type": "code",
        "colab": {}
      },
      "source": [
        "Brebis.mange = [Arbre]\n",
        "Lion.mange = [Brebis]\n",
        "Lion.nomOfficiel = \"Lion\"\n",
        "Tigre.nomOfficiel = \"Tigre\"\n",
        "Brebis.nomOfficiel = \"Brebis\""
      ],
      "execution_count": 0,
      "outputs": []
    },
    {
      "cell_type": "code",
      "metadata": {
        "id": "ytwdlqC-ifjv",
        "colab_type": "code",
        "outputId": "a4624ebf-ceb5-4ef7-dd89-a9ce09381538",
        "colab": {
          "base_uri": "https://localhost:8080/",
          "height": 1000
        }
      },
      "source": [
        "onto.save(file = \"out.owl\", format = \"ntriples\")\n",
        "!cat out.owl"
      ],
      "execution_count": 16,
      "outputs": [
        {
          "output_type": "stream",
          "text": [
            "<https://urlinvente/monontologie> <http://www.w3.org/1999/02/22-rdf-syntax-ns#type> <http://www.w3.org/2002/07/owl#Ontology> .\n",
            "<https://urlinvente/monontologie#Animal> <http://www.w3.org/1999/02/22-rdf-syntax-ns#type> <http://www.w3.org/2002/07/owl#Class> .\n",
            "<https://urlinvente/monontologie#Animal> <http://www.w3.org/2000/01/rdf-schema#subClassOf> <http://www.w3.org/2002/07/owl#Thing> .\n",
            "<https://urlinvente/monontologie#Plante> <http://www.w3.org/1999/02/22-rdf-syntax-ns#type> <http://www.w3.org/2002/07/owl#Class> .\n",
            "<https://urlinvente/monontologie#Plante> <http://www.w3.org/2000/01/rdf-schema#subClassOf> <http://www.w3.org/2002/07/owl#Thing> .\n",
            "<https://urlinvente/monontologie#Animal> <http://www.w3.org/2002/07/owl#disjointWith> <https://urlinvente/monontologie#Plante> .\n",
            "<https://urlinvente/monontologie#mange> <http://www.w3.org/1999/02/22-rdf-syntax-ns#type> <http://www.w3.org/2002/07/owl#ObjectProperty> .\n",
            "<https://urlinvente/monontologie#mange> <http://www.w3.org/2000/01/rdf-schema#domain> <https://urlinvente/monontologie#Animal> .\n",
            "<https://urlinvente/monontologie#mange> <http://www.w3.org/2000/01/rdf-schema#range> <http://www.w3.org/2002/07/owl#Thing> .\n",
            "<https://urlinvente/monontologie#nemangepas> <http://www.w3.org/1999/02/22-rdf-syntax-ns#type> <http://www.w3.org/2002/07/owl#ObjectProperty> .\n",
            "<https://urlinvente/monontologie#nemangepas> <http://www.w3.org/2000/01/rdf-schema#domain> <https://urlinvente/monontologie#Animal> .\n",
            "<https://urlinvente/monontologie#nemangepas> <http://www.w3.org/2000/01/rdf-schema#range> <https://urlinvente/monontologie#Animal> .\n",
            "<https://urlinvente/monontologie#nomOfficiel> <http://www.w3.org/1999/02/22-rdf-syntax-ns#type> <http://www.w3.org/2002/07/owl#DatatypeProperty> .\n",
            "<https://urlinvente/monontologie#nomOfficiel> <http://www.w3.org/1999/02/22-rdf-syntax-ns#type> <http://www.w3.org/2002/07/owl#FunctionalProperty> .\n",
            "<https://urlinvente/monontologie#nomOfficiel> <http://www.w3.org/2000/01/rdf-schema#domain> <https://urlinvente/monontologie#Animal> .\n",
            "<https://urlinvente/monontologie#nomOfficiel> <http://www.w3.org/2000/01/rdf-schema#range> <http://www.w3.org/2001/XMLSchema#string> .\n",
            "<https://urlinvente/monontologie#carnivore> <http://www.w3.org/1999/02/22-rdf-syntax-ns#type> <http://www.w3.org/2002/07/owl#Class> .\n",
            "<https://urlinvente/monontologie#carnivore> <http://www.w3.org/2000/01/rdf-schema#subClassOf> <http://www.w3.org/2002/07/owl#Thing> .\n",
            "_:3 <http://www.w3.org/1999/02/22-rdf-syntax-ns#type> <http://www.w3.org/2002/07/owl#Restriction> .\n",
            "_:3 <http://www.w3.org/2002/07/owl#onProperty> <https://urlinvente/monontologie#mange> .\n",
            "_:3 <http://www.w3.org/2002/07/owl#someValuesFrom> <https://urlinvente/monontologie#Animal> .\n",
            "_:4 <http://www.w3.org/1999/02/22-rdf-syntax-ns#type> <http://www.w3.org/2002/07/owl#Class> .\n",
            "_:4 <http://www.w3.org/2002/07/owl#intersectionOf> _:2 .\n",
            "_:2 <http://www.w3.org/1999/02/22-rdf-syntax-ns#first> <https://urlinvente/monontologie#Animal> .\n",
            "_:2 <http://www.w3.org/1999/02/22-rdf-syntax-ns#rest> _:5 .\n",
            "_:5 <http://www.w3.org/1999/02/22-rdf-syntax-ns#first> _:3 .\n",
            "_:5 <http://www.w3.org/1999/02/22-rdf-syntax-ns#rest> <http://www.w3.org/1999/02/22-rdf-syntax-ns#nil> .\n",
            "<https://urlinvente/monontologie#carnivore> <http://www.w3.org/2002/07/owl#equivalentClass> _:4 .\n",
            "<https://urlinvente/monontologie#herbivore> <http://www.w3.org/1999/02/22-rdf-syntax-ns#type> <http://www.w3.org/2002/07/owl#Class> .\n",
            "<https://urlinvente/monontologie#herbivore> <http://www.w3.org/2000/01/rdf-schema#subClassOf> <http://www.w3.org/2002/07/owl#Thing> .\n",
            "_:7 <http://www.w3.org/1999/02/22-rdf-syntax-ns#type> <http://www.w3.org/2002/07/owl#Restriction> .\n",
            "_:7 <http://www.w3.org/2002/07/owl#onProperty> <https://urlinvente/monontologie#mange> .\n",
            "_:7 <http://www.w3.org/2002/07/owl#allValuesFrom> <https://urlinvente/monontologie#Plante> .\n",
            "_:8 <http://www.w3.org/1999/02/22-rdf-syntax-ns#type> <http://www.w3.org/2002/07/owl#Class> .\n",
            "_:8 <http://www.w3.org/2002/07/owl#intersectionOf> _:6 .\n",
            "_:6 <http://www.w3.org/1999/02/22-rdf-syntax-ns#first> <https://urlinvente/monontologie#Animal> .\n",
            "_:6 <http://www.w3.org/1999/02/22-rdf-syntax-ns#rest> _:9 .\n",
            "_:9 <http://www.w3.org/1999/02/22-rdf-syntax-ns#first> _:7 .\n",
            "_:9 <http://www.w3.org/1999/02/22-rdf-syntax-ns#rest> <http://www.w3.org/1999/02/22-rdf-syntax-ns#nil> .\n",
            "<https://urlinvente/monontologie#herbivore> <http://www.w3.org/2002/07/owl#equivalentClass> _:8 .\n",
            "<https://urlinvente/monontologie#nonsense> <http://www.w3.org/1999/02/22-rdf-syntax-ns#type> <http://www.w3.org/2002/07/owl#Class> .\n",
            "<https://urlinvente/monontologie#nonsense> <http://www.w3.org/2000/01/rdf-schema#subClassOf> <http://www.w3.org/2002/07/owl#Thing> .\n",
            "_:11 <http://www.w3.org/1999/02/22-rdf-syntax-ns#type> <http://www.w3.org/2002/07/owl#Class> .\n",
            "_:11 <http://www.w3.org/2002/07/owl#intersectionOf> _:10 .\n",
            "_:10 <http://www.w3.org/1999/02/22-rdf-syntax-ns#first> <https://urlinvente/monontologie#Animal> .\n",
            "_:10 <http://www.w3.org/1999/02/22-rdf-syntax-ns#rest> _:12 .\n",
            "_:12 <http://www.w3.org/1999/02/22-rdf-syntax-ns#first> <https://urlinvente/monontologie#Plante> .\n",
            "_:12 <http://www.w3.org/1999/02/22-rdf-syntax-ns#rest> <http://www.w3.org/1999/02/22-rdf-syntax-ns#nil> .\n",
            "<https://urlinvente/monontologie#nonsense> <http://www.w3.org/2002/07/owl#equivalentClass> _:11 .\n",
            "<https://urlinvente/monontologie#animal1> <http://www.w3.org/1999/02/22-rdf-syntax-ns#type> <http://www.w3.org/2002/07/owl#NamedIndividual> .\n",
            "<https://urlinvente/monontologie#animal1> <http://www.w3.org/1999/02/22-rdf-syntax-ns#type> <https://urlinvente/monontologie#Animal> .\n",
            "<https://urlinvente/monontologie#plante1> <http://www.w3.org/1999/02/22-rdf-syntax-ns#type> <http://www.w3.org/2002/07/owl#NamedIndividual> .\n",
            "<https://urlinvente/monontologie#plante1> <http://www.w3.org/1999/02/22-rdf-syntax-ns#type> <https://urlinvente/monontologie#Plante> .\n",
            "<https://urlinvente/monontologie#carnivore1> <http://www.w3.org/1999/02/22-rdf-syntax-ns#type> <http://www.w3.org/2002/07/owl#NamedIndividual> .\n",
            "<https://urlinvente/monontologie#carnivore1> <http://www.w3.org/1999/02/22-rdf-syntax-ns#type> <https://urlinvente/monontologie#carnivore> .\n",
            "<https://urlinvente/monontologie#animal2> <http://www.w3.org/1999/02/22-rdf-syntax-ns#type> <http://www.w3.org/2002/07/owl#NamedIndividual> .\n",
            "<https://urlinvente/monontologie#animal2> <http://www.w3.org/1999/02/22-rdf-syntax-ns#type> <https://urlinvente/monontologie#Animal> .\n",
            "<https://urlinvente/monontologie#animal2> <https://urlinvente/monontologie#mange> <https://urlinvente/monontologie#plante1> .\n",
            "<https://urlinvente/monontologie#animal1> <https://urlinvente/monontologie#mange> <https://urlinvente/monontologie#animal2> .\n",
            "<https://urlinvente/monontologie#animal1> <https://urlinvente/monontologie#nomOfficiel> \"Lion\"^^<http://www.w3.org/2001/XMLSchema#string> .\n",
            "<https://urlinvente/monontologie#carnivore1> <https://urlinvente/monontologie#nomOfficiel> \"Tigre\"^^<http://www.w3.org/2001/XMLSchema#string> .\n",
            "<https://urlinvente/monontologie#animal2> <https://urlinvente/monontologie#nomOfficiel> \"Brebis\"^^<http://www.w3.org/2001/XMLSchema#string> .\n"
          ],
          "name": "stdout"
        }
      ]
    },
    {
      "cell_type": "markdown",
      "metadata": {
        "id": "qBQMdKIsifjz",
        "colab_type": "text"
      },
      "source": [
        "## Inférence et raisonnement \n",
        "A présent voyons comment nous pouvons ajouter des régles d'inférences afin d'inférer des nouvelles connaissances a partir des connaissances existantes "
      ]
    },
    {
      "cell_type": "code",
      "metadata": {
        "id": "pu_-26fWifj0",
        "colab_type": "code",
        "colab": {}
      },
      "source": [
        "with onto:\n",
        "    rule = Imp()\n",
        "    rule.set_as_rule(\"\"\"carnivore(?a1), carnivore(?a2) -> nemangepas(?a1, ?a2)\"\"\")"
      ],
      "execution_count": 0,
      "outputs": []
    },
    {
      "cell_type": "code",
      "metadata": {
        "id": "EjDmuwsYifj3",
        "colab_type": "code",
        "outputId": "7aed3b89-43f3-4b85-c21a-ecd9d41d7d4c",
        "colab": {
          "base_uri": "https://localhost:8080/",
          "height": 72
        }
      },
      "source": [
        "\"\"\"\n",
        "On execute les méthodes ici avant le raisonneur\n",
        "\"\"\"\n",
        "Lion.presente_toi()\n",
        "Tigre.presente_toi()\n",
        "Brebis.presente_toi()"
      ],
      "execution_count": 18,
      "outputs": [
        {
          "output_type": "stream",
          "text": [
            "je suis un animal !\n",
            "je suis un carnivore !\n",
            "je suis un animal !\n"
          ],
          "name": "stdout"
        }
      ]
    },
    {
      "cell_type": "code",
      "metadata": {
        "id": "1HFvJpfwifkB",
        "colab_type": "code",
        "outputId": "2414105c-0550-4123-f5ea-df080cefb9fa",
        "colab": {
          "base_uri": "https://localhost:8080/",
          "height": 255
        }
      },
      "source": [
        "with onto:\n",
        "    sync_reasoner(infer_property_values = True)"
      ],
      "execution_count": 19,
      "outputs": [
        {
          "output_type": "stream",
          "text": [
            "* Owlready2 * Running HermiT...\n",
            "    java -Xmx2000M -cp /usr/local/lib/python3.6/dist-packages/owlready2/hermit:/usr/local/lib/python3.6/dist-packages/owlready2/hermit/HermiT.jar org.semanticweb.HermiT.cli.CommandLine -c -O -D -I file:////tmp/tmpcu8x8yfu -Y\n"
          ],
          "name": "stderr"
        },
        {
          "output_type": "stream",
          "text": [
            "* Owlready * Adding relation monontologie.carnivore1 nemangepas monontologie.carnivore1\n",
            "* Owlready * Adding relation monontologie.carnivore1 nemangepas monontologie.animal1\n",
            "* Owlready * Adding relation monontologie.animal1 nemangepas monontologie.carnivore1\n",
            "* Owlready * Adding relation monontologie.animal1 nemangepas monontologie.animal1\n"
          ],
          "name": "stdout"
        },
        {
          "output_type": "stream",
          "text": [
            "* Owlready2 * HermiT took 1.792048454284668 seconds\n",
            "* Owlready * Equivalenting: monontologie.nonsense owl.Nothing\n",
            "* Owlready * Reparenting monontologie.herbivore: {owl.Thing} => {monontologie.Animal}\n",
            "* Owlready * Reparenting monontologie.carnivore: {owl.Thing} => {monontologie.Animal}\n",
            "* Owlready * Reparenting monontologie.animal1: {monontologie.Animal} => {monontologie.carnivore}\n",
            "* Owlready * (NB: only changes on entities loaded in Python are shown, other changes are done but not listed)\n"
          ],
          "name": "stderr"
        }
      ]
    },
    {
      "cell_type": "code",
      "metadata": {
        "id": "u9br4DGwifkE",
        "colab_type": "code",
        "outputId": "a7a046ee-3bad-45f4-856d-038690ac840e",
        "colab": {
          "base_uri": "https://localhost:8080/",
          "height": 72
        }
      },
      "source": [
        "\"\"\"\n",
        "Voyons voire si les changement de classes affectent l'execution des méthodes\n",
        "\"\"\"\n",
        "Lion.presente_toi()\n",
        "Tigre.presente_toi()\n",
        "Brebis.presente_toi()"
      ],
      "execution_count": 20,
      "outputs": [
        {
          "output_type": "stream",
          "text": [
            "je suis un carnivore !\n",
            "je suis un carnivore !\n",
            "je suis un animal !\n"
          ],
          "name": "stdout"
        }
      ]
    },
    {
      "cell_type": "code",
      "metadata": {
        "id": "dnH04Nu5ifkH",
        "colab_type": "code",
        "outputId": "399876b4-8c7a-42c7-93fc-ae3f0e06eaad",
        "colab": {
          "base_uri": "https://localhost:8080/",
          "height": 165
        }
      },
      "source": [
        "with onto:\n",
        "    sync_reasoner_pellet(infer_property_values = True)"
      ],
      "execution_count": 21,
      "outputs": [
        {
          "output_type": "stream",
          "text": [
            "* Owlready2 * Running Pellet...\n",
            "    java -Xmx2000M -cp /usr/local/lib/python3.6/dist-packages/owlready2/pellet/commons-codec-1.6.jar:/usr/local/lib/python3.6/dist-packages/owlready2/pellet/owlapi-distribution-3.4.3-bin.jar:/usr/local/lib/python3.6/dist-packages/owlready2/pellet/slf4j-log4j12-1.6.4.jar:/usr/local/lib/python3.6/dist-packages/owlready2/pellet/log4j-1.2.16.jar:/usr/local/lib/python3.6/dist-packages/owlready2/pellet/jgrapht-jdk1.5.jar:/usr/local/lib/python3.6/dist-packages/owlready2/pellet/antlr-3.2.jar:/usr/local/lib/python3.6/dist-packages/owlready2/pellet/aterm-java-1.6.jar:/usr/local/lib/python3.6/dist-packages/owlready2/pellet/jena-core-2.10.0.jar:/usr/local/lib/python3.6/dist-packages/owlready2/pellet/pellet-2.3.1.jar:/usr/local/lib/python3.6/dist-packages/owlready2/pellet/slf4j-api-1.6.4.jar:/usr/local/lib/python3.6/dist-packages/owlready2/pellet/jena-tdb-0.10.0.jar:/usr/local/lib/python3.6/dist-packages/owlready2/pellet/jcl-over-slf4j-1.6.4.jar:/usr/local/lib/python3.6/dist-packages/owlready2/pellet/antlr-runtime-3.2.jar:/usr/local/lib/python3.6/dist-packages/owlready2/pellet/httpclient-4.2.3.jar:/usr/local/lib/python3.6/dist-packages/owlready2/pellet/xercesImpl-2.10.0.jar:/usr/local/lib/python3.6/dist-packages/owlready2/pellet/jena-arq-2.10.0.jar:/usr/local/lib/python3.6/dist-packages/owlready2/pellet/httpcore-4.2.2.jar:/usr/local/lib/python3.6/dist-packages/owlready2/pellet/xml-apis-1.4.01.jar:/usr/local/lib/python3.6/dist-packages/owlready2/pellet/jena-iri-0.9.5.jar pellet.Pellet realize --loader Jena --input-format N-Triples --infer-prop-values --ignore-imports /tmp/tmpbbdhsc4u\n",
            "* Owlready2 * Pellet took 1.5425562858581543 seconds\n",
            "* Owlready * Equivalenting: monontologie.nonsense owl.Nothing\n",
            "* Owlready * Equivalenting: owl.Nothing monontologie.nonsense\n",
            "* Owlready * Reparenting Amazone_Ontology.also_bought: {owl.ObjectProperty} => {owl.Thing}\n",
            "* Owlready * (NB: only changes on entities loaded in Python are shown, other changes are done but not listed)\n"
          ],
          "name": "stderr"
        }
      ]
    },
    {
      "cell_type": "code",
      "metadata": {
        "id": "T6u7rgREifkK",
        "colab_type": "code",
        "outputId": "418c01ac-8b40-40de-8a1d-ea3e1ae52a41",
        "colab": {
          "base_uri": "https://localhost:8080/",
          "height": 1000
        }
      },
      "source": [
        "onto.save(file = \"out.owl\", format = \"ntriples\")\n",
        "!cat out.owl\n",
        "default_world.save()"
      ],
      "execution_count": 22,
      "outputs": [
        {
          "output_type": "stream",
          "text": [
            "<https://urlinvente/monontologie> <http://www.w3.org/1999/02/22-rdf-syntax-ns#type> <http://www.w3.org/2002/07/owl#Ontology> .\n",
            "<https://urlinvente/monontologie#Animal> <http://www.w3.org/1999/02/22-rdf-syntax-ns#type> <http://www.w3.org/2002/07/owl#Class> .\n",
            "<https://urlinvente/monontologie#Animal> <http://www.w3.org/2000/01/rdf-schema#subClassOf> <http://www.w3.org/2002/07/owl#Thing> .\n",
            "<https://urlinvente/monontologie#Plante> <http://www.w3.org/1999/02/22-rdf-syntax-ns#type> <http://www.w3.org/2002/07/owl#Class> .\n",
            "<https://urlinvente/monontologie#Plante> <http://www.w3.org/2000/01/rdf-schema#subClassOf> <http://www.w3.org/2002/07/owl#Thing> .\n",
            "<https://urlinvente/monontologie#Animal> <http://www.w3.org/2002/07/owl#disjointWith> <https://urlinvente/monontologie#Plante> .\n",
            "<https://urlinvente/monontologie#mange> <http://www.w3.org/1999/02/22-rdf-syntax-ns#type> <http://www.w3.org/2002/07/owl#ObjectProperty> .\n",
            "<https://urlinvente/monontologie#mange> <http://www.w3.org/2000/01/rdf-schema#domain> <https://urlinvente/monontologie#Animal> .\n",
            "<https://urlinvente/monontologie#mange> <http://www.w3.org/2000/01/rdf-schema#range> <http://www.w3.org/2002/07/owl#Thing> .\n",
            "<https://urlinvente/monontologie#nemangepas> <http://www.w3.org/1999/02/22-rdf-syntax-ns#type> <http://www.w3.org/2002/07/owl#ObjectProperty> .\n",
            "<https://urlinvente/monontologie#nemangepas> <http://www.w3.org/2000/01/rdf-schema#domain> <https://urlinvente/monontologie#Animal> .\n",
            "<https://urlinvente/monontologie#nemangepas> <http://www.w3.org/2000/01/rdf-schema#range> <https://urlinvente/monontologie#Animal> .\n",
            "<https://urlinvente/monontologie#nomOfficiel> <http://www.w3.org/1999/02/22-rdf-syntax-ns#type> <http://www.w3.org/2002/07/owl#DatatypeProperty> .\n",
            "<https://urlinvente/monontologie#nomOfficiel> <http://www.w3.org/1999/02/22-rdf-syntax-ns#type> <http://www.w3.org/2002/07/owl#FunctionalProperty> .\n",
            "<https://urlinvente/monontologie#nomOfficiel> <http://www.w3.org/2000/01/rdf-schema#domain> <https://urlinvente/monontologie#Animal> .\n",
            "<https://urlinvente/monontologie#nomOfficiel> <http://www.w3.org/2000/01/rdf-schema#range> <http://www.w3.org/2001/XMLSchema#string> .\n",
            "<https://urlinvente/monontologie#carnivore> <http://www.w3.org/1999/02/22-rdf-syntax-ns#type> <http://www.w3.org/2002/07/owl#Class> .\n",
            "<https://urlinvente/monontologie#carnivore> <http://www.w3.org/2000/01/rdf-schema#subClassOf> <http://www.w3.org/2002/07/owl#Thing> .\n",
            "_:3 <http://www.w3.org/1999/02/22-rdf-syntax-ns#type> <http://www.w3.org/2002/07/owl#Restriction> .\n",
            "_:3 <http://www.w3.org/2002/07/owl#onProperty> <https://urlinvente/monontologie#mange> .\n",
            "_:3 <http://www.w3.org/2002/07/owl#someValuesFrom> <https://urlinvente/monontologie#Animal> .\n",
            "_:4 <http://www.w3.org/1999/02/22-rdf-syntax-ns#type> <http://www.w3.org/2002/07/owl#Class> .\n",
            "_:4 <http://www.w3.org/2002/07/owl#intersectionOf> _:2 .\n",
            "_:2 <http://www.w3.org/1999/02/22-rdf-syntax-ns#first> <https://urlinvente/monontologie#Animal> .\n",
            "_:2 <http://www.w3.org/1999/02/22-rdf-syntax-ns#rest> _:5 .\n",
            "_:5 <http://www.w3.org/1999/02/22-rdf-syntax-ns#first> _:3 .\n",
            "_:5 <http://www.w3.org/1999/02/22-rdf-syntax-ns#rest> <http://www.w3.org/1999/02/22-rdf-syntax-ns#nil> .\n",
            "<https://urlinvente/monontologie#carnivore> <http://www.w3.org/2002/07/owl#equivalentClass> _:4 .\n",
            "<https://urlinvente/monontologie#herbivore> <http://www.w3.org/1999/02/22-rdf-syntax-ns#type> <http://www.w3.org/2002/07/owl#Class> .\n",
            "<https://urlinvente/monontologie#herbivore> <http://www.w3.org/2000/01/rdf-schema#subClassOf> <http://www.w3.org/2002/07/owl#Thing> .\n",
            "_:7 <http://www.w3.org/1999/02/22-rdf-syntax-ns#type> <http://www.w3.org/2002/07/owl#Restriction> .\n",
            "_:7 <http://www.w3.org/2002/07/owl#onProperty> <https://urlinvente/monontologie#mange> .\n",
            "_:7 <http://www.w3.org/2002/07/owl#allValuesFrom> <https://urlinvente/monontologie#Plante> .\n",
            "_:8 <http://www.w3.org/1999/02/22-rdf-syntax-ns#type> <http://www.w3.org/2002/07/owl#Class> .\n",
            "_:8 <http://www.w3.org/2002/07/owl#intersectionOf> _:6 .\n",
            "_:6 <http://www.w3.org/1999/02/22-rdf-syntax-ns#first> <https://urlinvente/monontologie#Animal> .\n",
            "_:6 <http://www.w3.org/1999/02/22-rdf-syntax-ns#rest> _:9 .\n",
            "_:9 <http://www.w3.org/1999/02/22-rdf-syntax-ns#first> _:7 .\n",
            "_:9 <http://www.w3.org/1999/02/22-rdf-syntax-ns#rest> <http://www.w3.org/1999/02/22-rdf-syntax-ns#nil> .\n",
            "<https://urlinvente/monontologie#herbivore> <http://www.w3.org/2002/07/owl#equivalentClass> _:8 .\n",
            "<https://urlinvente/monontologie#nonsense> <http://www.w3.org/1999/02/22-rdf-syntax-ns#type> <http://www.w3.org/2002/07/owl#Class> .\n",
            "<https://urlinvente/monontologie#nonsense> <http://www.w3.org/2000/01/rdf-schema#subClassOf> <http://www.w3.org/2002/07/owl#Thing> .\n",
            "_:11 <http://www.w3.org/1999/02/22-rdf-syntax-ns#type> <http://www.w3.org/2002/07/owl#Class> .\n",
            "_:11 <http://www.w3.org/2002/07/owl#intersectionOf> _:10 .\n",
            "_:10 <http://www.w3.org/1999/02/22-rdf-syntax-ns#first> <https://urlinvente/monontologie#Animal> .\n",
            "_:10 <http://www.w3.org/1999/02/22-rdf-syntax-ns#rest> _:12 .\n",
            "_:12 <http://www.w3.org/1999/02/22-rdf-syntax-ns#first> <https://urlinvente/monontologie#Plante> .\n",
            "_:12 <http://www.w3.org/1999/02/22-rdf-syntax-ns#rest> <http://www.w3.org/1999/02/22-rdf-syntax-ns#nil> .\n",
            "<https://urlinvente/monontologie#nonsense> <http://www.w3.org/2002/07/owl#equivalentClass> _:11 .\n",
            "<https://urlinvente/monontologie#animal1> <http://www.w3.org/1999/02/22-rdf-syntax-ns#type> <http://www.w3.org/2002/07/owl#NamedIndividual> .\n",
            "<https://urlinvente/monontologie#animal1> <http://www.w3.org/1999/02/22-rdf-syntax-ns#type> <https://urlinvente/monontologie#Animal> .\n",
            "<https://urlinvente/monontologie#plante1> <http://www.w3.org/1999/02/22-rdf-syntax-ns#type> <http://www.w3.org/2002/07/owl#NamedIndividual> .\n",
            "<https://urlinvente/monontologie#plante1> <http://www.w3.org/1999/02/22-rdf-syntax-ns#type> <https://urlinvente/monontologie#Plante> .\n",
            "<https://urlinvente/monontologie#carnivore1> <http://www.w3.org/1999/02/22-rdf-syntax-ns#type> <http://www.w3.org/2002/07/owl#NamedIndividual> .\n",
            "<https://urlinvente/monontologie#carnivore1> <http://www.w3.org/1999/02/22-rdf-syntax-ns#type> <https://urlinvente/monontologie#carnivore> .\n",
            "<https://urlinvente/monontologie#animal2> <http://www.w3.org/1999/02/22-rdf-syntax-ns#type> <http://www.w3.org/2002/07/owl#NamedIndividual> .\n",
            "<https://urlinvente/monontologie#animal2> <http://www.w3.org/1999/02/22-rdf-syntax-ns#type> <https://urlinvente/monontologie#Animal> .\n",
            "<https://urlinvente/monontologie#animal2> <https://urlinvente/monontologie#mange> <https://urlinvente/monontologie#plante1> .\n",
            "<https://urlinvente/monontologie#animal1> <https://urlinvente/monontologie#mange> <https://urlinvente/monontologie#animal2> .\n",
            "_:13 <http://www.w3.org/1999/02/22-rdf-syntax-ns#type> <http://www.w3.org/2003/11/swrl#Imp> .\n",
            "_:14 <http://www.w3.org/1999/02/22-rdf-syntax-ns#type> <http://www.w3.org/2003/11/swrl#ClassAtom> .\n",
            "_:14 <http://www.w3.org/2003/11/swrl#classPredicate> <https://urlinvente/monontologie#carnivore> .\n",
            "<urn:swrl#a1> <http://www.w3.org/1999/02/22-rdf-syntax-ns#type> <http://www.w3.org/2003/11/swrl#Variable> .\n",
            "_:14 <http://www.w3.org/2003/11/swrl#argument1> <urn:swrl#a1> .\n",
            "_:15 <http://www.w3.org/1999/02/22-rdf-syntax-ns#type> <http://www.w3.org/2003/11/swrl#ClassAtom> .\n",
            "_:15 <http://www.w3.org/2003/11/swrl#classPredicate> <https://urlinvente/monontologie#carnivore> .\n",
            "<urn:swrl#a2> <http://www.w3.org/1999/02/22-rdf-syntax-ns#type> <http://www.w3.org/2003/11/swrl#Variable> .\n",
            "_:15 <http://www.w3.org/2003/11/swrl#argument1> <urn:swrl#a2> .\n",
            "_:16 <http://www.w3.org/1999/02/22-rdf-syntax-ns#type> <http://www.w3.org/2003/11/swrl#IndividualPropertyAtom> .\n",
            "_:16 <http://www.w3.org/2003/11/swrl#propertyPredicate> <https://urlinvente/monontologie#nemangepas> .\n",
            "_:16 <http://www.w3.org/2003/11/swrl#argument1> <urn:swrl#a1> .\n",
            "_:16 <http://www.w3.org/2003/11/swrl#argument2> <urn:swrl#a2> .\n",
            "_:13 <http://www.w3.org/2003/11/swrl#body> _:17 .\n",
            "_:17 <http://www.w3.org/1999/02/22-rdf-syntax-ns#first> _:14 .\n",
            "_:17 <http://www.w3.org/1999/02/22-rdf-syntax-ns#rest> _:18 .\n",
            "_:18 <http://www.w3.org/1999/02/22-rdf-syntax-ns#first> _:15 .\n",
            "_:18 <http://www.w3.org/1999/02/22-rdf-syntax-ns#rest> <http://www.w3.org/1999/02/22-rdf-syntax-ns#nil> .\n",
            "_:13 <http://www.w3.org/2003/11/swrl#head> _:19 .\n",
            "_:19 <http://www.w3.org/1999/02/22-rdf-syntax-ns#first> _:16 .\n",
            "_:19 <http://www.w3.org/1999/02/22-rdf-syntax-ns#rest> <http://www.w3.org/1999/02/22-rdf-syntax-ns#nil> .\n",
            "<https://urlinvente/monontologie#herbivore> <http://www.w3.org/2000/01/rdf-schema#subClassOf> <https://urlinvente/monontologie#Animal> .\n",
            "<https://urlinvente/monontologie#carnivore> <http://www.w3.org/2000/01/rdf-schema#subClassOf> <https://urlinvente/monontologie#Animal> .\n",
            "<https://urlinvente/monontologie#animal1> <http://www.w3.org/1999/02/22-rdf-syntax-ns#type> <https://urlinvente/monontologie#carnivore> .\n",
            "<https://urlinvente/monontologie#nonsense> <http://www.w3.org/2002/07/owl#equivalentClass> <http://www.w3.org/2002/07/owl#Nothing> .\n",
            "<https://urlinvente/monontologie#carnivore1> <https://urlinvente/monontologie#nemangepas> <https://urlinvente/monontologie#carnivore1> .\n",
            "<https://urlinvente/monontologie#carnivore1> <https://urlinvente/monontologie#nemangepas> <https://urlinvente/monontologie#animal1> .\n",
            "<https://urlinvente/monontologie#animal1> <https://urlinvente/monontologie#nemangepas> <https://urlinvente/monontologie#carnivore1> .\n",
            "<https://urlinvente/monontologie#animal1> <https://urlinvente/monontologie#nemangepas> <https://urlinvente/monontologie#animal1> .\n",
            "<http://www.semanticweb.org/mohamed/ontologies/2020/3/Amazone_Ont#also_bought> <http://www.w3.org/1999/02/22-rdf-syntax-ns#type> <http://www.w3.org/2002/07/owl#Thing> .\n",
            "<http://www.w3.org/2002/07/owl#Nothing> <http://www.w3.org/2002/07/owl#equivalentClass> <https://urlinvente/monontologie#nonsense> .\n",
            "<https://urlinvente/monontologie#animal1> <https://urlinvente/monontologie#nomOfficiel> \"Lion\"^^<http://www.w3.org/2001/XMLSchema#string> .\n",
            "<https://urlinvente/monontologie#carnivore1> <https://urlinvente/monontologie#nomOfficiel> \"Tigre\"^^<http://www.w3.org/2001/XMLSchema#string> .\n",
            "<https://urlinvente/monontologie#animal2> <https://urlinvente/monontologie#nomOfficiel> \"Brebis\"^^<http://www.w3.org/2001/XMLSchema#string> .\n"
          ],
          "name": "stdout"
        }
      ]
    },
    {
      "cell_type": "code",
      "metadata": {
        "id": "yfTE6vBgifkN",
        "colab_type": "code",
        "outputId": "743bf4fa-f993-46bf-d8f6-dd6c4d6ed722",
        "colab": {
          "base_uri": "https://localhost:8080/",
          "height": 54
        }
      },
      "source": [
        "import rdflib\n",
        "graph = default_world.as_rdflib_graph()\n",
        "requete = \"\"\"\n",
        "prefix : <https://urlinvente/monontologie#> \n",
        "\n",
        "SELECT DISTINCT ?nom\n",
        "WHERE{\n",
        "?s rdf:type :Animal . \n",
        "?s :nomOfficiel ?nom\n",
        "}\n",
        "\"\"\"\n",
        "res = graph.query(requete)\n",
        "for i in res:\n",
        "    print(str(i[0]))"
      ],
      "execution_count": 26,
      "outputs": [
        {
          "output_type": "stream",
          "text": [
            "Lion\n",
            "Brebis\n"
          ],
          "name": "stdout"
        }
      ]
    },
    {
      "cell_type": "code",
      "metadata": {
        "id": "1wv8WlYhifkQ",
        "colab_type": "code",
        "outputId": "7163454b-035c-4dd1-ec56-2ebcde39b923",
        "colab": {
          "base_uri": "https://localhost:8080/",
          "height": 35
        }
      },
      "source": [
        "if Nothing in nonsense.equivalent_to:\n",
        "    print(\"nonsense is inconsistent!\")\n",
        "if Nothing in Animal.equivalent_to:\n",
        "    print(\"Animal is inconsistent!\")"
      ],
      "execution_count": 27,
      "outputs": [
        {
          "output_type": "stream",
          "text": [
            "nonsense is inconsistent!\n"
          ],
          "name": "stdout"
        }
      ]
    },
    {
      "cell_type": "code",
      "metadata": {
        "id": "ngStebHyifkT",
        "colab_type": "code",
        "colab": {}
      },
      "source": [
        ""
      ],
      "execution_count": 0,
      "outputs": []
    }
  ]
}