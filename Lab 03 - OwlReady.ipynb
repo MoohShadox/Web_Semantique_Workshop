{
  "nbformat": 4,
  "nbformat_minor": 0,
  "metadata": {
    "kernelspec": {
      "display_name": "PyCharm (RLLab2)",
      "language": "python",
      "name": "pycharm-fe7a6dad"
    },
    "language_info": {
      "codemirror_mode": {
        "name": "ipython",
        "version": 3
      },
      "file_extension": ".py",
      "mimetype": "text/x-python",
      "name": "python",
      "nbconvert_exporter": "python",
      "pygments_lexer": "ipython3",
      "version": "3.7.4"
    },
    "colab": {
      "name": "Lab 03 - OwlReady.ipynb",
      "provenance": [],
      "toc_visible": true,
      "include_colab_link": true
    }
  },
  "cells": [
    {
      "cell_type": "markdown",
      "metadata": {
        "id": "view-in-github",
        "colab_type": "text"
      },
      "source": [
        "<a href=\"https://colab.research.google.com/github/MoohShadox/Web_Semantique_Workshop/blob/master/Lab%2003%20-%20OwlReady.ipynb\" target=\"_parent\"><img src=\"https://colab.research.google.com/assets/colab-badge.svg\" alt=\"Open In Colab\"/></a>"
      ]
    },
    {
      "cell_type": "code",
      "metadata": {
        "id": "6TbKRiXsifi0",
        "colab_type": "code",
        "colab": {}
      },
      "source": [
        "!pip install owlready2\n",
        "from owlready2 import *\n",
        "!git clone https://github.com/MoohShadox/Web_Semantique_Workshop"
      ],
      "execution_count": 0,
      "outputs": []
    },
    {
      "cell_type": "code",
      "metadata": {
        "id": "WnBnlaCDUoo_",
        "colab_type": "code",
        "colab": {}
      },
      "source": [
        "!pip install rdflib\n",
        "import rdflib"
      ],
      "execution_count": 0,
      "outputs": []
    },
    {
      "cell_type": "markdown",
      "metadata": {
        "id": "aLg8Knzzifi8",
        "colab_type": "text"
      },
      "source": [
        "# Lab 02 : OWLReady \n",
        "Dans ce lab nous allons étudier le fonctionnement de OWLReady et les possibilités que cette librairie offre, nous aborderons notamment les questions suivantes : \n",
        "- Manipuler des ontologies déja existantes\n",
        "- Comment enrichir une ontologie\n",
        "- Comment créer et ajouter des individus\n",
        "- Comment éditer des régles d'inférences \n",
        "- Comment exécuter le raisonneur et les différents raisonneurs qui existent (Hermit, Pellet etc..) \n",
        "- Comment voire ce que le raisonner a inféré et notamment comment vérifier qu'une classe est inconsistante.\n",
        "- Comment transformer une ontologie en graphe rdflib afin de pouvoir exécuter des requêtes SPARQL dessus."
      ]
    },
    {
      "cell_type": "markdown",
      "metadata": {
        "id": "ytcdtZ3Uifi8",
        "colab_type": "text"
      },
      "source": [
        "## 1- Récupérer et Manipuler des ontologies \n",
        "Avant toute chose il faut savoir que si les ontologies peuvent être sérialisées en un fichier .owl ce n'est pas la représentation la plus pratique pour stocker des grands volumes de données, ils serrons plûtot enregistrées dans des quadstore qui ont pour avantage d'être indexées.\n",
        "\n",
        "Cette première ligne servira donc a fixer le back end ce qui signifie trois chose : \n",
        "- Si le fichier existe déja la ligne va automatiquement récupérer les ontologies qui sont dessus\n",
        "- Si le fichier n'existe pas et que vous n'avez pas encore commencé la construction de l'ontologie, le fichier serra crée.\n",
        "- Si le fichier n'existe pas mais que vous avez déja commencé a construire l'ontologie (si vous avez exécuté le notebook puis que vous êtes remontés pour executer cette cellule par exemple) ça renverra une erreur."
      ]
    },
    {
      "cell_type": "code",
      "metadata": {
        "id": "qGBjYjwYifi9",
        "colab_type": "code",
        "colab": {}
      },
      "source": [
        "default_world.set_backend(filename = \"file_back3.sqlite3\", exclusive = False)"
      ],
      "execution_count": 0,
      "outputs": []
    },
    {
      "cell_type": "markdown",
      "metadata": {
        "id": "GW8KQQKkifjC",
        "colab_type": "text"
      },
      "source": [
        "Ensuite, il est possible de charger une ontologie a partir d'un fichier OWL sérialisé en RDF/XML, ce fichier peut provenir de l'exercice précédent qui génére une ontologie avec RDFLib ou directement de protégé.\n",
        "Dans cette application nous utiliserons une ontologie faite sur protégé."
      ]
    },
    {
      "cell_type": "code",
      "metadata": {
        "id": "WpcSCQeaifjC",
        "colab_type": "code",
        "colab": {}
      },
      "source": [
        "onto = get_ontology(\"file:///content/Web_Semantique_Workshop/Amazone_Ontology.owl\").load()\n",
        "!cat /content/Web_Semantique_Workshop/Amazone_Ontology.owl"
      ],
      "execution_count": 0,
      "outputs": []
    },
    {
      "cell_type": "markdown",
      "metadata": {
        "id": "xRWLT0bUifjG",
        "colab_type": "text"
      },
      "source": [
        "Maintenant que nous avons récupéré notre ontologie voici quelques exemples de méthodes permettant de l'explorer : "
      ]
    },
    {
      "cell_type": "code",
      "metadata": {
        "id": "hQX-ZHOKifjH",
        "colab_type": "code",
        "colab": {}
      },
      "source": [
        "#Afficher les classes : \n",
        "for i in onto.classes():\n",
        "    print(i)"
      ],
      "execution_count": 0,
      "outputs": []
    },
    {
      "cell_type": "code",
      "metadata": {
        "id": "BPhP2FRVifjK",
        "colab_type": "code",
        "colab": {}
      },
      "source": [
        "#Afficher les propriétés : \n",
        "for i in onto.object_properties():\n",
        "    print(i)"
      ],
      "execution_count": 0,
      "outputs": []
    },
    {
      "cell_type": "code",
      "metadata": {
        "id": "FGMIQsazifjO",
        "colab_type": "code",
        "colab": {}
      },
      "source": [
        "for i in onto.individuals():\n",
        "    print(i)"
      ],
      "execution_count": 0,
      "outputs": []
    },
    {
      "cell_type": "markdown",
      "metadata": {
        "id": "ii_UyKECifjS",
        "colab_type": "text"
      },
      "source": [
        "Nous remarquons que l'ontologie ne contient pas d'individus mais nous allons y remédier dans la prochaine partie."
      ]
    },
    {
      "cell_type": "markdown",
      "metadata": {
        "id": "zFbeWZ-WifjS",
        "colab_type": "text"
      },
      "source": [
        "## 2- Créer des individus\n",
        "Pour accéder aux classes présentes dans l'ontologie nous pouvons utiliser le générateur de classes qu'on transformera en liste pour l'occasion."
      ]
    },
    {
      "cell_type": "code",
      "metadata": {
        "id": "dTFAIb4RifjT",
        "colab_type": "code",
        "colab": {}
      },
      "source": [
        "class_article = list(onto.classes())[0]\n",
        "A = class_article()"
      ],
      "execution_count": 0,
      "outputs": []
    },
    {
      "cell_type": "code",
      "metadata": {
        "id": "l1wqLYOeifjW",
        "colab_type": "code",
        "colab": {}
      },
      "source": [
        "for i in onto.individuals():\n",
        "    print(i)"
      ],
      "execution_count": 0,
      "outputs": []
    },
    {
      "cell_type": "markdown",
      "metadata": {
        "id": "lTZvJrkAbJUb",
        "colab_type": "text"
      },
      "source": [
        "On peut renommer nos individus sachant que par défaut leur display "
      ]
    },
    {
      "cell_type": "code",
      "metadata": {
        "id": "5T91cyT5avnP",
        "colab_type": "code",
        "colab": {}
      },
      "source": [
        "mon_iri = \"http://www.semanticweb.org/mohamed/ontologies/2020/3/Amazone_Ont#11122002\"\n",
        "I = list(onto.individuals())[0]\n",
        "I.iri = mon_iri\n",
        "for i in onto.individuals():\n",
        "    print(i)"
      ],
      "execution_count": 0,
      "outputs": []
    },
    {
      "cell_type": "code",
      "metadata": {
        "id": "rxOxMGD9ceb7",
        "colab_type": "code",
        "colab": {}
      },
      "source": [
        "for i in onto.individuals():\n",
        "    print(i.namespace, \" \", i.name)"
      ],
      "execution_count": 0,
      "outputs": []
    },
    {
      "cell_type": "markdown",
      "metadata": {
        "id": "tMuKFnbCbHdp",
        "colab_type": "text"
      },
      "source": [
        ""
      ]
    },
    {
      "cell_type": "code",
      "metadata": {
        "id": "ADpFq-MPlkQn",
        "colab_type": "code",
        "colab": {}
      },
      "source": [
        "L = onto.search(type = class_article)\n",
        "print(L)"
      ],
      "execution_count": 0,
      "outputs": []
    },
    {
      "cell_type": "markdown",
      "metadata": {
        "id": "fHRRA8YbifjZ",
        "colab_type": "text"
      },
      "source": [
        "Et cette fois ci on remarquera qu'on a bien un individu qui c'est crée, réexecutais plusieurs fois la première cellule vous pourrez constater que l'instruction crée bien un individu."
      ]
    },
    {
      "cell_type": "code",
      "metadata": {
        "id": "epC-jlpcifja",
        "colab_type": "code",
        "colab": {}
      },
      "source": [
        "relation_alsobought = list(onto.object_properties())[0]"
      ],
      "execution_count": 0,
      "outputs": []
    },
    {
      "cell_type": "code",
      "metadata": {
        "id": "eGnWAETAifjd",
        "colab_type": "code",
        "colab": {}
      },
      "source": [
        "relation_alsobought"
      ],
      "execution_count": 0,
      "outputs": []
    },
    {
      "cell_type": "markdown",
      "metadata": {
        "id": "qCDEKYx-ifjg",
        "colab_type": "text"
      },
      "source": [
        "Cependant notre petite astuce ne permet pas de créer des relations directement, il faudra associer a notre objet relation un \"python_name\" qui servira a l'appeler comme une propriété de classe."
      ]
    },
    {
      "cell_type": "code",
      "metadata": {
        "id": "kvbRft_ndgbn",
        "colab_type": "code",
        "colab": {}
      },
      "source": [
        "relation_alsobought.python_name = \"also_bought\"\n",
        "A = class_article()\n",
        "A.also_bought = [A]\n",
        "print(A.also_bought)"
      ],
      "execution_count": 0,
      "outputs": []
    },
    {
      "cell_type": "markdown",
      "metadata": {
        "id": "NuiXYN6iifjh",
        "colab_type": "text"
      },
      "source": [
        "## 3- Enrichir une ontologie \n",
        "Cette fois ci, nous allons essayer de reconstruire une nouvelle ontologie de zéro en utilisant owlready. \n",
        "Ce qui est intéressant avec cette façon de faire c'est que nous allons créer des classes Python en même temps que les classes représentant les concepts correspondant dans l'ontologie."
      ]
    },
    {
      "cell_type": "code",
      "metadata": {
        "id": "bvxUnfPEifjh",
        "colab_type": "code",
        "colab": {}
      },
      "source": [
        "#On crée une nouvelle ontologie \n",
        "onto = get_ontology(\"https://urlinvente/monontologie\")\n",
        "\n",
        "with onto:\n",
        "    \n",
        "    #On crée une classe Animal et une classe Plante qui héritent toutes deux de Thing\n",
        "    #On peut même créer des méthodes dans les classes comme en orienté objet\n",
        "    class Animal(Thing):\n",
        "        def presente_toi(self):\n",
        "            print(\"je suis un animal !\")\n",
        "        \n",
        "    class Plante(Thing):\n",
        "        pass\n",
        "    \n",
        "    #On précise que les deux classe sont disjointes\n",
        "    AllDisjoint([Animal, Plante])\n",
        "    \n",
        "    #On crée une propriété qui va avoir comme domain Animal et comme range Thing\n",
        "    class mange(Animal >> Thing):\n",
        "        pass\n",
        "    \n",
        "    class nemangepas(Animal >> Animal):\n",
        "        pass\n",
        "    \n",
        "    \"\"\"On crée une dataproperty cette fois sans utiliser la notation abrégée ce qui nous permet d'hériter a la fois\n",
        "    de DataProperty mais également de FunctionalProperty qui permet donc de préciser que chaque animal a un un nom\n",
        "    unique\n",
        "    \"\"\"\n",
        "    class nomOfficiel(DataProperty, FunctionalProperty):\n",
        "        domain = [Animal]\n",
        "        range = [str]\n",
        "        \n",
        "    \"\"\"\n",
        "    Maintenant on va créer une ou deux classes par equivalence\n",
        "    \"\"\"\n",
        "    class carnivore(Thing):\n",
        "        equivalent_to = [Animal & mange.some(Animal)]\n",
        "        def presente_toi(self):\n",
        "            print(\"je suis un carnivore !\")\n",
        "            \n",
        "            \n",
        "    class herbivore(Thing):\n",
        "        equivalent_to = [Animal & mange.only(Plante)]\n",
        "        \n",
        "    class nonsense(Thing):\n",
        "        equivalent_to = [Animal & Plante]\n"
      ],
      "execution_count": 0,
      "outputs": []
    },
    {
      "cell_type": "markdown",
      "metadata": {
        "id": "MYRw6hEBifjk",
        "colab_type": "text"
      },
      "source": [
        "A présent on peut commencer a créer nos individus et ensuite nous pourrons les manipuler en leur ajoutant des relations."
      ]
    },
    {
      "cell_type": "code",
      "metadata": {
        "id": "dRh-tpo5ifjl",
        "colab_type": "code",
        "colab": {}
      },
      "source": [
        "Lion = Animal()\n",
        "Arbre = Plante()\n",
        "Tigre = carnivore()\n",
        "Brebis = Animal()"
      ],
      "execution_count": 0,
      "outputs": []
    },
    {
      "cell_type": "code",
      "metadata": {
        "id": "9iC1X23bifjq",
        "colab_type": "code",
        "colab": {}
      },
      "source": [
        "Brebis.mange = [Arbre]\n",
        "Lion.mange = [Brebis]\n",
        "Lion.nomOfficiel = \"Lion\"\n",
        "Tigre.nomOfficiel = \"Tigre\"\n",
        "Brebis.nomOfficiel = \"Brebis\""
      ],
      "execution_count": 0,
      "outputs": []
    },
    {
      "cell_type": "code",
      "metadata": {
        "id": "ytwdlqC-ifjv",
        "colab_type": "code",
        "colab": {}
      },
      "source": [
        "onto.save(file = \"out.owl\", format = \"ntriples\")\n",
        "!cat out.owl"
      ],
      "execution_count": 0,
      "outputs": []
    },
    {
      "cell_type": "markdown",
      "metadata": {
        "id": "qBQMdKIsifjz",
        "colab_type": "text"
      },
      "source": [
        "## 4-Inférence et raisonnement \n",
        "A présent voyons comment nous pouvons ajouter des régles d'inférences afin d'inférer des nouvelles connaissances a partir des connaissances existantes "
      ]
    },
    {
      "cell_type": "code",
      "metadata": {
        "id": "pu_-26fWifj0",
        "colab_type": "code",
        "colab": {}
      },
      "source": [
        "with onto:\n",
        "    rule = Imp()\n",
        "    rule.set_as_rule(\"\"\"carnivore(?a1), carnivore(?a2) -> nemangepas(?a1, ?a2)\"\"\")"
      ],
      "execution_count": 0,
      "outputs": []
    },
    {
      "cell_type": "code",
      "metadata": {
        "id": "EjDmuwsYifj3",
        "colab_type": "code",
        "colab": {}
      },
      "source": [
        "\"\"\"\n",
        "On execute les méthodes ici avant le raisonneur\n",
        "\"\"\"\n",
        "Lion.presente_toi()\n",
        "Tigre.presente_toi()\n",
        "Brebis.presente_toi()"
      ],
      "execution_count": 0,
      "outputs": []
    },
    {
      "cell_type": "code",
      "metadata": {
        "id": "1HFvJpfwifkB",
        "colab_type": "code",
        "colab": {}
      },
      "source": [
        "with onto:\n",
        "    sync_reasoner(infer_property_values = True)"
      ],
      "execution_count": 0,
      "outputs": []
    },
    {
      "cell_type": "code",
      "metadata": {
        "id": "u9br4DGwifkE",
        "colab_type": "code",
        "colab": {}
      },
      "source": [
        "\"\"\"\n",
        "Voyons voire si les changement de classes affectent l'execution des méthodes\n",
        "\"\"\"\n",
        "Lion.presente_toi()\n",
        "Tigre.presente_toi()\n",
        "Brebis.presente_toi()"
      ],
      "execution_count": 0,
      "outputs": []
    },
    {
      "cell_type": "code",
      "metadata": {
        "id": "dnH04Nu5ifkH",
        "colab_type": "code",
        "colab": {}
      },
      "source": [
        "with onto:\n",
        "    sync_reasoner_pellet(infer_property_values = True)"
      ],
      "execution_count": 0,
      "outputs": []
    },
    {
      "cell_type": "code",
      "metadata": {
        "id": "T6u7rgREifkK",
        "colab_type": "code",
        "colab": {}
      },
      "source": [
        "onto.save(file = \"out.owl\", format = \"ntriples\")\n",
        "!cat out.owl\n",
        "default_world.save()"
      ],
      "execution_count": 0,
      "outputs": []
    },
    {
      "cell_type": "code",
      "metadata": {
        "id": "yfTE6vBgifkN",
        "colab_type": "code",
        "colab": {}
      },
      "source": [
        "import rdflib\n",
        "graph = default_world.as_rdflib_graph()\n",
        "requete = \"\"\"\n",
        "prefix : <https://urlinvente/monontologie#> \n",
        "\n",
        "SELECT DISTINCT ?nom\n",
        "WHERE{\n",
        "?s rdf:type :Animal . \n",
        "?s :nomOfficiel ?nom\n",
        "}\n",
        "\"\"\"\n",
        "res = graph.query(requete)\n",
        "for i in res:\n",
        "    print(str(i[0]))"
      ],
      "execution_count": 0,
      "outputs": []
    },
    {
      "cell_type": "code",
      "metadata": {
        "id": "1wv8WlYhifkQ",
        "colab_type": "code",
        "colab": {}
      },
      "source": [
        "if Nothing in nonsense.equivalent_to:\n",
        "    print(\"nonsense is inconsistent!\")\n",
        "if Nothing in Animal.equivalent_to:\n",
        "    print(\"Animal is inconsistent!\")"
      ],
      "execution_count": 0,
      "outputs": []
    },
    {
      "cell_type": "code",
      "metadata": {
        "id": "ngStebHyifkT",
        "colab_type": "code",
        "colab": {}
      },
      "source": [
        ""
      ],
      "execution_count": 0,
      "outputs": []
    }
  ]
}