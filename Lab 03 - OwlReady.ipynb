{
  "nbformat": 4,
  "nbformat_minor": 0,
  "metadata": {
    "kernelspec": {
      "display_name": "PyCharm (RLLab2)",
      "language": "python",
      "name": "pycharm-fe7a6dad"
    },
    "language_info": {
      "codemirror_mode": {
        "name": "ipython",
        "version": 3
      },
      "file_extension": ".py",
      "mimetype": "text/x-python",
      "name": "python",
      "nbconvert_exporter": "python",
      "pygments_lexer": "ipython3",
      "version": "3.7.4"
    },
    "colab": {
      "name": "Lab 03 - OwlReady.ipynb",
      "provenance": [],
      "toc_visible": true,
      "include_colab_link": true
    }
  },
  "cells": [
    {
      "cell_type": "markdown",
      "metadata": {
        "id": "view-in-github",
        "colab_type": "text"
      },
      "source": [
        "<a href=\"https://colab.research.google.com/github/MoohShadox/Web_Semantique_Workshop/blob/master/Lab%2003%20-%20OwlReady.ipynb\" target=\"_parent\"><img src=\"https://colab.research.google.com/assets/colab-badge.svg\" alt=\"Open In Colab\"/></a>"
      ]
    },
    {
      "cell_type": "code",
      "metadata": {
        "id": "6TbKRiXsifi0",
        "colab_type": "code",
        "colab": {
          "base_uri": "https://localhost:8080/",
          "height": 289
        },
        "outputId": "eb8d4dc5-bc46-46d8-8d06-725eb057354b"
      },
      "source": [
        "!pip install owlready2\n",
        "from owlready2 import *\n",
        "!git clone https://github.com/MoohShadox/Web_Semantique_Workshop"
      ],
      "execution_count": 3,
      "outputs": [
        {
          "output_type": "stream",
          "text": [
            "Collecting owlready2\n",
            "\u001b[?25l  Downloading https://files.pythonhosted.org/packages/af/1c/7e4c25d5539ac8979d633afe03d16ddb01716c6cde97ebea33a6659ea9c6/Owlready2-0.24.tar.gz (20.8MB)\n",
            "\u001b[K     |████████████████████████████████| 20.8MB 1.3MB/s \n",
            "\u001b[?25hBuilding wheels for collected packages: owlready2\n",
            "  Building wheel for owlready2 (setup.py) ... \u001b[?25l\u001b[?25hdone\n",
            "  Created wheel for owlready2: filename=Owlready2-0.24-cp36-cp36m-linux_x86_64.whl size=20262998 sha256=1696d1a53accdd09cbfb3f82234b5a97737de12df025cd22b76fe1a4bc753dff\n",
            "  Stored in directory: /root/.cache/pip/wheels/66/87/0b/7a97bd19c9dc817b279aadb5dd920ce3a77050e2ab5a413f43\n",
            "Successfully built owlready2\n",
            "Installing collected packages: owlready2\n",
            "Successfully installed owlready2-0.24\n",
            "Cloning into 'Web_Semantique_Workshop'...\n",
            "remote: Enumerating objects: 97, done.\u001b[K\n",
            "remote: Counting objects: 100% (97/97), done.\u001b[K\n",
            "remote: Compressing objects: 100% (80/80), done.\u001b[K\n",
            "remote: Total 97 (delta 48), reused 50 (delta 15), pack-reused 0\u001b[K\n",
            "Unpacking objects: 100% (97/97), done.\n"
          ],
          "name": "stdout"
        }
      ]
    },
    {
      "cell_type": "code",
      "metadata": {
        "id": "WnBnlaCDUoo_",
        "colab_type": "code",
        "colab": {
          "base_uri": "https://localhost:8080/",
          "height": 187
        },
        "outputId": "8f7498c9-779c-4d32-b2f9-c17f154a1141"
      },
      "source": [
        "!pip install rdflib\n",
        "import rdflib"
      ],
      "execution_count": 4,
      "outputs": [
        {
          "output_type": "stream",
          "text": [
            "Collecting rdflib\n",
            "\u001b[?25l  Downloading https://files.pythonhosted.org/packages/d0/6b/6454aa1db753c0f8bc265a5bd5c10b5721a4bb24160fb4faf758cf6be8a1/rdflib-5.0.0-py3-none-any.whl (231kB)\n",
            "\r\u001b[K     |█▍                              | 10kB 5.1MB/s eta 0:00:01\r\u001b[K     |██▉                             | 20kB 3.6MB/s eta 0:00:01\r\u001b[K     |████▎                           | 30kB 4.8MB/s eta 0:00:01\r\u001b[K     |█████▊                          | 40kB 4.5MB/s eta 0:00:01\r\u001b[K     |███████                         | 51kB 5.4MB/s eta 0:00:01\r\u001b[K     |████████▌                       | 61kB 6.3MB/s eta 0:00:01\r\u001b[K     |██████████                      | 71kB 6.6MB/s eta 0:00:01\r\u001b[K     |███████████▍                    | 81kB 7.1MB/s eta 0:00:01\r\u001b[K     |████████████▊                   | 92kB 7.5MB/s eta 0:00:01\r\u001b[K     |██████████████▏                 | 102kB 7.9MB/s eta 0:00:01\r\u001b[K     |███████████████▋                | 112kB 7.9MB/s eta 0:00:01\r\u001b[K     |█████████████████               | 122kB 7.9MB/s eta 0:00:01\r\u001b[K     |██████████████████▍             | 133kB 7.9MB/s eta 0:00:01\r\u001b[K     |███████████████████▉            | 143kB 7.9MB/s eta 0:00:01\r\u001b[K     |█████████████████████▎          | 153kB 7.9MB/s eta 0:00:01\r\u001b[K     |██████████████████████▊         | 163kB 7.9MB/s eta 0:00:01\r\u001b[K     |████████████████████████        | 174kB 7.9MB/s eta 0:00:01\r\u001b[K     |█████████████████████████▌      | 184kB 7.9MB/s eta 0:00:01\r\u001b[K     |███████████████████████████     | 194kB 7.9MB/s eta 0:00:01\r\u001b[K     |████████████████████████████▍   | 204kB 7.9MB/s eta 0:00:01\r\u001b[K     |█████████████████████████████▉  | 215kB 7.9MB/s eta 0:00:01\r\u001b[K     |███████████████████████████████▏| 225kB 7.9MB/s eta 0:00:01\r\u001b[K     |████████████████████████████████| 235kB 7.9MB/s \n",
            "\u001b[?25hRequirement already satisfied: pyparsing in /usr/local/lib/python3.6/dist-packages (from rdflib) (2.4.7)\n",
            "Collecting isodate\n",
            "\u001b[?25l  Downloading https://files.pythonhosted.org/packages/9b/9f/b36f7774ff5ea8e428fdcfc4bb332c39ee5b9362ddd3d40d9516a55221b2/isodate-0.6.0-py2.py3-none-any.whl (45kB)\n",
            "\u001b[K     |████████████████████████████████| 51kB 6.9MB/s \n",
            "\u001b[?25hRequirement already satisfied: six in /usr/local/lib/python3.6/dist-packages (from rdflib) (1.12.0)\n",
            "Installing collected packages: isodate, rdflib\n",
            "Successfully installed isodate-0.6.0 rdflib-5.0.0\n"
          ],
          "name": "stdout"
        }
      ]
    },
    {
      "cell_type": "markdown",
      "metadata": {
        "id": "aLg8Knzzifi8",
        "colab_type": "text"
      },
      "source": [
        "# Lab 02 : OWLReady \n",
        "Dans ce lab nous allons étudier le fonctionnement de OWLReady et les possibilités que cette librairie offre, nous aborderons notamment les questions suivantes : \n",
        "- Manipuler des ontologies déja existantes\n",
        "- Comment enrichir une ontologie\n",
        "- Comment créer et ajouter des individus\n",
        "- Comment éditer des régles d'inférences \n",
        "- Comment exécuter le raisonneur et les différents raisonneurs qui existent (Hermit, Pellet etc..) \n",
        "- Comment voire ce que le raisonner a inféré et notamment comment vérifier qu'une classe est inconsistante.\n",
        "- Comment transformer une ontologie en graphe rdflib afin de pouvoir exécuter des requêtes SPARQL dessus."
      ]
    },
    {
      "cell_type": "markdown",
      "metadata": {
        "id": "ytcdtZ3Uifi8",
        "colab_type": "text"
      },
      "source": [
        "## 1- Récupérer et Manipuler des ontologies \n",
        "Avant toute chose il faut savoir que si les ontologies peuvent être sérialisées en un fichier .owl ce n'est pas la représentation la plus pratique pour stocker des grands volumes de données, ils serrons plûtot enregistrées dans des quadstore qui ont pour avantage d'être indexées.\n",
        "\n",
        "Cette première ligne servira donc a fixer le back end ce qui signifie trois chose : \n",
        "- Si le fichier existe déja la ligne va automatiquement récupérer les ontologies qui sont dessus\n",
        "- Si le fichier n'existe pas et que vous n'avez pas encore commencé la construction de l'ontologie, le fichier serra crée.\n",
        "- Si le fichier n'existe pas mais que vous avez déja commencé a construire l'ontologie (si vous avez exécuté le notebook puis que vous êtes remontés pour executer cette cellule par exemple) ça renverra une erreur."
      ]
    },
    {
      "cell_type": "code",
      "metadata": {
        "id": "qGBjYjwYifi9",
        "colab_type": "code",
        "colab": {}
      },
      "source": [
        "default_world.set_backend(filename = \"file_back3.sqlite3\", exclusive = False)"
      ],
      "execution_count": 5,
      "outputs": []
    },
    {
      "cell_type": "markdown",
      "metadata": {
        "id": "GW8KQQKkifjC",
        "colab_type": "text"
      },
      "source": [
        "Ensuite, il est possible de charger une ontologie a partir d'un fichier OWL sérialisé en RDF/XML, ce fichier peut provenir de l'exercice précédent qui génére une ontologie avec RDFLib ou directement de protégé.\n",
        "Dans cette application nous utiliserons une ontologie faite sur protégé."
      ]
    },
    {
      "cell_type": "code",
      "metadata": {
        "id": "WpcSCQeaifjC",
        "colab_type": "code",
        "colab": {
          "base_uri": "https://localhost:8080/",
          "height": 1000
        },
        "outputId": "b7004a8c-0236-4657-80b1-89eee1cf2dc8"
      },
      "source": [
        "onto = get_ontology(\"file:///content/Web_Semantique_Workshop/Amazone_Ontology.owl\").load()\n",
        "!cat /content/Web_Semantique_Workshop/Amazone_Ontology.owl"
      ],
      "execution_count": 6,
      "outputs": [
        {
          "output_type": "stream",
          "text": [
            "<?xml version=\"1.0\"?>\n",
            "<rdf:RDF xmlns=\"http://www.semanticweb.org/mohamed/ontologies/2020/3/Amazone_Ont#\"\n",
            "     xml:base=\"http://www.semanticweb.org/mohamed/ontologies/2020/3/Amazone_Ont\"\n",
            "     xmlns:owl=\"http://www.w3.org/2002/07/owl#\"\n",
            "     xmlns:rdf=\"http://www.w3.org/1999/02/22-rdf-syntax-ns#\"\n",
            "     xmlns:xml=\"http://www.w3.org/XML/1998/namespace\"\n",
            "     xmlns:xsd=\"http://www.w3.org/2001/XMLSchema#\"\n",
            "     xmlns:rdfs=\"http://www.w3.org/2000/01/rdf-schema#\">\n",
            "    <owl:Ontology rdf:about=\"http://www.semanticweb.org/mohamed/ontologies/2020/3/Amazone_Ont\"/>\n",
            "    \n",
            "\n",
            "\n",
            "    <!-- \n",
            "    ///////////////////////////////////////////////////////////////////////////////////////\n",
            "    //\n",
            "    // Object Properties\n",
            "    //\n",
            "    ///////////////////////////////////////////////////////////////////////////////////////\n",
            "     -->\n",
            "\n",
            "    \n",
            "\n",
            "\n",
            "    <!-- http://www.semanticweb.org/mohamed/ontologies/2020/3/Amazone_Ont#also_bought -->\n",
            "\n",
            "    <owl:ObjectProperty rdf:about=\"http://www.semanticweb.org/mohamed/ontologies/2020/3/Amazone_Ont#also_bought\"/>\n",
            "    \n",
            "\n",
            "\n",
            "    <!-- http://www.semanticweb.org/mohamed/ontologies/2020/3/Amazone_Ont#also_view -->\n",
            "\n",
            "    <owl:ObjectProperty rdf:about=\"http://www.semanticweb.org/mohamed/ontologies/2020/3/Amazone_Ont#also_view\"/>\n",
            "    \n",
            "\n",
            "\n",
            "    <!-- http://www.semanticweb.org/mohamed/ontologies/2020/3/Amazone_Ont#appartientCategory -->\n",
            "\n",
            "    <owl:ObjectProperty rdf:about=\"http://www.semanticweb.org/mohamed/ontologies/2020/3/Amazone_Ont#appartientCategory\">\n",
            "        <rdfs:domain rdf:resource=\"http://www.semanticweb.org/mohamed/ontologies/2020/3/Amazone_Ont#Article\"/>\n",
            "        <rdfs:range rdf:resource=\"http://www.semanticweb.org/mohamed/ontologies/2020/3/Amazone_Ont#Category\"/>\n",
            "    </owl:ObjectProperty>\n",
            "    \n",
            "\n",
            "\n",
            "    <!-- http://www.semanticweb.org/mohamed/ontologies/2020/3/Amazone_Ont#brandOf -->\n",
            "\n",
            "    <owl:ObjectProperty rdf:about=\"http://www.semanticweb.org/mohamed/ontologies/2020/3/Amazone_Ont#brandOf\">\n",
            "        <owl:inverseOf rdf:resource=\"http://www.semanticweb.org/mohamed/ontologies/2020/3/Amazone_Ont#hasBrand\"/>\n",
            "    </owl:ObjectProperty>\n",
            "    \n",
            "\n",
            "\n",
            "    <!-- http://www.semanticweb.org/mohamed/ontologies/2020/3/Amazone_Ont#contientArticle -->\n",
            "\n",
            "    <owl:ObjectProperty rdf:about=\"http://www.semanticweb.org/mohamed/ontologies/2020/3/Amazone_Ont#contientArticle\">\n",
            "        <owl:inverseOf rdf:resource=\"http://www.semanticweb.org/mohamed/ontologies/2020/3/Amazone_Ont#contientArticle\"/>\n",
            "    </owl:ObjectProperty>\n",
            "    \n",
            "\n",
            "\n",
            "    <!-- http://www.semanticweb.org/mohamed/ontologies/2020/3/Amazone_Ont#hasBrand -->\n",
            "\n",
            "    <owl:ObjectProperty rdf:about=\"http://www.semanticweb.org/mohamed/ontologies/2020/3/Amazone_Ont#hasBrand\">\n",
            "        <rdfs:domain rdf:resource=\"http://www.semanticweb.org/mohamed/ontologies/2020/3/Amazone_Ont#Article\"/>\n",
            "        <rdfs:range rdf:resource=\"http://www.semanticweb.org/mohamed/ontologies/2020/3/Amazone_Ont#Brands\"/>\n",
            "    </owl:ObjectProperty>\n",
            "    \n",
            "\n",
            "\n",
            "    <!-- \n",
            "    ///////////////////////////////////////////////////////////////////////////////////////\n",
            "    //\n",
            "    // Data properties\n",
            "    //\n",
            "    ///////////////////////////////////////////////////////////////////////////////////////\n",
            "     -->\n",
            "\n",
            "    \n",
            "\n",
            "\n",
            "    <!-- http://www.semanticweb.org/mohamed/ontologies/2020/3/Amazone_Ont#Description -->\n",
            "\n",
            "    <owl:DatatypeProperty rdf:about=\"http://www.semanticweb.org/mohamed/ontologies/2020/3/Amazone_Ont#Description\">\n",
            "        <rdfs:domain rdf:resource=\"http://www.semanticweb.org/mohamed/ontologies/2020/3/Amazone_Ont#Article\"/>\n",
            "        <rdfs:range rdf:resource=\"http://www.w3.org/2001/XMLSchema#string\"/>\n",
            "    </owl:DatatypeProperty>\n",
            "    \n",
            "\n",
            "\n",
            "    <!-- http://www.semanticweb.org/mohamed/ontologies/2020/3/Amazone_Ont#SalesRank -->\n",
            "\n",
            "    <owl:DatatypeProperty rdf:about=\"http://www.semanticweb.org/mohamed/ontologies/2020/3/Amazone_Ont#SalesRank\"/>\n",
            "    \n",
            "\n",
            "\n",
            "    <!-- http://www.semanticweb.org/mohamed/ontologies/2020/3/Amazone_Ont#Title -->\n",
            "\n",
            "    <owl:DatatypeProperty rdf:about=\"http://www.semanticweb.org/mohamed/ontologies/2020/3/Amazone_Ont#Title\"/>\n",
            "    \n",
            "\n",
            "\n",
            "    <!-- \n",
            "    ///////////////////////////////////////////////////////////////////////////////////////\n",
            "    //\n",
            "    // Classes\n",
            "    //\n",
            "    ///////////////////////////////////////////////////////////////////////////////////////\n",
            "     -->\n",
            "\n",
            "    \n",
            "\n",
            "\n",
            "    <!-- http://www.semanticweb.org/mohamed/ontologies/2020/3/Amazone_Ont#Article -->\n",
            "\n",
            "    <owl:Class rdf:about=\"http://www.semanticweb.org/mohamed/ontologies/2020/3/Amazone_Ont#Article\">\n",
            "        <rdfs:subClassOf>\n",
            "            <owl:Restriction>\n",
            "                <owl:onProperty rdf:resource=\"http://www.semanticweb.org/mohamed/ontologies/2020/3/Amazone_Ont#appartientCategory\"/>\n",
            "                <owl:someValuesFrom rdf:resource=\"http://www.semanticweb.org/mohamed/ontologies/2020/3/Amazone_Ont#Main_Category\"/>\n",
            "            </owl:Restriction>\n",
            "        </rdfs:subClassOf>\n",
            "    </owl:Class>\n",
            "    \n",
            "\n",
            "\n",
            "    <!-- http://www.semanticweb.org/mohamed/ontologies/2020/3/Amazone_Ont#Brands -->\n",
            "\n",
            "    <owl:Class rdf:about=\"http://www.semanticweb.org/mohamed/ontologies/2020/3/Amazone_Ont#Brands\"/>\n",
            "    \n",
            "\n",
            "\n",
            "    <!-- http://www.semanticweb.org/mohamed/ontologies/2020/3/Amazone_Ont#Category -->\n",
            "\n",
            "    <owl:Class rdf:about=\"http://www.semanticweb.org/mohamed/ontologies/2020/3/Amazone_Ont#Category\"/>\n",
            "    \n",
            "\n",
            "\n",
            "    <!-- http://www.semanticweb.org/mohamed/ontologies/2020/3/Amazone_Ont#Main_Category -->\n",
            "\n",
            "    <owl:Class rdf:about=\"http://www.semanticweb.org/mohamed/ontologies/2020/3/Amazone_Ont#Main_Category\">\n",
            "        <rdfs:subClassOf rdf:resource=\"http://www.semanticweb.org/mohamed/ontologies/2020/3/Amazone_Ont#Category\"/>\n",
            "        <owl:disjointWith rdf:resource=\"http://www.semanticweb.org/mohamed/ontologies/2020/3/Amazone_Ont#Other_Categories\"/>\n",
            "    </owl:Class>\n",
            "    \n",
            "\n",
            "\n",
            "    <!-- http://www.semanticweb.org/mohamed/ontologies/2020/3/Amazone_Ont#Other_Categories -->\n",
            "\n",
            "    <owl:Class rdf:about=\"http://www.semanticweb.org/mohamed/ontologies/2020/3/Amazone_Ont#Other_Categories\">\n",
            "        <rdfs:subClassOf rdf:resource=\"http://www.semanticweb.org/mohamed/ontologies/2020/3/Amazone_Ont#Category\"/>\n",
            "    </owl:Class>\n",
            "</rdf:RDF>\n",
            "\n",
            "\n",
            "\n",
            "<!-- Generated by the OWL API (version 4.5.9.2019-02-01T07:24:44Z) https://github.com/owlcs/owlapi -->\n",
            "\n"
          ],
          "name": "stdout"
        }
      ]
    },
    {
      "cell_type": "markdown",
      "metadata": {
        "id": "xRWLT0bUifjG",
        "colab_type": "text"
      },
      "source": [
        "Maintenant que nous avons récupéré notre ontologie voici quelques exemples de méthodes permettant de l'explorer : "
      ]
    },
    {
      "cell_type": "code",
      "metadata": {
        "id": "hQX-ZHOKifjH",
        "colab_type": "code",
        "colab": {
          "base_uri": "https://localhost:8080/",
          "height": 102
        },
        "outputId": "4f49652b-9d95-4d0d-f6b3-74b1e71f05f4"
      },
      "source": [
        "#Afficher les classes : \n",
        "for i in onto.classes():\n",
        "    print(i)"
      ],
      "execution_count": 7,
      "outputs": [
        {
          "output_type": "stream",
          "text": [
            "Amazone_Ontology.Article\n",
            "Amazone_Ontology.Category\n",
            "Amazone_Ontology.Brands\n",
            "Amazone_Ontology.Main_Category\n",
            "Amazone_Ontology.Other_Categories\n"
          ],
          "name": "stdout"
        }
      ]
    },
    {
      "cell_type": "code",
      "metadata": {
        "id": "BPhP2FRVifjK",
        "colab_type": "code",
        "colab": {
          "base_uri": "https://localhost:8080/",
          "height": 119
        },
        "outputId": "c9b240fe-0299-4d31-ce7b-011824543041"
      },
      "source": [
        "#Afficher les propriétés : \n",
        "for i in onto.object_properties():\n",
        "    print(i)"
      ],
      "execution_count": 8,
      "outputs": [
        {
          "output_type": "stream",
          "text": [
            "Amazone_Ontology.also_bought\n",
            "Amazone_Ontology.also_view\n",
            "Amazone_Ontology.appartientCategory\n",
            "Amazone_Ontology.brandOf\n",
            "Amazone_Ontology.hasBrand\n",
            "Amazone_Ontology.contientArticle\n"
          ],
          "name": "stdout"
        }
      ]
    },
    {
      "cell_type": "code",
      "metadata": {
        "id": "FGMIQsazifjO",
        "colab_type": "code",
        "colab": {}
      },
      "source": [
        "for i in onto.individuals():\n",
        "    print(i)"
      ],
      "execution_count": 9,
      "outputs": []
    },
    {
      "cell_type": "markdown",
      "metadata": {
        "id": "ii_UyKECifjS",
        "colab_type": "text"
      },
      "source": [
        "Nous remarquons que l'ontologie ne contient pas d'individus mais nous allons y remédier dans la prochaine partie."
      ]
    },
    {
      "cell_type": "markdown",
      "metadata": {
        "id": "zFbeWZ-WifjS",
        "colab_type": "text"
      },
      "source": [
        "## 2- Créer des individus\n",
        "Pour accéder aux classes présentes dans l'ontologie nous pouvons utiliser le générateur de classes qu'on transformera en liste pour l'occasion."
      ]
    },
    {
      "cell_type": "code",
      "metadata": {
        "id": "dTFAIb4RifjT",
        "colab_type": "code",
        "colab": {}
      },
      "source": [
        "class_article = list(onto.classes())[0]\n",
        "A = class_article()"
      ],
      "execution_count": 10,
      "outputs": []
    },
    {
      "cell_type": "code",
      "metadata": {
        "id": "l1wqLYOeifjW",
        "colab_type": "code",
        "colab": {
          "base_uri": "https://localhost:8080/",
          "height": 34
        },
        "outputId": "5520173f-d0d5-483b-d50e-26b286ca9594"
      },
      "source": [
        "for i in onto.individuals():\n",
        "    print(i)"
      ],
      "execution_count": 11,
      "outputs": [
        {
          "output_type": "stream",
          "text": [
            "Amazone_Ontology.article1\n"
          ],
          "name": "stdout"
        }
      ]
    },
    {
      "cell_type": "markdown",
      "metadata": {
        "id": "lTZvJrkAbJUb",
        "colab_type": "text"
      },
      "source": [
        "On peut renommer nos individus sachant que par défaut leur display "
      ]
    },
    {
      "cell_type": "code",
      "metadata": {
        "id": "5T91cyT5avnP",
        "colab_type": "code",
        "colab": {
          "base_uri": "https://localhost:8080/",
          "height": 34
        },
        "outputId": "50f609e9-7b68-4036-c2e1-356e30a81fa0"
      },
      "source": [
        "mon_iri = \"http://www.semanticweb.org/mohamed/ontologies/2020/3/Amazone_Ont#11122002\"\n",
        "I = list(onto.individuals())[0]\n",
        "I.iri = mon_iri\n",
        "for i in onto.individuals():\n",
        "    print(i)"
      ],
      "execution_count": 12,
      "outputs": [
        {
          "output_type": "stream",
          "text": [
            "Amazone_Ontology.11122002\n"
          ],
          "name": "stdout"
        }
      ]
    },
    {
      "cell_type": "code",
      "metadata": {
        "id": "rxOxMGD9ceb7",
        "colab_type": "code",
        "colab": {
          "base_uri": "https://localhost:8080/",
          "height": 34
        },
        "outputId": "dce957ea-a4d3-4007-9125-8b3224fa1142"
      },
      "source": [
        "for i in onto.individuals():\n",
        "    print(i.namespace, \" \", i.name)"
      ],
      "execution_count": 13,
      "outputs": [
        {
          "output_type": "stream",
          "text": [
            "get_ontology(\"http://www.semanticweb.org/mohamed/ontologies/2020/3/Amazone_Ont#\")   11122002\n"
          ],
          "name": "stdout"
        }
      ]
    },
    {
      "cell_type": "markdown",
      "metadata": {
        "id": "tMuKFnbCbHdp",
        "colab_type": "text"
      },
      "source": [
        ""
      ]
    },
    {
      "cell_type": "code",
      "metadata": {
        "id": "ADpFq-MPlkQn",
        "colab_type": "code",
        "colab": {
          "base_uri": "https://localhost:8080/",
          "height": 34
        },
        "outputId": "7b3f6be8-0da0-48b6-e774-0921cf9d8b29"
      },
      "source": [
        "L = onto.search(type = class_article)\n",
        "print(L)"
      ],
      "execution_count": 14,
      "outputs": [
        {
          "output_type": "stream",
          "text": [
            "[Amazone_Ontology.11122002]\n"
          ],
          "name": "stdout"
        }
      ]
    },
    {
      "cell_type": "markdown",
      "metadata": {
        "id": "fHRRA8YbifjZ",
        "colab_type": "text"
      },
      "source": [
        "Et cette fois ci on remarquera qu'on a bien un individu qui c'est crée, réexecutais plusieurs fois la première cellule vous pourrez constater que l'instruction crée bien un individu."
      ]
    },
    {
      "cell_type": "code",
      "metadata": {
        "id": "epC-jlpcifja",
        "colab_type": "code",
        "colab": {}
      },
      "source": [
        "relation_alsobought = list(onto.object_properties())[0]"
      ],
      "execution_count": 15,
      "outputs": []
    },
    {
      "cell_type": "code",
      "metadata": {
        "id": "eGnWAETAifjd",
        "colab_type": "code",
        "colab": {
          "base_uri": "https://localhost:8080/",
          "height": 34
        },
        "outputId": "b2b808a3-5636-42f4-e573-bf1ea9f1251d"
      },
      "source": [
        "relation_alsobought"
      ],
      "execution_count": 16,
      "outputs": [
        {
          "output_type": "execute_result",
          "data": {
            "text/plain": [
              "Amazone_Ontology.also_bought"
            ]
          },
          "metadata": {
            "tags": []
          },
          "execution_count": 16
        }
      ]
    },
    {
      "cell_type": "markdown",
      "metadata": {
        "id": "qCDEKYx-ifjg",
        "colab_type": "text"
      },
      "source": [
        "Cependant notre petite astuce ne permet pas de créer des relations directement, il faudra associer a notre objet relation un \"python_name\" qui servira a l'appeler comme une propriété de classe."
      ]
    },
    {
      "cell_type": "code",
      "metadata": {
        "id": "kvbRft_ndgbn",
        "colab_type": "code",
        "colab": {
          "base_uri": "https://localhost:8080/",
          "height": 34
        },
        "outputId": "c1db42a4-fc20-4dbc-ccf4-fb2b1f9eb9af"
      },
      "source": [
        "relation_alsobought.python_name = \"also_bought\"\n",
        "A = class_article()\n",
        "A.also_bought = [A]\n",
        "print(A.also_bought)"
      ],
      "execution_count": 17,
      "outputs": [
        {
          "output_type": "stream",
          "text": [
            "[Amazone_Ontology.article2]\n"
          ],
          "name": "stdout"
        }
      ]
    },
    {
      "cell_type": "markdown",
      "metadata": {
        "id": "NuiXYN6iifjh",
        "colab_type": "text"
      },
      "source": [
        "## 3- Enrichir une ontologie \n",
        "Cette fois ci, nous allons essayer de reconstruire une nouvelle ontologie de zéro en utilisant owlready. \n",
        "Ce qui est intéressant avec cette façon de faire c'est que nous allons créer des classes Python en même temps que les classes représentant les concepts correspondant dans l'ontologie."
      ]
    },
    {
      "cell_type": "code",
      "metadata": {
        "id": "bvxUnfPEifjh",
        "colab_type": "code",
        "colab": {}
      },
      "source": [
        "#On crée une nouvelle ontologie \n",
        "onto = get_ontology(\"https://urlinvente/monontologie\")\n",
        "\n",
        "with onto:\n",
        "    \n",
        "    #On crée une classe Animal et une classe Plante qui héritent toutes deux de Thing\n",
        "    #On peut même créer des méthodes dans les classes comme en orienté objet\n",
        "    class Animal(Thing):\n",
        "        def presente_toi(self):\n",
        "            print(\"je suis un animal !\")\n",
        "        \n",
        "    class Plante(Thing):\n",
        "        pass\n",
        "    \n",
        "    #On précise que les deux classe sont disjointes\n",
        "    AllDisjoint([Animal, Plante])\n",
        "    \n",
        "    #On crée une propriété qui va avoir comme domain Animal et comme range Thing\n",
        "    class mange(Animal >> Thing):\n",
        "        pass\n",
        "    \n",
        "    class nemangepas(Animal >> Animal):\n",
        "        pass\n",
        "    \n",
        "    \"\"\"On crée une dataproperty cette fois sans utiliser la notation abrégée ce qui nous permet d'hériter a la fois\n",
        "    de DataProperty mais également de FunctionalProperty qui permet donc de préciser que chaque animal a un un nom\n",
        "    unique\n",
        "    \"\"\"\n",
        "    class nomOfficiel(DataProperty, FunctionalProperty):\n",
        "        domain = [Animal]\n",
        "        range = [str]\n",
        "        \n",
        "    \"\"\"\n",
        "    Maintenant on va créer une ou deux classes par equivalence\n",
        "    \"\"\"\n",
        "    class carnivore(Thing):\n",
        "        equivalent_to = [Animal & mange.some(Animal)]\n",
        "        def presente_toi(self):\n",
        "            print(\"je suis un carnivore !\")\n",
        "            \n",
        "            \n",
        "    class herbivore(Thing):\n",
        "        equivalent_to = [Animal & mange.only(Plante)]\n",
        "        def presente_toi(self):\n",
        "            print(\"je suis un herbivore !\")\n",
        "        \n",
        "    class nonsense(Thing):\n",
        "        equivalent_to = [Animal & Plante]\n",
        "\n",
        "    class GrandMangeur(Thing):\n",
        "      equivalent_to = [Animal & mange.min(3,Animal)]\n",
        "      def presente_toi(self):\n",
        "          print(\"j'ai encore faim !\")\n"
      ],
      "execution_count": 36,
      "outputs": []
    },
    {
      "cell_type": "markdown",
      "metadata": {
        "id": "MYRw6hEBifjk",
        "colab_type": "text"
      },
      "source": [
        "A présent on peut commencer a créer nos individus et ensuite nous pourrons les manipuler en leur ajoutant des relations."
      ]
    },
    {
      "cell_type": "code",
      "metadata": {
        "id": "dRh-tpo5ifjl",
        "colab_type": "code",
        "colab": {}
      },
      "source": [
        "Lion = Animal()\n",
        "Arbre = Plante()\n",
        "Tigre = carnivore()\n",
        "Brebis = Animal()"
      ],
      "execution_count": 19,
      "outputs": []
    },
    {
      "cell_type": "code",
      "metadata": {
        "id": "9iC1X23bifjq",
        "colab_type": "code",
        "colab": {}
      },
      "source": [
        "Brebis.mange = [Arbre]\n",
        "Lion.mange = [Brebis]\n",
        "Lion.nomOfficiel = \"Lion\"\n",
        "Tigre.nomOfficiel = \"Tigre\"\n",
        "Brebis.nomOfficiel = \"Brebis\""
      ],
      "execution_count": 20,
      "outputs": []
    },
    {
      "cell_type": "code",
      "metadata": {
        "id": "ytwdlqC-ifjv",
        "colab_type": "code",
        "colab": {
          "base_uri": "https://localhost:8080/",
          "height": 1000
        },
        "outputId": "14868499-7846-44fe-ffb8-58dc02306614"
      },
      "source": [
        "onto.save(file = \"out.owl\", format = \"ntriples\")\n",
        "!cat out.owl"
      ],
      "execution_count": 21,
      "outputs": [
        {
          "output_type": "stream",
          "text": [
            "<https://urlinvente/monontologie> <http://www.w3.org/1999/02/22-rdf-syntax-ns#type> <http://www.w3.org/2002/07/owl#Ontology> .\n",
            "<https://urlinvente/monontologie#Animal> <http://www.w3.org/1999/02/22-rdf-syntax-ns#type> <http://www.w3.org/2002/07/owl#Class> .\n",
            "<https://urlinvente/monontologie#Animal> <http://www.w3.org/2000/01/rdf-schema#subClassOf> <http://www.w3.org/2002/07/owl#Thing> .\n",
            "<https://urlinvente/monontologie#Plante> <http://www.w3.org/1999/02/22-rdf-syntax-ns#type> <http://www.w3.org/2002/07/owl#Class> .\n",
            "<https://urlinvente/monontologie#Plante> <http://www.w3.org/2000/01/rdf-schema#subClassOf> <http://www.w3.org/2002/07/owl#Thing> .\n",
            "<https://urlinvente/monontologie#Animal> <http://www.w3.org/2002/07/owl#disjointWith> <https://urlinvente/monontologie#Plante> .\n",
            "<https://urlinvente/monontologie#mange> <http://www.w3.org/1999/02/22-rdf-syntax-ns#type> <http://www.w3.org/2002/07/owl#ObjectProperty> .\n",
            "<https://urlinvente/monontologie#mange> <http://www.w3.org/2000/01/rdf-schema#domain> <https://urlinvente/monontologie#Animal> .\n",
            "<https://urlinvente/monontologie#mange> <http://www.w3.org/2000/01/rdf-schema#range> <http://www.w3.org/2002/07/owl#Thing> .\n",
            "<https://urlinvente/monontologie#nemangepas> <http://www.w3.org/1999/02/22-rdf-syntax-ns#type> <http://www.w3.org/2002/07/owl#ObjectProperty> .\n",
            "<https://urlinvente/monontologie#nemangepas> <http://www.w3.org/2000/01/rdf-schema#domain> <https://urlinvente/monontologie#Animal> .\n",
            "<https://urlinvente/monontologie#nemangepas> <http://www.w3.org/2000/01/rdf-schema#range> <https://urlinvente/monontologie#Animal> .\n",
            "<https://urlinvente/monontologie#nomOfficiel> <http://www.w3.org/1999/02/22-rdf-syntax-ns#type> <http://www.w3.org/2002/07/owl#DatatypeProperty> .\n",
            "<https://urlinvente/monontologie#nomOfficiel> <http://www.w3.org/1999/02/22-rdf-syntax-ns#type> <http://www.w3.org/2002/07/owl#FunctionalProperty> .\n",
            "<https://urlinvente/monontologie#nomOfficiel> <http://www.w3.org/2000/01/rdf-schema#domain> <https://urlinvente/monontologie#Animal> .\n",
            "<https://urlinvente/monontologie#nomOfficiel> <http://www.w3.org/2000/01/rdf-schema#range> <http://www.w3.org/2001/XMLSchema#string> .\n",
            "<https://urlinvente/monontologie#carnivore> <http://www.w3.org/1999/02/22-rdf-syntax-ns#type> <http://www.w3.org/2002/07/owl#Class> .\n",
            "<https://urlinvente/monontologie#carnivore> <http://www.w3.org/2000/01/rdf-schema#subClassOf> <http://www.w3.org/2002/07/owl#Thing> .\n",
            "_:3 <http://www.w3.org/1999/02/22-rdf-syntax-ns#type> <http://www.w3.org/2002/07/owl#Restriction> .\n",
            "_:3 <http://www.w3.org/2002/07/owl#onProperty> <https://urlinvente/monontologie#mange> .\n",
            "_:3 <http://www.w3.org/2002/07/owl#someValuesFrom> <https://urlinvente/monontologie#Animal> .\n",
            "_:4 <http://www.w3.org/1999/02/22-rdf-syntax-ns#type> <http://www.w3.org/2002/07/owl#Class> .\n",
            "_:4 <http://www.w3.org/2002/07/owl#intersectionOf> _:2 .\n",
            "_:2 <http://www.w3.org/1999/02/22-rdf-syntax-ns#first> <https://urlinvente/monontologie#Animal> .\n",
            "_:2 <http://www.w3.org/1999/02/22-rdf-syntax-ns#rest> _:5 .\n",
            "_:5 <http://www.w3.org/1999/02/22-rdf-syntax-ns#first> _:3 .\n",
            "_:5 <http://www.w3.org/1999/02/22-rdf-syntax-ns#rest> <http://www.w3.org/1999/02/22-rdf-syntax-ns#nil> .\n",
            "<https://urlinvente/monontologie#carnivore> <http://www.w3.org/2002/07/owl#equivalentClass> _:4 .\n",
            "<https://urlinvente/monontologie#herbivore> <http://www.w3.org/1999/02/22-rdf-syntax-ns#type> <http://www.w3.org/2002/07/owl#Class> .\n",
            "<https://urlinvente/monontologie#herbivore> <http://www.w3.org/2000/01/rdf-schema#subClassOf> <http://www.w3.org/2002/07/owl#Thing> .\n",
            "_:7 <http://www.w3.org/1999/02/22-rdf-syntax-ns#type> <http://www.w3.org/2002/07/owl#Restriction> .\n",
            "_:7 <http://www.w3.org/2002/07/owl#onProperty> <https://urlinvente/monontologie#mange> .\n",
            "_:7 <http://www.w3.org/2002/07/owl#allValuesFrom> <https://urlinvente/monontologie#Plante> .\n",
            "_:8 <http://www.w3.org/1999/02/22-rdf-syntax-ns#type> <http://www.w3.org/2002/07/owl#Class> .\n",
            "_:8 <http://www.w3.org/2002/07/owl#intersectionOf> _:6 .\n",
            "_:6 <http://www.w3.org/1999/02/22-rdf-syntax-ns#first> <https://urlinvente/monontologie#Animal> .\n",
            "_:6 <http://www.w3.org/1999/02/22-rdf-syntax-ns#rest> _:9 .\n",
            "_:9 <http://www.w3.org/1999/02/22-rdf-syntax-ns#first> _:7 .\n",
            "_:9 <http://www.w3.org/1999/02/22-rdf-syntax-ns#rest> <http://www.w3.org/1999/02/22-rdf-syntax-ns#nil> .\n",
            "<https://urlinvente/monontologie#herbivore> <http://www.w3.org/2002/07/owl#equivalentClass> _:8 .\n",
            "<https://urlinvente/monontologie#nonsense> <http://www.w3.org/1999/02/22-rdf-syntax-ns#type> <http://www.w3.org/2002/07/owl#Class> .\n",
            "<https://urlinvente/monontologie#nonsense> <http://www.w3.org/2000/01/rdf-schema#subClassOf> <http://www.w3.org/2002/07/owl#Thing> .\n",
            "_:11 <http://www.w3.org/1999/02/22-rdf-syntax-ns#type> <http://www.w3.org/2002/07/owl#Class> .\n",
            "_:11 <http://www.w3.org/2002/07/owl#intersectionOf> _:10 .\n",
            "_:10 <http://www.w3.org/1999/02/22-rdf-syntax-ns#first> <https://urlinvente/monontologie#Animal> .\n",
            "_:10 <http://www.w3.org/1999/02/22-rdf-syntax-ns#rest> _:12 .\n",
            "_:12 <http://www.w3.org/1999/02/22-rdf-syntax-ns#first> <https://urlinvente/monontologie#Plante> .\n",
            "_:12 <http://www.w3.org/1999/02/22-rdf-syntax-ns#rest> <http://www.w3.org/1999/02/22-rdf-syntax-ns#nil> .\n",
            "<https://urlinvente/monontologie#nonsense> <http://www.w3.org/2002/07/owl#equivalentClass> _:11 .\n",
            "<https://urlinvente/monontologie#animal1> <http://www.w3.org/1999/02/22-rdf-syntax-ns#type> <http://www.w3.org/2002/07/owl#NamedIndividual> .\n",
            "<https://urlinvente/monontologie#animal1> <http://www.w3.org/1999/02/22-rdf-syntax-ns#type> <https://urlinvente/monontologie#Animal> .\n",
            "<https://urlinvente/monontologie#plante1> <http://www.w3.org/1999/02/22-rdf-syntax-ns#type> <http://www.w3.org/2002/07/owl#NamedIndividual> .\n",
            "<https://urlinvente/monontologie#plante1> <http://www.w3.org/1999/02/22-rdf-syntax-ns#type> <https://urlinvente/monontologie#Plante> .\n",
            "<https://urlinvente/monontologie#carnivore1> <http://www.w3.org/1999/02/22-rdf-syntax-ns#type> <http://www.w3.org/2002/07/owl#NamedIndividual> .\n",
            "<https://urlinvente/monontologie#carnivore1> <http://www.w3.org/1999/02/22-rdf-syntax-ns#type> <https://urlinvente/monontologie#carnivore> .\n",
            "<https://urlinvente/monontologie#animal2> <http://www.w3.org/1999/02/22-rdf-syntax-ns#type> <http://www.w3.org/2002/07/owl#NamedIndividual> .\n",
            "<https://urlinvente/monontologie#animal2> <http://www.w3.org/1999/02/22-rdf-syntax-ns#type> <https://urlinvente/monontologie#Animal> .\n",
            "<https://urlinvente/monontologie#animal2> <https://urlinvente/monontologie#mange> <https://urlinvente/monontologie#plante1> .\n",
            "<https://urlinvente/monontologie#animal1> <https://urlinvente/monontologie#mange> <https://urlinvente/monontologie#animal2> .\n",
            "<https://urlinvente/monontologie#animal1> <https://urlinvente/monontologie#nomOfficiel> \"Lion\"^^<http://www.w3.org/2001/XMLSchema#string> .\n",
            "<https://urlinvente/monontologie#carnivore1> <https://urlinvente/monontologie#nomOfficiel> \"Tigre\"^^<http://www.w3.org/2001/XMLSchema#string> .\n",
            "<https://urlinvente/monontologie#animal2> <https://urlinvente/monontologie#nomOfficiel> \"Brebis\"^^<http://www.w3.org/2001/XMLSchema#string> .\n"
          ],
          "name": "stdout"
        }
      ]
    },
    {
      "cell_type": "markdown",
      "metadata": {
        "id": "qBQMdKIsifjz",
        "colab_type": "text"
      },
      "source": [
        "## 4-Inférence et raisonnement \n",
        "A présent voyons comment nous pouvons ajouter des régles d'inférences afin d'inférer des nouvelles connaissances a partir des connaissances existantes "
      ]
    },
    {
      "cell_type": "code",
      "metadata": {
        "id": "pu_-26fWifj0",
        "colab_type": "code",
        "colab": {}
      },
      "source": [
        "with onto:\n",
        "    rule = Imp()\n",
        "    rule.set_as_rule(\"\"\"carnivore(?a1), carnivore(?a2) -> nemangepas(?a1, ?a2)\"\"\")"
      ],
      "execution_count": 22,
      "outputs": []
    },
    {
      "cell_type": "code",
      "metadata": {
        "id": "EjDmuwsYifj3",
        "colab_type": "code",
        "colab": {
          "base_uri": "https://localhost:8080/",
          "height": 68
        },
        "outputId": "39f1f9d5-7b31-4290-8d9f-f3ab7d2f4d73"
      },
      "source": [
        "\"\"\"\n",
        "On execute les méthodes ici avant le raisonneur\n",
        "\"\"\"\n",
        "Lion.presente_toi()\n",
        "Tigre.presente_toi()\n",
        "Brebis.presente_toi()"
      ],
      "execution_count": 23,
      "outputs": [
        {
          "output_type": "stream",
          "text": [
            "je suis un animal !\n",
            "je suis un carnivore !\n",
            "je suis un animal !\n"
          ],
          "name": "stdout"
        }
      ]
    },
    {
      "cell_type": "code",
      "metadata": {
        "id": "1HFvJpfwifkB",
        "colab_type": "code",
        "colab": {
          "base_uri": "https://localhost:8080/",
          "height": 241
        },
        "outputId": "e312a5c6-abab-49fa-a2c4-d1acc19b1b7e"
      },
      "source": [
        "with onto:\n",
        "    sync_reasoner(infer_property_values = True)"
      ],
      "execution_count": 24,
      "outputs": [
        {
          "output_type": "stream",
          "text": [
            "* Owlready2 * Running HermiT...\n",
            "    java -Xmx2000M -cp /usr/local/lib/python3.6/dist-packages/owlready2/hermit:/usr/local/lib/python3.6/dist-packages/owlready2/hermit/HermiT.jar org.semanticweb.HermiT.cli.CommandLine -c -O -D -I file:////tmp/tmpqzoel77v -Y\n"
          ],
          "name": "stderr"
        },
        {
          "output_type": "stream",
          "text": [
            "* Owlready * Adding relation monontologie.carnivore1 nemangepas monontologie.carnivore1\n",
            "* Owlready * Adding relation monontologie.carnivore1 nemangepas monontologie.animal1\n",
            "* Owlready * Adding relation monontologie.animal1 nemangepas monontologie.carnivore1\n",
            "* Owlready * Adding relation monontologie.animal1 nemangepas monontologie.animal1\n"
          ],
          "name": "stdout"
        },
        {
          "output_type": "stream",
          "text": [
            "* Owlready2 * HermiT took 1.7357535362243652 seconds\n",
            "* Owlready * Equivalenting: monontologie.nonsense owl.Nothing\n",
            "* Owlready * Reparenting monontologie.herbivore: {owl.Thing} => {monontologie.Animal}\n",
            "* Owlready * Reparenting monontologie.carnivore: {owl.Thing} => {monontologie.Animal}\n",
            "* Owlready * Reparenting monontologie.animal1: {monontologie.Animal} => {monontologie.carnivore}\n",
            "* Owlready * (NB: only changes on entities loaded in Python are shown, other changes are done but not listed)\n"
          ],
          "name": "stderr"
        }
      ]
    },
    {
      "cell_type": "code",
      "metadata": {
        "id": "u9br4DGwifkE",
        "colab_type": "code",
        "colab": {
          "base_uri": "https://localhost:8080/",
          "height": 68
        },
        "outputId": "f6feef25-7c27-4989-d02c-c0c4c17d9e37"
      },
      "source": [
        "\"\"\"\n",
        "Voyons voire si les changement de classes affectent l'execution des méthodes\n",
        "\"\"\"\n",
        "Lion.presente_toi()\n",
        "Tigre.presente_toi()\n",
        "Brebis.presente_toi()"
      ],
      "execution_count": 25,
      "outputs": [
        {
          "output_type": "stream",
          "text": [
            "je suis un carnivore !\n",
            "je suis un carnivore !\n",
            "je suis un animal !\n"
          ],
          "name": "stdout"
        }
      ]
    },
    {
      "cell_type": "code",
      "metadata": {
        "id": "dnH04Nu5ifkH",
        "colab_type": "code",
        "colab": {}
      },
      "source": [
        "with onto:\n",
        "    sync_reasoner_pellet(infer_property_values = True)"
      ],
      "execution_count": null,
      "outputs": []
    },
    {
      "cell_type": "code",
      "metadata": {
        "id": "T6u7rgREifkK",
        "colab_type": "code",
        "colab": {}
      },
      "source": [
        "onto.save(file = \"out.owl\", format = \"ntriples\")\n",
        "!cat out.owl\n",
        "default_world.save()"
      ],
      "execution_count": null,
      "outputs": []
    },
    {
      "cell_type": "code",
      "metadata": {
        "id": "yfTE6vBgifkN",
        "colab_type": "code",
        "colab": {}
      },
      "source": [
        "import rdflib\n",
        "graph = default_world.as_rdflib_graph()\n",
        "requete = \"\"\"\n",
        "prefix : <https://urlinvente/monontologie#> \n",
        "\n",
        "SELECT DISTINCT ?nom\n",
        "WHERE{\n",
        "?s rdf:type :Animal . \n",
        "?s :nomOfficiel ?nom\n",
        "}\n",
        "\"\"\"\n",
        "res = graph.query(requete)\n",
        "for i in res:\n",
        "    print(str(i[0]))"
      ],
      "execution_count": null,
      "outputs": []
    },
    {
      "cell_type": "code",
      "metadata": {
        "id": "1wv8WlYhifkQ",
        "colab_type": "code",
        "colab": {}
      },
      "source": [
        "if Nothing in nonsense.equivalent_to:\n",
        "    print(\"nonsense is inconsistent!\")\n",
        "if Nothing in Animal.equivalent_to:\n",
        "    print(\"Animal is inconsistent!\")"
      ],
      "execution_count": null,
      "outputs": []
    },
    {
      "cell_type": "markdown",
      "metadata": {
        "id": "OS_fU_b0uLMD",
        "colab_type": "text"
      },
      "source": [
        "## Update du 23/06/2020 : \n",
        "Aprés une remarque de plusieurs étudiants, j'ai ajouté cette section qui explique deux trois implications de l'hypothèse du monde ouvert qui ne sont pas forcément évidente a voire de prime abord et sur lesquelles j'ai du investiger.\n",
        "\n",
        "### Rappel : L'hypothèse du monde ouvert\n",
        "L'hypothèse du monde ouvert est une hypothèse selon laquelle le fait de ne pas affirmer quelque chose ne veut pas dire qu'il est faux. et cela va impacter le travail du raisonneur car il considére par défaut cette hypothèse. "
      ]
    },
    {
      "cell_type": "markdown",
      "metadata": {
        "id": "xS6UHcnjvSCT",
        "colab_type": "text"
      },
      "source": [
        "### Premier exemple : Restriction de type min\n",
        "Le premier exemple que je vais donner sur comment le raisonneur peut donner quelque chose d'innatendu concerne les restrictions de type min.\n",
        "Si vous regardez l'onotologie vous verrez que j'ai défini une classe grand mangeur par le fait qu'elle mange plus de 3 animaux."
      ]
    },
    {
      "cell_type": "code",
      "metadata": {
        "id": "ngStebHyifkT",
        "colab_type": "code",
        "colab": {
          "base_uri": "https://localhost:8080/",
          "height": 224
        },
        "outputId": "bc5b9ead-a5ba-41c0-bbed-89e948c6e5ce"
      },
      "source": [
        "with onto:\n",
        "    sync_reasoner_pellet(infer_property_values = True)\n",
        "Lion.presente_toi()\n",
        "Tigre.presente_toi()\n",
        "Brebis.presente_toi()"
      ],
      "execution_count": 29,
      "outputs": [
        {
          "output_type": "stream",
          "text": [
            "* Owlready2 * Running Pellet...\n",
            "    java -Xmx2000M -cp /usr/local/lib/python3.6/dist-packages/owlready2/pellet/jena-core-2.10.0.jar:/usr/local/lib/python3.6/dist-packages/owlready2/pellet/log4j-1.2.16.jar:/usr/local/lib/python3.6/dist-packages/owlready2/pellet/jcl-over-slf4j-1.6.4.jar:/usr/local/lib/python3.6/dist-packages/owlready2/pellet/antlr-runtime-3.2.jar:/usr/local/lib/python3.6/dist-packages/owlready2/pellet/pellet-2.3.1.jar:/usr/local/lib/python3.6/dist-packages/owlready2/pellet/httpcore-4.2.2.jar:/usr/local/lib/python3.6/dist-packages/owlready2/pellet/slf4j-log4j12-1.6.4.jar:/usr/local/lib/python3.6/dist-packages/owlready2/pellet/commons-codec-1.6.jar:/usr/local/lib/python3.6/dist-packages/owlready2/pellet/owlapi-distribution-3.4.3-bin.jar:/usr/local/lib/python3.6/dist-packages/owlready2/pellet/aterm-java-1.6.jar:/usr/local/lib/python3.6/dist-packages/owlready2/pellet/xercesImpl-2.10.0.jar:/usr/local/lib/python3.6/dist-packages/owlready2/pellet/antlr-3.2.jar:/usr/local/lib/python3.6/dist-packages/owlready2/pellet/jgrapht-jdk1.5.jar:/usr/local/lib/python3.6/dist-packages/owlready2/pellet/xml-apis-1.4.01.jar:/usr/local/lib/python3.6/dist-packages/owlready2/pellet/httpclient-4.2.3.jar:/usr/local/lib/python3.6/dist-packages/owlready2/pellet/slf4j-api-1.6.4.jar:/usr/local/lib/python3.6/dist-packages/owlready2/pellet/jena-arq-2.10.0.jar:/usr/local/lib/python3.6/dist-packages/owlready2/pellet/jena-tdb-0.10.0.jar:/usr/local/lib/python3.6/dist-packages/owlready2/pellet/jena-iri-0.9.5.jar pellet.Pellet realize --loader Jena --input-format N-Triples --infer-prop-values --ignore-imports /tmp/tmpxqvo9owb\n"
          ],
          "name": "stderr"
        },
        {
          "output_type": "stream",
          "text": [
            "je suis un carnivore !\n",
            "je suis un carnivore !\n",
            "je suis un animal !\n"
          ],
          "name": "stdout"
        },
        {
          "output_type": "stream",
          "text": [
            "* Owlready2 * Pellet took 1.5493004322052002 seconds\n",
            "* Owlready * Equivalenting: monontologie.nonsense owl.Nothing\n",
            "* Owlready * Equivalenting: owl.Nothing monontologie.nonsense\n",
            "* Owlready * Reparenting Amazone_Ontology.also_bought: {owl.ObjectProperty} => {owl.Thing}\n",
            "* Owlready * Reparenting monontologie.GrandMangeur: {owl.Thing} => {monontologie.carnivore}\n",
            "* Owlready * (NB: only changes on entities loaded in Python are shown, other changes are done but not listed)\n"
          ],
          "name": "stderr"
        }
      ]
    },
    {
      "cell_type": "code",
      "metadata": {
        "id": "LDqC8qqytp_9",
        "colab_type": "code",
        "colab": {}
      },
      "source": [
        "a1 = Animal()\n",
        "a2 = Animal()\n",
        "a3 = Animal()\n",
        "a4 = Animal()\n",
        "\n",
        "Lion.mange = [a1,a2,a3,a4]"
      ],
      "execution_count": 30,
      "outputs": []
    },
    {
      "cell_type": "markdown",
      "metadata": {
        "id": "zHQnlxjwv6w7",
        "colab_type": "text"
      },
      "source": [
        "Logiquement ici le lion devrait se présenter comme étant un grand mangueur par la phrase \"j'ai encore faim\" étant donné qu'il mange les animaux a1,a2,a3,a4."
      ]
    },
    {
      "cell_type": "code",
      "metadata": {
        "id": "SXTdnS0Dt9S5",
        "colab_type": "code",
        "colab": {
          "base_uri": "https://localhost:8080/",
          "height": 190
        },
        "outputId": "fd5c82ad-b53b-4e44-9a7d-ee61eaf2e3e2"
      },
      "source": [
        "with onto:\n",
        "    sync_reasoner_pellet(infer_property_values = True)\n",
        "Lion.presente_toi()\n",
        "Tigre.presente_toi()\n",
        "Brebis.presente_toi()"
      ],
      "execution_count": 31,
      "outputs": [
        {
          "output_type": "stream",
          "text": [
            "* Owlready2 * Running Pellet...\n",
            "    java -Xmx2000M -cp /usr/local/lib/python3.6/dist-packages/owlready2/pellet/jena-core-2.10.0.jar:/usr/local/lib/python3.6/dist-packages/owlready2/pellet/log4j-1.2.16.jar:/usr/local/lib/python3.6/dist-packages/owlready2/pellet/jcl-over-slf4j-1.6.4.jar:/usr/local/lib/python3.6/dist-packages/owlready2/pellet/antlr-runtime-3.2.jar:/usr/local/lib/python3.6/dist-packages/owlready2/pellet/pellet-2.3.1.jar:/usr/local/lib/python3.6/dist-packages/owlready2/pellet/httpcore-4.2.2.jar:/usr/local/lib/python3.6/dist-packages/owlready2/pellet/slf4j-log4j12-1.6.4.jar:/usr/local/lib/python3.6/dist-packages/owlready2/pellet/commons-codec-1.6.jar:/usr/local/lib/python3.6/dist-packages/owlready2/pellet/owlapi-distribution-3.4.3-bin.jar:/usr/local/lib/python3.6/dist-packages/owlready2/pellet/aterm-java-1.6.jar:/usr/local/lib/python3.6/dist-packages/owlready2/pellet/xercesImpl-2.10.0.jar:/usr/local/lib/python3.6/dist-packages/owlready2/pellet/antlr-3.2.jar:/usr/local/lib/python3.6/dist-packages/owlready2/pellet/jgrapht-jdk1.5.jar:/usr/local/lib/python3.6/dist-packages/owlready2/pellet/xml-apis-1.4.01.jar:/usr/local/lib/python3.6/dist-packages/owlready2/pellet/httpclient-4.2.3.jar:/usr/local/lib/python3.6/dist-packages/owlready2/pellet/slf4j-api-1.6.4.jar:/usr/local/lib/python3.6/dist-packages/owlready2/pellet/jena-arq-2.10.0.jar:/usr/local/lib/python3.6/dist-packages/owlready2/pellet/jena-tdb-0.10.0.jar:/usr/local/lib/python3.6/dist-packages/owlready2/pellet/jena-iri-0.9.5.jar pellet.Pellet realize --loader Jena --input-format N-Triples --infer-prop-values --ignore-imports /tmp/tmpir7x3086\n"
          ],
          "name": "stderr"
        },
        {
          "output_type": "stream",
          "text": [
            "je suis un carnivore !\n",
            "je suis un carnivore !\n",
            "je suis un animal !\n"
          ],
          "name": "stdout"
        },
        {
          "output_type": "stream",
          "text": [
            "* Owlready2 * Pellet took 1.4167251586914062 seconds\n",
            "* Owlready * Equivalenting: monontologie.nonsense owl.Nothing\n",
            "* Owlready * Equivalenting: owl.Nothing monontologie.nonsense\n",
            "* Owlready * (NB: only changes on entities loaded in Python are shown, other changes are done but not listed)\n"
          ],
          "name": "stderr"
        }
      ]
    },
    {
      "cell_type": "markdown",
      "metadata": {
        "id": "OmBR6ZD9wDUN",
        "colab_type": "text"
      },
      "source": [
        "Comme on peut le voire ce n'est pas le cas et la raison de cela est simple : \n",
        "Nous n'avons pas précisé que les 4 Animaux sont distinces et dans l'abscence de précision l'hypothèse du monde ouvert fait que cela reste une possibilité, ainsi, [a1,a2,a3,a4] ne sont que des noms que nous avons donné a des individus mais rien ne les empechaient de désigner tous le même individu en réalité \\\\\n",
        "Afin d'obtenir le résultat escompté nous devons préciser que les 4 individus sont distincts les uns des autres."
      ]
    },
    {
      "cell_type": "code",
      "metadata": {
        "id": "UZxKoZlit-vL",
        "colab_type": "code",
        "colab": {
          "base_uri": "https://localhost:8080/",
          "height": 34
        },
        "outputId": "3eb545e7-bc72-4ba1-b393-795383234ab2"
      },
      "source": [
        "AllDifferent([a1,a2,a3,a4])"
      ],
      "execution_count": 32,
      "outputs": [
        {
          "output_type": "execute_result",
          "data": {
            "text/plain": [
              "AllDisjoint([monontologie.animal3, monontologie.animal4, monontologie.animal5, monontologie.animal6])"
            ]
          },
          "metadata": {
            "tags": []
          },
          "execution_count": 32
        }
      ]
    },
    {
      "cell_type": "code",
      "metadata": {
        "id": "U7ywfJlVuDXa",
        "colab_type": "code",
        "colab": {
          "base_uri": "https://localhost:8080/",
          "height": 207
        },
        "outputId": "7d765957-8048-4a60-bf0d-2439f5517d13"
      },
      "source": [
        "with onto:\n",
        "    sync_reasoner_pellet(infer_property_values = True)\n",
        "Lion.presente_toi()\n",
        "Tigre.presente_toi()\n",
        "Brebis.presente_toi()"
      ],
      "execution_count": 33,
      "outputs": [
        {
          "output_type": "stream",
          "text": [
            "* Owlready2 * Running Pellet...\n",
            "    java -Xmx2000M -cp /usr/local/lib/python3.6/dist-packages/owlready2/pellet/jena-core-2.10.0.jar:/usr/local/lib/python3.6/dist-packages/owlready2/pellet/log4j-1.2.16.jar:/usr/local/lib/python3.6/dist-packages/owlready2/pellet/jcl-over-slf4j-1.6.4.jar:/usr/local/lib/python3.6/dist-packages/owlready2/pellet/antlr-runtime-3.2.jar:/usr/local/lib/python3.6/dist-packages/owlready2/pellet/pellet-2.3.1.jar:/usr/local/lib/python3.6/dist-packages/owlready2/pellet/httpcore-4.2.2.jar:/usr/local/lib/python3.6/dist-packages/owlready2/pellet/slf4j-log4j12-1.6.4.jar:/usr/local/lib/python3.6/dist-packages/owlready2/pellet/commons-codec-1.6.jar:/usr/local/lib/python3.6/dist-packages/owlready2/pellet/owlapi-distribution-3.4.3-bin.jar:/usr/local/lib/python3.6/dist-packages/owlready2/pellet/aterm-java-1.6.jar:/usr/local/lib/python3.6/dist-packages/owlready2/pellet/xercesImpl-2.10.0.jar:/usr/local/lib/python3.6/dist-packages/owlready2/pellet/antlr-3.2.jar:/usr/local/lib/python3.6/dist-packages/owlready2/pellet/jgrapht-jdk1.5.jar:/usr/local/lib/python3.6/dist-packages/owlready2/pellet/xml-apis-1.4.01.jar:/usr/local/lib/python3.6/dist-packages/owlready2/pellet/httpclient-4.2.3.jar:/usr/local/lib/python3.6/dist-packages/owlready2/pellet/slf4j-api-1.6.4.jar:/usr/local/lib/python3.6/dist-packages/owlready2/pellet/jena-arq-2.10.0.jar:/usr/local/lib/python3.6/dist-packages/owlready2/pellet/jena-tdb-0.10.0.jar:/usr/local/lib/python3.6/dist-packages/owlready2/pellet/jena-iri-0.9.5.jar pellet.Pellet realize --loader Jena --input-format N-Triples --infer-prop-values --ignore-imports /tmp/tmpbzz7te0c\n"
          ],
          "name": "stderr"
        },
        {
          "output_type": "stream",
          "text": [
            "j'ai encore faim !\n",
            "je suis un carnivore !\n",
            "je suis un animal !\n"
          ],
          "name": "stdout"
        },
        {
          "output_type": "stream",
          "text": [
            "* Owlready2 * Pellet took 1.4732894897460938 seconds\n",
            "* Owlready * Equivalenting: monontologie.nonsense owl.Nothing\n",
            "* Owlready * Equivalenting: owl.Nothing monontologie.nonsense\n",
            "* Owlready * Reparenting monontologie.animal1: {monontologie.carnivore} => {monontologie.GrandMangeur}\n",
            "* Owlready * (NB: only changes on entities loaded in Python are shown, other changes are done but not listed)\n"
          ],
          "name": "stderr"
        }
      ]
    },
    {
      "cell_type": "markdown",
      "metadata": {
        "id": "OCWfCdmcwu45",
        "colab_type": "text"
      },
      "source": [
        "### Deuxieme exemple : une restriction de type only\n",
        "Deuxieme chose que nous pouvons remarquer, la brebis devrait se présenter comme herbivore étant donné qu'elle ne mange que des plantes dans cette base de faits, cependant la encore l'hypothèse du monde ouvert ne permet pas cette conclusion. \\\\\n",
        "En effet, nous n'avons certe pas précisé que la brebis mange autre chose que des plantes mais nous n'avons pas non plus précisé le contraire, une façon simple de remedier a ce probléme est tout simplement de \"fermer\" l'indvidu ce qui aura pour effet de considérer que tout ce qui n'a pas été défini comme vrai est de-facto faux. \\\\"
      ]
    },
    {
      "cell_type": "code",
      "metadata": {
        "id": "kQrA70lVuE5M",
        "colab_type": "code",
        "colab": {}
      },
      "source": [
        "close_world(Brebis)"
      ],
      "execution_count": 34,
      "outputs": []
    },
    {
      "cell_type": "code",
      "metadata": {
        "id": "qrhmW2EGu4a0",
        "colab_type": "code",
        "colab": {
          "base_uri": "https://localhost:8080/",
          "height": 190
        },
        "outputId": "b66d2eee-4fdc-406f-ec97-36bb07f6416a"
      },
      "source": [
        "with onto:\n",
        "    sync_reasoner_pellet(infer_property_values = True)\n",
        "Lion.presente_toi()\n",
        "Tigre.presente_toi()\n",
        "Brebis.presente_toi()"
      ],
      "execution_count": 37,
      "outputs": [
        {
          "output_type": "stream",
          "text": [
            "* Owlready2 * Running Pellet...\n",
            "    java -Xmx2000M -cp /usr/local/lib/python3.6/dist-packages/owlready2/pellet/jena-core-2.10.0.jar:/usr/local/lib/python3.6/dist-packages/owlready2/pellet/log4j-1.2.16.jar:/usr/local/lib/python3.6/dist-packages/owlready2/pellet/jcl-over-slf4j-1.6.4.jar:/usr/local/lib/python3.6/dist-packages/owlready2/pellet/antlr-runtime-3.2.jar:/usr/local/lib/python3.6/dist-packages/owlready2/pellet/pellet-2.3.1.jar:/usr/local/lib/python3.6/dist-packages/owlready2/pellet/httpcore-4.2.2.jar:/usr/local/lib/python3.6/dist-packages/owlready2/pellet/slf4j-log4j12-1.6.4.jar:/usr/local/lib/python3.6/dist-packages/owlready2/pellet/commons-codec-1.6.jar:/usr/local/lib/python3.6/dist-packages/owlready2/pellet/owlapi-distribution-3.4.3-bin.jar:/usr/local/lib/python3.6/dist-packages/owlready2/pellet/aterm-java-1.6.jar:/usr/local/lib/python3.6/dist-packages/owlready2/pellet/xercesImpl-2.10.0.jar:/usr/local/lib/python3.6/dist-packages/owlready2/pellet/antlr-3.2.jar:/usr/local/lib/python3.6/dist-packages/owlready2/pellet/jgrapht-jdk1.5.jar:/usr/local/lib/python3.6/dist-packages/owlready2/pellet/xml-apis-1.4.01.jar:/usr/local/lib/python3.6/dist-packages/owlready2/pellet/httpclient-4.2.3.jar:/usr/local/lib/python3.6/dist-packages/owlready2/pellet/slf4j-api-1.6.4.jar:/usr/local/lib/python3.6/dist-packages/owlready2/pellet/jena-arq-2.10.0.jar:/usr/local/lib/python3.6/dist-packages/owlready2/pellet/jena-tdb-0.10.0.jar:/usr/local/lib/python3.6/dist-packages/owlready2/pellet/jena-iri-0.9.5.jar pellet.Pellet realize --loader Jena --input-format N-Triples --infer-prop-values --ignore-imports /tmp/tmpe2vz0kse\n"
          ],
          "name": "stderr"
        },
        {
          "output_type": "stream",
          "text": [
            "j'ai encore faim !\n",
            "je suis un carnivore !\n",
            "je suis un herbivore !\n"
          ],
          "name": "stdout"
        },
        {
          "output_type": "stream",
          "text": [
            "* Owlready2 * Pellet took 1.356137990951538 seconds\n",
            "* Owlready * Equivalenting: monontologie.nonsense owl.Nothing\n",
            "* Owlready * Equivalenting: owl.Nothing monontologie.nonsense\n",
            "* Owlready * (NB: only changes on entities loaded in Python are shown, other changes are done but not listed)\n"
          ],
          "name": "stderr"
        }
      ]
    },
    {
      "cell_type": "markdown",
      "metadata": {
        "id": "tBlY7ZT-xMWl",
        "colab_type": "text"
      },
      "source": [
        "Et la donc on voit bien que la brebis se présente comme herbivore.\n",
        "\n",
        "(Merci a Salim Aissi et a Xenom qui m'ont aidé dans la rédaction de cette partie) "
      ]
    },
    {
      "cell_type": "code",
      "metadata": {
        "id": "q1ywvkbxu5DB",
        "colab_type": "code",
        "colab": {}
      },
      "source": [
        ""
      ],
      "execution_count": null,
      "outputs": []
    }
  ]
}